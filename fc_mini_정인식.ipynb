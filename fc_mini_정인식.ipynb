{
 "cells": [
  {
   "cell_type": "markdown",
   "id": "6979b7ef",
   "metadata": {},
   "source": [
    "# Fastcampus Data EDA"
   ]
  },
  {
   "cell_type": "code",
   "execution_count": 1,
   "id": "9949ef9c",
   "metadata": {
    "ExecuteTime": {
     "end_time": "2022-05-10T00:51:52.245911Z",
     "start_time": "2022-05-10T00:51:50.907521Z"
    }
   },
   "outputs": [],
   "source": [
    "import numpy as np\n",
    "import pandas as pd\n",
    "import matplotlib.pyplot as plt\n",
    "import seaborn as sns"
   ]
  },
  {
   "cell_type": "code",
   "execution_count": 2,
   "id": "f86798df",
   "metadata": {
    "ExecuteTime": {
     "end_time": "2022-05-10T00:52:17.402531Z",
     "start_time": "2022-05-10T00:51:54.242405Z"
    }
   },
   "outputs": [],
   "source": [
    "url = 'FC_data1.xlsx'\n",
    "data = pd.read_excel(url)"
   ]
  },
  {
   "cell_type": "code",
   "execution_count": 3,
   "id": "2a473b92",
   "metadata": {
    "ExecuteTime": {
     "end_time": "2022-05-10T00:52:17.406344Z",
     "start_time": "2022-05-10T00:52:17.404081Z"
    }
   },
   "outputs": [],
   "source": [
    "plt.rc('font', family='AppleGothic') \n",
    "plt.rcParams['axes.unicode_minus'] = False"
   ]
  },
  {
   "cell_type": "code",
   "execution_count": 4,
   "id": "bac63b81",
   "metadata": {
    "ExecuteTime": {
     "end_time": "2022-05-10T00:52:17.445031Z",
     "start_time": "2022-05-10T00:52:17.407823Z"
    }
   },
   "outputs": [
    {
     "data": {
      "text/html": [
       "<div>\n",
       "<style scoped>\n",
       "    .dataframe tbody tr th:only-of-type {\n",
       "        vertical-align: middle;\n",
       "    }\n",
       "\n",
       "    .dataframe tbody tr th {\n",
       "        vertical-align: top;\n",
       "    }\n",
       "\n",
       "    .dataframe thead th {\n",
       "        text-align: right;\n",
       "    }\n",
       "</style>\n",
       "<table border=\"1\" class=\"dataframe\">\n",
       "  <thead>\n",
       "    <tr style=\"text-align: right;\">\n",
       "      <th></th>\n",
       "      <th>id</th>\n",
       "      <th>customer_id</th>\n",
       "      <th>course_id</th>\n",
       "      <th>type</th>\n",
       "      <th>state</th>\n",
       "      <th>course_title</th>\n",
       "      <th>category_title</th>\n",
       "      <th>format</th>\n",
       "      <th>completed_at</th>\n",
       "      <th>transaction_amount</th>\n",
       "      <th>coupon_title</th>\n",
       "      <th>coupon_discount_amount</th>\n",
       "      <th>sale_price</th>\n",
       "      <th>tax_free_amount</th>\n",
       "      <th>pg</th>\n",
       "      <th>method</th>\n",
       "      <th>subcategory_title</th>\n",
       "      <th>marketing_start_at</th>\n",
       "    </tr>\n",
       "  </thead>\n",
       "  <tbody>\n",
       "    <tr>\n",
       "      <th>0</th>\n",
       "      <td>970634.0</td>\n",
       "      <td>504760.0</td>\n",
       "      <td>201435.0</td>\n",
       "      <td>ORDER</td>\n",
       "      <td>CANCELLED</td>\n",
       "      <td>올인원 패키지 : 알고리즘 기술면접 완전 정복</td>\n",
       "      <td>프로그래밍</td>\n",
       "      <td>올인원</td>\n",
       "      <td>2021-03-28 15:00:11</td>\n",
       "      <td>90500.0</td>\n",
       "      <td>NaN</td>\n",
       "      <td>NaN</td>\n",
       "      <td>110500.0</td>\n",
       "      <td>110500.0</td>\n",
       "      <td>NaN</td>\n",
       "      <td>VBANK</td>\n",
       "      <td>개발자 커리어</td>\n",
       "      <td>NaT</td>\n",
       "    </tr>\n",
       "    <tr>\n",
       "      <th>1</th>\n",
       "      <td>970650.0</td>\n",
       "      <td>432862.0</td>\n",
       "      <td>203178.0</td>\n",
       "      <td>ORDER</td>\n",
       "      <td>CANCELLED</td>\n",
       "      <td>초격차 패키지 : 한번에 끝내는 영상 촬영과 편집</td>\n",
       "      <td>영상/3D</td>\n",
       "      <td>올인원</td>\n",
       "      <td>2021-03-28 15:16:53</td>\n",
       "      <td>96000.0</td>\n",
       "      <td>NaN</td>\n",
       "      <td>NaN</td>\n",
       "      <td>116000.0</td>\n",
       "      <td>116000.0</td>\n",
       "      <td>NaN</td>\n",
       "      <td>CARD</td>\n",
       "      <td>영상 편집</td>\n",
       "      <td>2020-12-02</td>\n",
       "    </tr>\n",
       "    <tr>\n",
       "      <th>2</th>\n",
       "      <td>970657.0</td>\n",
       "      <td>72297.0</td>\n",
       "      <td>204246.0</td>\n",
       "      <td>PAYMENT</td>\n",
       "      <td>COMPLETED</td>\n",
       "      <td>시크릿코드 : 프론트엔드 실무 완성편</td>\n",
       "      <td>프로그래밍</td>\n",
       "      <td>스쿨 온라인</td>\n",
       "      <td>2021-03-28 15:21:43</td>\n",
       "      <td>171810.0</td>\n",
       "      <td>[10% 할인] 시크릿코드 실무 완성편</td>\n",
       "      <td>19090.0</td>\n",
       "      <td>190900.0</td>\n",
       "      <td>190900.0</td>\n",
       "      <td>NaN</td>\n",
       "      <td>CARD</td>\n",
       "      <td>NaN</td>\n",
       "      <td>2021-03-04</td>\n",
       "    </tr>\n",
       "    <tr>\n",
       "      <th>3</th>\n",
       "      <td>970656.0</td>\n",
       "      <td>72297.0</td>\n",
       "      <td>204246.0</td>\n",
       "      <td>ORDER</td>\n",
       "      <td>CANCELLED</td>\n",
       "      <td>시크릿코드 : 프론트엔드 실무 완성편</td>\n",
       "      <td>프로그래밍</td>\n",
       "      <td>스쿨 온라인</td>\n",
       "      <td>2021-03-28 15:21:43</td>\n",
       "      <td>171810.0</td>\n",
       "      <td>NaN</td>\n",
       "      <td>NaN</td>\n",
       "      <td>190900.0</td>\n",
       "      <td>190900.0</td>\n",
       "      <td>NaN</td>\n",
       "      <td>CARD</td>\n",
       "      <td>NaN</td>\n",
       "      <td>2021-03-04</td>\n",
       "    </tr>\n",
       "    <tr>\n",
       "      <th>4</th>\n",
       "      <td>970658.0</td>\n",
       "      <td>478028.0</td>\n",
       "      <td>201797.0</td>\n",
       "      <td>PAYMENT</td>\n",
       "      <td>COMPLETED</td>\n",
       "      <td>올인원 패키지 : 직장인 필수 스킬 3종 세트 MAX</td>\n",
       "      <td>업무 생산성</td>\n",
       "      <td>올인원</td>\n",
       "      <td>2021-03-28 15:21:54</td>\n",
       "      <td>97500.0</td>\n",
       "      <td>[웰컴쿠폰] 올인원 패키지 2만원 할인 쿠폰</td>\n",
       "      <td>20000.0</td>\n",
       "      <td>117500.0</td>\n",
       "      <td>117500.0</td>\n",
       "      <td>NaN</td>\n",
       "      <td>CARD</td>\n",
       "      <td>PPT/보고서</td>\n",
       "      <td>2019-11-14</td>\n",
       "    </tr>\n",
       "  </tbody>\n",
       "</table>\n",
       "</div>"
      ],
      "text/plain": [
       "         id  customer_id  course_id     type      state  \\\n",
       "0  970634.0     504760.0   201435.0    ORDER  CANCELLED   \n",
       "1  970650.0     432862.0   203178.0    ORDER  CANCELLED   \n",
       "2  970657.0      72297.0   204246.0  PAYMENT  COMPLETED   \n",
       "3  970656.0      72297.0   204246.0    ORDER  CANCELLED   \n",
       "4  970658.0     478028.0   201797.0  PAYMENT  COMPLETED   \n",
       "\n",
       "                    course_title category_title  format        completed_at  \\\n",
       "0      올인원 패키지 : 알고리즘 기술면접 완전 정복          프로그래밍     올인원 2021-03-28 15:00:11   \n",
       "1    초격차 패키지 : 한번에 끝내는 영상 촬영과 편집          영상/3D     올인원 2021-03-28 15:16:53   \n",
       "2           시크릿코드 : 프론트엔드 실무 완성편          프로그래밍  스쿨 온라인 2021-03-28 15:21:43   \n",
       "3           시크릿코드 : 프론트엔드 실무 완성편          프로그래밍  스쿨 온라인 2021-03-28 15:21:43   \n",
       "4  올인원 패키지 : 직장인 필수 스킬 3종 세트 MAX         업무 생산성     올인원 2021-03-28 15:21:54   \n",
       "\n",
       "   transaction_amount              coupon_title  coupon_discount_amount  \\\n",
       "0             90500.0                       NaN                     NaN   \n",
       "1             96000.0                       NaN                     NaN   \n",
       "2            171810.0     [10% 할인] 시크릿코드 실무 완성편                 19090.0   \n",
       "3            171810.0                       NaN                     NaN   \n",
       "4             97500.0  [웰컴쿠폰] 올인원 패키지 2만원 할인 쿠폰                 20000.0   \n",
       "\n",
       "   sale_price  tax_free_amount   pg method subcategory_title  \\\n",
       "0    110500.0         110500.0  NaN  VBANK           개발자 커리어   \n",
       "1    116000.0         116000.0  NaN   CARD             영상 편집   \n",
       "2    190900.0         190900.0  NaN   CARD               NaN   \n",
       "3    190900.0         190900.0  NaN   CARD               NaN   \n",
       "4    117500.0         117500.0  NaN   CARD           PPT/보고서   \n",
       "\n",
       "  marketing_start_at  \n",
       "0                NaT  \n",
       "1         2020-12-02  \n",
       "2         2021-03-04  \n",
       "3         2021-03-04  \n",
       "4         2019-11-14  "
      ]
     },
     "execution_count": 4,
     "metadata": {},
     "output_type": "execute_result"
    }
   ],
   "source": [
    "data.head()"
   ]
  },
  {
   "cell_type": "code",
   "execution_count": 5,
   "id": "15dd18e7",
   "metadata": {
    "ExecuteTime": {
     "end_time": "2022-05-10T00:52:17.562391Z",
     "start_time": "2022-05-10T00:52:17.448877Z"
    },
    "scrolled": true
   },
   "outputs": [
    {
     "name": "stdout",
     "output_type": "stream",
     "text": [
      "<class 'pandas.core.frame.DataFrame'>\n",
      "RangeIndex: 105419 entries, 0 to 105418\n",
      "Data columns (total 18 columns):\n",
      " #   Column                  Non-Null Count   Dtype         \n",
      "---  ------                  --------------   -----         \n",
      " 0   id                      105419 non-null  float64       \n",
      " 1   customer_id             105416 non-null  float64       \n",
      " 2   course_id               100212 non-null  float64       \n",
      " 3   type                    105419 non-null  object        \n",
      " 4   state                   105419 non-null  object        \n",
      " 5   course_title            105403 non-null  object        \n",
      " 6   category_title          105395 non-null  object        \n",
      " 7   format                  105403 non-null  object        \n",
      " 8   completed_at            105419 non-null  datetime64[ns]\n",
      " 9   transaction_amount      105419 non-null  float64       \n",
      " 10  coupon_title            31817 non-null   object        \n",
      " 11  coupon_discount_amount  31817 non-null   float64       \n",
      " 12  sale_price              104291 non-null  float64       \n",
      " 13  tax_free_amount         104291 non-null  float64       \n",
      " 14  pg                      90344 non-null   object        \n",
      " 15  method                  92323 non-null   object        \n",
      " 16  subcategory_title       85590 non-null   object        \n",
      " 17  marketing_start_at      87440 non-null   datetime64[ns]\n",
      "dtypes: datetime64[ns](2), float64(7), object(9)\n",
      "memory usage: 14.5+ MB\n"
     ]
    }
   ],
   "source": [
    "data.info()"
   ]
  },
  {
   "cell_type": "markdown",
   "id": "58b31661",
   "metadata": {},
   "source": [
    "# 1 . 불필요한 값 제거 \n",
    "tax_free_amount 컬럼 보안 이슈로 삭제, type 컬럼의 ORDER, TRANSACTION 속성, state컬럼의 PEDNING, CANCELLED, HIDDEN, DELETE 속성은 보안 이슈로 삭제"
   ]
  },
  {
   "cell_type": "code",
   "execution_count": 6,
   "id": "083ef90b",
   "metadata": {
    "ExecuteTime": {
     "end_time": "2022-05-10T00:55:23.728001Z",
     "start_time": "2022-05-10T00:55:23.684605Z"
    },
    "scrolled": true
   },
   "outputs": [
    {
     "data": {
      "text/html": [
       "<div>\n",
       "<style scoped>\n",
       "    .dataframe tbody tr th:only-of-type {\n",
       "        vertical-align: middle;\n",
       "    }\n",
       "\n",
       "    .dataframe tbody tr th {\n",
       "        vertical-align: top;\n",
       "    }\n",
       "\n",
       "    .dataframe thead th {\n",
       "        text-align: right;\n",
       "    }\n",
       "</style>\n",
       "<table border=\"1\" class=\"dataframe\">\n",
       "  <thead>\n",
       "    <tr style=\"text-align: right;\">\n",
       "      <th></th>\n",
       "      <th>id</th>\n",
       "      <th>customer_id</th>\n",
       "      <th>course_id</th>\n",
       "      <th>type</th>\n",
       "      <th>state</th>\n",
       "      <th>course_title</th>\n",
       "      <th>category_title</th>\n",
       "      <th>format</th>\n",
       "      <th>completed_at</th>\n",
       "      <th>transaction_amount</th>\n",
       "      <th>coupon_title</th>\n",
       "      <th>coupon_discount_amount</th>\n",
       "      <th>sale_price</th>\n",
       "      <th>pg</th>\n",
       "      <th>method</th>\n",
       "      <th>subcategory_title</th>\n",
       "      <th>marketing_start_at</th>\n",
       "    </tr>\n",
       "  </thead>\n",
       "  <tbody>\n",
       "    <tr>\n",
       "      <th>0</th>\n",
       "      <td>970634.0</td>\n",
       "      <td>504760.0</td>\n",
       "      <td>201435.0</td>\n",
       "      <td>ORDER</td>\n",
       "      <td>CANCELLED</td>\n",
       "      <td>올인원 패키지 : 알고리즘 기술면접 완전 정복</td>\n",
       "      <td>프로그래밍</td>\n",
       "      <td>올인원</td>\n",
       "      <td>2021-03-28 15:00:11</td>\n",
       "      <td>90500.0</td>\n",
       "      <td>NaN</td>\n",
       "      <td>NaN</td>\n",
       "      <td>110500.0</td>\n",
       "      <td>NaN</td>\n",
       "      <td>VBANK</td>\n",
       "      <td>개발자 커리어</td>\n",
       "      <td>NaT</td>\n",
       "    </tr>\n",
       "    <tr>\n",
       "      <th>1</th>\n",
       "      <td>970650.0</td>\n",
       "      <td>432862.0</td>\n",
       "      <td>203178.0</td>\n",
       "      <td>ORDER</td>\n",
       "      <td>CANCELLED</td>\n",
       "      <td>초격차 패키지 : 한번에 끝내는 영상 촬영과 편집</td>\n",
       "      <td>영상/3D</td>\n",
       "      <td>올인원</td>\n",
       "      <td>2021-03-28 15:16:53</td>\n",
       "      <td>96000.0</td>\n",
       "      <td>NaN</td>\n",
       "      <td>NaN</td>\n",
       "      <td>116000.0</td>\n",
       "      <td>NaN</td>\n",
       "      <td>CARD</td>\n",
       "      <td>영상 편집</td>\n",
       "      <td>2020-12-02</td>\n",
       "    </tr>\n",
       "    <tr>\n",
       "      <th>2</th>\n",
       "      <td>970657.0</td>\n",
       "      <td>72297.0</td>\n",
       "      <td>204246.0</td>\n",
       "      <td>PAYMENT</td>\n",
       "      <td>COMPLETED</td>\n",
       "      <td>시크릿코드 : 프론트엔드 실무 완성편</td>\n",
       "      <td>프로그래밍</td>\n",
       "      <td>스쿨 온라인</td>\n",
       "      <td>2021-03-28 15:21:43</td>\n",
       "      <td>171810.0</td>\n",
       "      <td>[10% 할인] 시크릿코드 실무 완성편</td>\n",
       "      <td>19090.0</td>\n",
       "      <td>190900.0</td>\n",
       "      <td>NaN</td>\n",
       "      <td>CARD</td>\n",
       "      <td>NaN</td>\n",
       "      <td>2021-03-04</td>\n",
       "    </tr>\n",
       "    <tr>\n",
       "      <th>3</th>\n",
       "      <td>970656.0</td>\n",
       "      <td>72297.0</td>\n",
       "      <td>204246.0</td>\n",
       "      <td>ORDER</td>\n",
       "      <td>CANCELLED</td>\n",
       "      <td>시크릿코드 : 프론트엔드 실무 완성편</td>\n",
       "      <td>프로그래밍</td>\n",
       "      <td>스쿨 온라인</td>\n",
       "      <td>2021-03-28 15:21:43</td>\n",
       "      <td>171810.0</td>\n",
       "      <td>NaN</td>\n",
       "      <td>NaN</td>\n",
       "      <td>190900.0</td>\n",
       "      <td>NaN</td>\n",
       "      <td>CARD</td>\n",
       "      <td>NaN</td>\n",
       "      <td>2021-03-04</td>\n",
       "    </tr>\n",
       "    <tr>\n",
       "      <th>4</th>\n",
       "      <td>970658.0</td>\n",
       "      <td>478028.0</td>\n",
       "      <td>201797.0</td>\n",
       "      <td>PAYMENT</td>\n",
       "      <td>COMPLETED</td>\n",
       "      <td>올인원 패키지 : 직장인 필수 스킬 3종 세트 MAX</td>\n",
       "      <td>업무 생산성</td>\n",
       "      <td>올인원</td>\n",
       "      <td>2021-03-28 15:21:54</td>\n",
       "      <td>97500.0</td>\n",
       "      <td>[웰컴쿠폰] 올인원 패키지 2만원 할인 쿠폰</td>\n",
       "      <td>20000.0</td>\n",
       "      <td>117500.0</td>\n",
       "      <td>NaN</td>\n",
       "      <td>CARD</td>\n",
       "      <td>PPT/보고서</td>\n",
       "      <td>2019-11-14</td>\n",
       "    </tr>\n",
       "  </tbody>\n",
       "</table>\n",
       "</div>"
      ],
      "text/plain": [
       "         id  customer_id  course_id     type      state  \\\n",
       "0  970634.0     504760.0   201435.0    ORDER  CANCELLED   \n",
       "1  970650.0     432862.0   203178.0    ORDER  CANCELLED   \n",
       "2  970657.0      72297.0   204246.0  PAYMENT  COMPLETED   \n",
       "3  970656.0      72297.0   204246.0    ORDER  CANCELLED   \n",
       "4  970658.0     478028.0   201797.0  PAYMENT  COMPLETED   \n",
       "\n",
       "                    course_title category_title  format        completed_at  \\\n",
       "0      올인원 패키지 : 알고리즘 기술면접 완전 정복          프로그래밍     올인원 2021-03-28 15:00:11   \n",
       "1    초격차 패키지 : 한번에 끝내는 영상 촬영과 편집          영상/3D     올인원 2021-03-28 15:16:53   \n",
       "2           시크릿코드 : 프론트엔드 실무 완성편          프로그래밍  스쿨 온라인 2021-03-28 15:21:43   \n",
       "3           시크릿코드 : 프론트엔드 실무 완성편          프로그래밍  스쿨 온라인 2021-03-28 15:21:43   \n",
       "4  올인원 패키지 : 직장인 필수 스킬 3종 세트 MAX         업무 생산성     올인원 2021-03-28 15:21:54   \n",
       "\n",
       "   transaction_amount              coupon_title  coupon_discount_amount  \\\n",
       "0             90500.0                       NaN                     NaN   \n",
       "1             96000.0                       NaN                     NaN   \n",
       "2            171810.0     [10% 할인] 시크릿코드 실무 완성편                 19090.0   \n",
       "3            171810.0                       NaN                     NaN   \n",
       "4             97500.0  [웰컴쿠폰] 올인원 패키지 2만원 할인 쿠폰                 20000.0   \n",
       "\n",
       "   sale_price   pg method subcategory_title marketing_start_at  \n",
       "0    110500.0  NaN  VBANK           개발자 커리어                NaT  \n",
       "1    116000.0  NaN   CARD             영상 편집         2020-12-02  \n",
       "2    190900.0  NaN   CARD               NaN         2021-03-04  \n",
       "3    190900.0  NaN   CARD               NaN         2021-03-04  \n",
       "4    117500.0  NaN   CARD           PPT/보고서         2019-11-14  "
      ]
     },
     "execution_count": 6,
     "metadata": {},
     "output_type": "execute_result"
    }
   ],
   "source": [
    "data_new = data.drop(['tax_free_amount'], axis=1) # Tax_free_amount 컬럼 제거\n",
    "data_new.head()"
   ]
  },
  {
   "cell_type": "code",
   "execution_count": 15,
   "id": "66214ca0",
   "metadata": {
    "ExecuteTime": {
     "end_time": "2022-05-10T01:00:35.752764Z",
     "start_time": "2022-05-10T01:00:35.719546Z"
    }
   },
   "outputs": [
    {
     "data": {
      "text/plain": [
       "CARD            66380\n",
       "VBANK            8540\n",
       "POINT            8084\n",
       "PROMOTION        4733\n",
       "TRANS            2732\n",
       "TRANSFER         1247\n",
       "ONSITE            599\n",
       "VOUCHER             5\n",
       "B2B_CONTRACT        3\n",
       "Name: method, dtype: int64"
      ]
     },
     "execution_count": 15,
     "metadata": {},
     "output_type": "execute_result"
    }
   ],
   "source": [
    "\n",
    "# cond = data_new.method == 'TRANS'  \n",
    "# data_new[cond]\n",
    "\n",
    "data_new['method'].value_counts() # Method 컬럼의 속성 카운트 출력"
   ]
  },
  {
   "cell_type": "code",
   "execution_count": 23,
   "id": "d39e376a",
   "metadata": {
    "ExecuteTime": {
     "end_time": "2022-05-10T01:04:40.090262Z",
     "start_time": "2022-05-10T01:04:39.906138Z"
    }
   },
   "outputs": [
    {
     "data": {
      "text/html": [
       "<div>\n",
       "<style scoped>\n",
       "    .dataframe tbody tr th:only-of-type {\n",
       "        vertical-align: middle;\n",
       "    }\n",
       "\n",
       "    .dataframe tbody tr th {\n",
       "        vertical-align: top;\n",
       "    }\n",
       "\n",
       "    .dataframe thead th {\n",
       "        text-align: right;\n",
       "    }\n",
       "</style>\n",
       "<table border=\"1\" class=\"dataframe\">\n",
       "  <thead>\n",
       "    <tr style=\"text-align: right;\">\n",
       "      <th></th>\n",
       "      <th>id</th>\n",
       "      <th>customer_id</th>\n",
       "      <th>course_id</th>\n",
       "      <th>type</th>\n",
       "      <th>state</th>\n",
       "      <th>course_title</th>\n",
       "      <th>category_title</th>\n",
       "      <th>format</th>\n",
       "      <th>completed_at</th>\n",
       "      <th>transaction_amount</th>\n",
       "      <th>coupon_title</th>\n",
       "      <th>coupon_discount_amount</th>\n",
       "      <th>sale_price</th>\n",
       "      <th>pg</th>\n",
       "      <th>method</th>\n",
       "      <th>subcategory_title</th>\n",
       "      <th>marketing_start_at</th>\n",
       "    </tr>\n",
       "  </thead>\n",
       "  <tbody>\n",
       "    <tr>\n",
       "      <th>2</th>\n",
       "      <td>970657.0</td>\n",
       "      <td>72297.0</td>\n",
       "      <td>204246.0</td>\n",
       "      <td>PAYMENT</td>\n",
       "      <td>COMPLETED</td>\n",
       "      <td>시크릿코드 : 프론트엔드 실무 완성편</td>\n",
       "      <td>프로그래밍</td>\n",
       "      <td>스쿨 온라인</td>\n",
       "      <td>2021-03-28 15:21:43</td>\n",
       "      <td>171810.0</td>\n",
       "      <td>[10% 할인] 시크릿코드 실무 완성편</td>\n",
       "      <td>19090.0</td>\n",
       "      <td>190900.0</td>\n",
       "      <td>NaN</td>\n",
       "      <td>CARD</td>\n",
       "      <td>NaN</td>\n",
       "      <td>2021-03-04</td>\n",
       "    </tr>\n",
       "    <tr>\n",
       "      <th>4</th>\n",
       "      <td>970658.0</td>\n",
       "      <td>478028.0</td>\n",
       "      <td>201797.0</td>\n",
       "      <td>PAYMENT</td>\n",
       "      <td>COMPLETED</td>\n",
       "      <td>올인원 패키지 : 직장인 필수 스킬 3종 세트 MAX</td>\n",
       "      <td>업무 생산성</td>\n",
       "      <td>올인원</td>\n",
       "      <td>2021-03-28 15:21:54</td>\n",
       "      <td>97500.0</td>\n",
       "      <td>[웰컴쿠폰] 올인원 패키지 2만원 할인 쿠폰</td>\n",
       "      <td>20000.0</td>\n",
       "      <td>117500.0</td>\n",
       "      <td>NaN</td>\n",
       "      <td>CARD</td>\n",
       "      <td>PPT/보고서</td>\n",
       "      <td>2019-11-14</td>\n",
       "    </tr>\n",
       "    <tr>\n",
       "      <th>8</th>\n",
       "      <td>970669.0</td>\n",
       "      <td>478033.0</td>\n",
       "      <td>203178.0</td>\n",
       "      <td>PAYMENT</td>\n",
       "      <td>COMPLETED</td>\n",
       "      <td>초격차 패키지 : 한번에 끝내는 영상 촬영과 편집</td>\n",
       "      <td>영상/3D</td>\n",
       "      <td>올인원</td>\n",
       "      <td>2021-03-28 15:26:47</td>\n",
       "      <td>96000.0</td>\n",
       "      <td>[웰컴쿠폰] 올인원 패키지 2만원 할인 쿠폰</td>\n",
       "      <td>20000.0</td>\n",
       "      <td>116000.0</td>\n",
       "      <td>NaN</td>\n",
       "      <td>CARD</td>\n",
       "      <td>영상 편집</td>\n",
       "      <td>2020-12-02</td>\n",
       "    </tr>\n",
       "    <tr>\n",
       "      <th>10</th>\n",
       "      <td>970671.0</td>\n",
       "      <td>469860.0</td>\n",
       "      <td>203644.0</td>\n",
       "      <td>PAYMENT</td>\n",
       "      <td>COMPLETED</td>\n",
       "      <td>올인원 패키지 : 권오상의 금융 아카데미 - 권오상의 재무제표 분석 기초(평생소장)</td>\n",
       "      <td>부동산/금융</td>\n",
       "      <td>올인원</td>\n",
       "      <td>2021-03-28 15:27:17</td>\n",
       "      <td>263000.0</td>\n",
       "      <td>NaN</td>\n",
       "      <td>NaN</td>\n",
       "      <td>263000.0</td>\n",
       "      <td>NaN</td>\n",
       "      <td>CARD</td>\n",
       "      <td>NaN</td>\n",
       "      <td>2020-11-27</td>\n",
       "    </tr>\n",
       "    <tr>\n",
       "      <th>14</th>\n",
       "      <td>970676.0</td>\n",
       "      <td>478035.0</td>\n",
       "      <td>203720.0</td>\n",
       "      <td>PAYMENT</td>\n",
       "      <td>COMPLETED</td>\n",
       "      <td>초격차 패키지 : 한 번에 끝내는 프론트엔드 개발</td>\n",
       "      <td>프로그래밍</td>\n",
       "      <td>올인원</td>\n",
       "      <td>2021-03-28 15:31:01</td>\n",
       "      <td>91000.0</td>\n",
       "      <td>[웰컴쿠폰] 올인원 패키지 2만원 할인 쿠폰</td>\n",
       "      <td>20000.0</td>\n",
       "      <td>111000.0</td>\n",
       "      <td>NaN</td>\n",
       "      <td>CARD</td>\n",
       "      <td>프론트엔드 개발</td>\n",
       "      <td>2021-02-02</td>\n",
       "    </tr>\n",
       "  </tbody>\n",
       "</table>\n",
       "</div>"
      ],
      "text/plain": [
       "          id  customer_id  course_id     type      state  \\\n",
       "2   970657.0      72297.0   204246.0  PAYMENT  COMPLETED   \n",
       "4   970658.0     478028.0   201797.0  PAYMENT  COMPLETED   \n",
       "8   970669.0     478033.0   203178.0  PAYMENT  COMPLETED   \n",
       "10  970671.0     469860.0   203644.0  PAYMENT  COMPLETED   \n",
       "14  970676.0     478035.0   203720.0  PAYMENT  COMPLETED   \n",
       "\n",
       "                                      course_title category_title  format  \\\n",
       "2                             시크릿코드 : 프론트엔드 실무 완성편          프로그래밍  스쿨 온라인   \n",
       "4                    올인원 패키지 : 직장인 필수 스킬 3종 세트 MAX         업무 생산성     올인원   \n",
       "8                      초격차 패키지 : 한번에 끝내는 영상 촬영과 편집          영상/3D     올인원   \n",
       "10  올인원 패키지 : 권오상의 금융 아카데미 - 권오상의 재무제표 분석 기초(평생소장)         부동산/금융     올인원   \n",
       "14                     초격차 패키지 : 한 번에 끝내는 프론트엔드 개발          프로그래밍     올인원   \n",
       "\n",
       "          completed_at  transaction_amount              coupon_title  \\\n",
       "2  2021-03-28 15:21:43            171810.0     [10% 할인] 시크릿코드 실무 완성편   \n",
       "4  2021-03-28 15:21:54             97500.0  [웰컴쿠폰] 올인원 패키지 2만원 할인 쿠폰   \n",
       "8  2021-03-28 15:26:47             96000.0  [웰컴쿠폰] 올인원 패키지 2만원 할인 쿠폰   \n",
       "10 2021-03-28 15:27:17            263000.0                       NaN   \n",
       "14 2021-03-28 15:31:01             91000.0  [웰컴쿠폰] 올인원 패키지 2만원 할인 쿠폰   \n",
       "\n",
       "    coupon_discount_amount  sale_price   pg method subcategory_title  \\\n",
       "2                  19090.0    190900.0  NaN   CARD               NaN   \n",
       "4                  20000.0    117500.0  NaN   CARD           PPT/보고서   \n",
       "8                  20000.0    116000.0  NaN   CARD             영상 편집   \n",
       "10                     NaN    263000.0  NaN   CARD               NaN   \n",
       "14                 20000.0    111000.0  NaN   CARD          프론트엔드 개발   \n",
       "\n",
       "   marketing_start_at  \n",
       "2          2021-03-04  \n",
       "4          2019-11-14  \n",
       "8          2020-12-02  \n",
       "10         2020-11-27  \n",
       "14         2021-02-02  "
      ]
     },
     "execution_count": 23,
     "metadata": {},
     "output_type": "execute_result"
    }
   ],
   "source": [
    "# 더 이상 사용되지 않는 기능으로 안내 받음, B2B 거래로 무시 요청\n",
    "useless = data_new[data_new['type'].str.contains('ORDER')].index\n",
    "data_new.drop(useless, inplace=True)\n",
    "useless = data_new[data_new['type'].str.contains('TRANSACTION')].index\n",
    "data_new.drop(useless, inplace=True\n",
    "# 보안 상의 이유로 사용할 수 없는 4개의 속성 삭제             \n",
    "useless = data_new[data_new['state'].str.contains('PENDING')].index\n",
    "data_new.drop(useless, inplace=True)\n",
    "useless = data_new[data_new['state'].str.contains('CANCELLED')].index\n",
    "data_new.drop(useless, inplace=True)\n",
    "useless = data_new[data_new['state'].str.contains('HIDDEN')].index\n",
    "data_new.drop(useless, inplace=True)\n",
    "useless = data_new[data_new['state'].str.contains('DELETED')].index\n",
    "data_new.drop(useless, inplace=True)\n",
    "data_new.head()\n",
    "\n"
   ]
  },
  {
   "cell_type": "code",
   "execution_count": 24,
   "id": "40b1accd",
   "metadata": {
    "ExecuteTime": {
     "end_time": "2022-05-10T01:04:44.120786Z",
     "start_time": "2022-05-10T01:04:44.104676Z"
    },
    "scrolled": true
   },
   "outputs": [
    {
     "data": {
      "text/plain": [
       "COMPLETED    56724\n",
       "REQUESTED       14\n",
       "Name: state, dtype: int64"
      ]
     },
     "execution_count": 24,
     "metadata": {},
     "output_type": "execute_result"
    }
   ],
   "source": [
    "data_new['state'].value_counts() # state 속성 분석"
   ]
  },
  {
   "cell_type": "code",
   "execution_count": 25,
   "id": "93ec0706",
   "metadata": {
    "ExecuteTime": {
     "end_time": "2022-05-10T01:05:05.171501Z",
     "start_time": "2022-05-10T01:05:05.165737Z"
    },
    "scrolled": true
   },
   "outputs": [
    {
     "data": {
      "text/plain": [
       "PAYMENT    52916\n",
       "REFUND      3822\n",
       "Name: type, dtype: int64"
      ]
     },
     "execution_count": 25,
     "metadata": {},
     "output_type": "execute_result"
    }
   ],
   "source": [
    "data_new['type'].value_counts() # type 속성 분석"
   ]
  },
  {
   "cell_type": "code",
   "execution_count": 26,
   "id": "fd8f52c6",
   "metadata": {
    "ExecuteTime": {
     "end_time": "2022-05-10T01:07:04.752371Z",
     "start_time": "2022-05-10T01:07:04.712657Z"
    }
   },
   "outputs": [
    {
     "data": {
      "text/html": [
       "<div>\n",
       "<style scoped>\n",
       "    .dataframe tbody tr th:only-of-type {\n",
       "        vertical-align: middle;\n",
       "    }\n",
       "\n",
       "    .dataframe tbody tr th {\n",
       "        vertical-align: top;\n",
       "    }\n",
       "\n",
       "    .dataframe thead th {\n",
       "        text-align: right;\n",
       "    }\n",
       "</style>\n",
       "<table border=\"1\" class=\"dataframe\">\n",
       "  <thead>\n",
       "    <tr style=\"text-align: right;\">\n",
       "      <th></th>\n",
       "      <th>id</th>\n",
       "      <th>customer_id</th>\n",
       "      <th>course_id</th>\n",
       "      <th>type</th>\n",
       "      <th>state</th>\n",
       "      <th>course_title</th>\n",
       "      <th>category_title</th>\n",
       "      <th>format</th>\n",
       "      <th>completed_at</th>\n",
       "      <th>transaction_amount</th>\n",
       "      <th>coupon_title</th>\n",
       "      <th>coupon_discount_amount</th>\n",
       "      <th>sale_price</th>\n",
       "      <th>pg</th>\n",
       "      <th>method</th>\n",
       "      <th>subcategory_title</th>\n",
       "      <th>marketing_start_at</th>\n",
       "      <th>payment_data</th>\n",
       "    </tr>\n",
       "  </thead>\n",
       "  <tbody>\n",
       "    <tr>\n",
       "      <th>2</th>\n",
       "      <td>970657.0</td>\n",
       "      <td>72297.0</td>\n",
       "      <td>204246.0</td>\n",
       "      <td>PAYMENT</td>\n",
       "      <td>COMPLETED</td>\n",
       "      <td>시크릿코드 : 프론트엔드 실무 완성편</td>\n",
       "      <td>프로그래밍</td>\n",
       "      <td>스쿨 온라인</td>\n",
       "      <td>2021-03-28 15:21:43</td>\n",
       "      <td>171810.0</td>\n",
       "      <td>[10% 할인] 시크릿코드 실무 완성편</td>\n",
       "      <td>19090.0</td>\n",
       "      <td>190900.0</td>\n",
       "      <td>PG</td>\n",
       "      <td>CARD</td>\n",
       "      <td>NaN</td>\n",
       "      <td>2021-03-04</td>\n",
       "      <td>PG CARD</td>\n",
       "    </tr>\n",
       "    <tr>\n",
       "      <th>4</th>\n",
       "      <td>970658.0</td>\n",
       "      <td>478028.0</td>\n",
       "      <td>201797.0</td>\n",
       "      <td>PAYMENT</td>\n",
       "      <td>COMPLETED</td>\n",
       "      <td>올인원 패키지 : 직장인 필수 스킬 3종 세트 MAX</td>\n",
       "      <td>업무 생산성</td>\n",
       "      <td>올인원</td>\n",
       "      <td>2021-03-28 15:21:54</td>\n",
       "      <td>97500.0</td>\n",
       "      <td>[웰컴쿠폰] 올인원 패키지 2만원 할인 쿠폰</td>\n",
       "      <td>20000.0</td>\n",
       "      <td>117500.0</td>\n",
       "      <td>PG</td>\n",
       "      <td>CARD</td>\n",
       "      <td>PPT/보고서</td>\n",
       "      <td>2019-11-14</td>\n",
       "      <td>PG CARD</td>\n",
       "    </tr>\n",
       "    <tr>\n",
       "      <th>8</th>\n",
       "      <td>970669.0</td>\n",
       "      <td>478033.0</td>\n",
       "      <td>203178.0</td>\n",
       "      <td>PAYMENT</td>\n",
       "      <td>COMPLETED</td>\n",
       "      <td>초격차 패키지 : 한번에 끝내는 영상 촬영과 편집</td>\n",
       "      <td>영상/3D</td>\n",
       "      <td>올인원</td>\n",
       "      <td>2021-03-28 15:26:47</td>\n",
       "      <td>96000.0</td>\n",
       "      <td>[웰컴쿠폰] 올인원 패키지 2만원 할인 쿠폰</td>\n",
       "      <td>20000.0</td>\n",
       "      <td>116000.0</td>\n",
       "      <td>PG</td>\n",
       "      <td>CARD</td>\n",
       "      <td>영상 편집</td>\n",
       "      <td>2020-12-02</td>\n",
       "      <td>PG CARD</td>\n",
       "    </tr>\n",
       "    <tr>\n",
       "      <th>10</th>\n",
       "      <td>970671.0</td>\n",
       "      <td>469860.0</td>\n",
       "      <td>203644.0</td>\n",
       "      <td>PAYMENT</td>\n",
       "      <td>COMPLETED</td>\n",
       "      <td>올인원 패키지 : 권오상의 금융 아카데미 - 권오상의 재무제표 분석 기초(평생소장)</td>\n",
       "      <td>부동산/금융</td>\n",
       "      <td>올인원</td>\n",
       "      <td>2021-03-28 15:27:17</td>\n",
       "      <td>263000.0</td>\n",
       "      <td>NaN</td>\n",
       "      <td>NaN</td>\n",
       "      <td>263000.0</td>\n",
       "      <td>PG</td>\n",
       "      <td>CARD</td>\n",
       "      <td>NaN</td>\n",
       "      <td>2020-11-27</td>\n",
       "      <td>PG CARD</td>\n",
       "    </tr>\n",
       "    <tr>\n",
       "      <th>14</th>\n",
       "      <td>970676.0</td>\n",
       "      <td>478035.0</td>\n",
       "      <td>203720.0</td>\n",
       "      <td>PAYMENT</td>\n",
       "      <td>COMPLETED</td>\n",
       "      <td>초격차 패키지 : 한 번에 끝내는 프론트엔드 개발</td>\n",
       "      <td>프로그래밍</td>\n",
       "      <td>올인원</td>\n",
       "      <td>2021-03-28 15:31:01</td>\n",
       "      <td>91000.0</td>\n",
       "      <td>[웰컴쿠폰] 올인원 패키지 2만원 할인 쿠폰</td>\n",
       "      <td>20000.0</td>\n",
       "      <td>111000.0</td>\n",
       "      <td>PG</td>\n",
       "      <td>CARD</td>\n",
       "      <td>프론트엔드 개발</td>\n",
       "      <td>2021-02-02</td>\n",
       "      <td>PG CARD</td>\n",
       "    </tr>\n",
       "  </tbody>\n",
       "</table>\n",
       "</div>"
      ],
      "text/plain": [
       "          id  customer_id  course_id     type      state  \\\n",
       "2   970657.0      72297.0   204246.0  PAYMENT  COMPLETED   \n",
       "4   970658.0     478028.0   201797.0  PAYMENT  COMPLETED   \n",
       "8   970669.0     478033.0   203178.0  PAYMENT  COMPLETED   \n",
       "10  970671.0     469860.0   203644.0  PAYMENT  COMPLETED   \n",
       "14  970676.0     478035.0   203720.0  PAYMENT  COMPLETED   \n",
       "\n",
       "                                      course_title category_title  format  \\\n",
       "2                             시크릿코드 : 프론트엔드 실무 완성편          프로그래밍  스쿨 온라인   \n",
       "4                    올인원 패키지 : 직장인 필수 스킬 3종 세트 MAX         업무 생산성     올인원   \n",
       "8                      초격차 패키지 : 한번에 끝내는 영상 촬영과 편집          영상/3D     올인원   \n",
       "10  올인원 패키지 : 권오상의 금융 아카데미 - 권오상의 재무제표 분석 기초(평생소장)         부동산/금융     올인원   \n",
       "14                     초격차 패키지 : 한 번에 끝내는 프론트엔드 개발          프로그래밍     올인원   \n",
       "\n",
       "          completed_at  transaction_amount              coupon_title  \\\n",
       "2  2021-03-28 15:21:43            171810.0     [10% 할인] 시크릿코드 실무 완성편   \n",
       "4  2021-03-28 15:21:54             97500.0  [웰컴쿠폰] 올인원 패키지 2만원 할인 쿠폰   \n",
       "8  2021-03-28 15:26:47             96000.0  [웰컴쿠폰] 올인원 패키지 2만원 할인 쿠폰   \n",
       "10 2021-03-28 15:27:17            263000.0                       NaN   \n",
       "14 2021-03-28 15:31:01             91000.0  [웰컴쿠폰] 올인원 패키지 2만원 할인 쿠폰   \n",
       "\n",
       "    coupon_discount_amount  sale_price  pg method subcategory_title  \\\n",
       "2                  19090.0    190900.0  PG   CARD               NaN   \n",
       "4                  20000.0    117500.0  PG   CARD           PPT/보고서   \n",
       "8                  20000.0    116000.0  PG   CARD             영상 편집   \n",
       "10                     NaN    263000.0  PG   CARD               NaN   \n",
       "14                 20000.0    111000.0  PG   CARD          프론트엔드 개발   \n",
       "\n",
       "   marketing_start_at payment_data  \n",
       "2          2021-03-04      PG CARD  \n",
       "4          2019-11-14      PG CARD  \n",
       "8          2020-12-02      PG CARD  \n",
       "10         2020-11-27      PG CARD  \n",
       "14         2021-02-02      PG CARD  "
      ]
     },
     "execution_count": 26,
     "metadata": {},
     "output_type": "execute_result"
    }
   ],
   "source": [
    "# pg, method 컬럼의 NaN 값을 처리 후 payment_data라는 컬럼을 새로 만들어 둘을 합침\n",
    "data_new['pg'].fillna('PG', inplace=True)\n",
    "data_new['method'].fillna(' ', inplace=True)\n",
    "data_new['payment_data'] = data_new['pg'] + ' ' + data_new['method']\n",
    "data_new.head() "
   ]
  },
  {
   "cell_type": "code",
   "execution_count": 27,
   "id": "8e01d34f",
   "metadata": {
    "ExecuteTime": {
     "end_time": "2022-05-10T01:07:27.413831Z",
     "start_time": "2022-05-10T01:07:27.397507Z"
    }
   },
   "outputs": [
    {
     "data": {
      "text/plain": [
       "0"
      ]
     },
     "execution_count": 27,
     "metadata": {},
     "output_type": "execute_result"
    }
   ],
   "source": [
    "data_new['payment_data'].isna().sum()"
   ]
  },
  {
   "cell_type": "code",
   "execution_count": 28,
   "id": "a2666e29",
   "metadata": {
    "ExecuteTime": {
     "end_time": "2022-05-10T01:10:56.782229Z",
     "start_time": "2022-05-10T01:10:56.743826Z"
    }
   },
   "outputs": [
    {
     "data": {
      "text/html": [
       "<div>\n",
       "<style scoped>\n",
       "    .dataframe tbody tr th:only-of-type {\n",
       "        vertical-align: middle;\n",
       "    }\n",
       "\n",
       "    .dataframe tbody tr th {\n",
       "        vertical-align: top;\n",
       "    }\n",
       "\n",
       "    .dataframe thead th {\n",
       "        text-align: right;\n",
       "    }\n",
       "</style>\n",
       "<table border=\"1\" class=\"dataframe\">\n",
       "  <thead>\n",
       "    <tr style=\"text-align: right;\">\n",
       "      <th></th>\n",
       "      <th>id</th>\n",
       "      <th>customer_id</th>\n",
       "      <th>course_id</th>\n",
       "      <th>type</th>\n",
       "      <th>state</th>\n",
       "      <th>course_title</th>\n",
       "      <th>category_title</th>\n",
       "      <th>format</th>\n",
       "      <th>completed_at</th>\n",
       "      <th>transaction_amount</th>\n",
       "      <th>coupon_title</th>\n",
       "      <th>coupon_discount_amount</th>\n",
       "      <th>sale_price</th>\n",
       "      <th>subcategory_title</th>\n",
       "      <th>marketing_start_at</th>\n",
       "      <th>payment_data</th>\n",
       "    </tr>\n",
       "  </thead>\n",
       "  <tbody>\n",
       "    <tr>\n",
       "      <th>2</th>\n",
       "      <td>970657.0</td>\n",
       "      <td>72297.0</td>\n",
       "      <td>204246.0</td>\n",
       "      <td>PAYMENT</td>\n",
       "      <td>COMPLETED</td>\n",
       "      <td>시크릿코드 : 프론트엔드 실무 완성편</td>\n",
       "      <td>프로그래밍</td>\n",
       "      <td>스쿨 온라인</td>\n",
       "      <td>2021-03-28 15:21:43</td>\n",
       "      <td>171810.0</td>\n",
       "      <td>[10% 할인] 시크릿코드 실무 완성편</td>\n",
       "      <td>19090.0</td>\n",
       "      <td>190900.0</td>\n",
       "      <td>NaN</td>\n",
       "      <td>2021-03-04</td>\n",
       "      <td>PG CARD</td>\n",
       "    </tr>\n",
       "    <tr>\n",
       "      <th>4</th>\n",
       "      <td>970658.0</td>\n",
       "      <td>478028.0</td>\n",
       "      <td>201797.0</td>\n",
       "      <td>PAYMENT</td>\n",
       "      <td>COMPLETED</td>\n",
       "      <td>올인원 패키지 : 직장인 필수 스킬 3종 세트 MAX</td>\n",
       "      <td>업무 생산성</td>\n",
       "      <td>올인원</td>\n",
       "      <td>2021-03-28 15:21:54</td>\n",
       "      <td>97500.0</td>\n",
       "      <td>[웰컴쿠폰] 올인원 패키지 2만원 할인 쿠폰</td>\n",
       "      <td>20000.0</td>\n",
       "      <td>117500.0</td>\n",
       "      <td>PPT/보고서</td>\n",
       "      <td>2019-11-14</td>\n",
       "      <td>PG CARD</td>\n",
       "    </tr>\n",
       "    <tr>\n",
       "      <th>8</th>\n",
       "      <td>970669.0</td>\n",
       "      <td>478033.0</td>\n",
       "      <td>203178.0</td>\n",
       "      <td>PAYMENT</td>\n",
       "      <td>COMPLETED</td>\n",
       "      <td>초격차 패키지 : 한번에 끝내는 영상 촬영과 편집</td>\n",
       "      <td>영상/3D</td>\n",
       "      <td>올인원</td>\n",
       "      <td>2021-03-28 15:26:47</td>\n",
       "      <td>96000.0</td>\n",
       "      <td>[웰컴쿠폰] 올인원 패키지 2만원 할인 쿠폰</td>\n",
       "      <td>20000.0</td>\n",
       "      <td>116000.0</td>\n",
       "      <td>영상 편집</td>\n",
       "      <td>2020-12-02</td>\n",
       "      <td>PG CARD</td>\n",
       "    </tr>\n",
       "    <tr>\n",
       "      <th>10</th>\n",
       "      <td>970671.0</td>\n",
       "      <td>469860.0</td>\n",
       "      <td>203644.0</td>\n",
       "      <td>PAYMENT</td>\n",
       "      <td>COMPLETED</td>\n",
       "      <td>올인원 패키지 : 권오상의 금융 아카데미 - 권오상의 재무제표 분석 기초(평생소장)</td>\n",
       "      <td>부동산/금융</td>\n",
       "      <td>올인원</td>\n",
       "      <td>2021-03-28 15:27:17</td>\n",
       "      <td>263000.0</td>\n",
       "      <td>NaN</td>\n",
       "      <td>NaN</td>\n",
       "      <td>263000.0</td>\n",
       "      <td>NaN</td>\n",
       "      <td>2020-11-27</td>\n",
       "      <td>PG CARD</td>\n",
       "    </tr>\n",
       "    <tr>\n",
       "      <th>14</th>\n",
       "      <td>970676.0</td>\n",
       "      <td>478035.0</td>\n",
       "      <td>203720.0</td>\n",
       "      <td>PAYMENT</td>\n",
       "      <td>COMPLETED</td>\n",
       "      <td>초격차 패키지 : 한 번에 끝내는 프론트엔드 개발</td>\n",
       "      <td>프로그래밍</td>\n",
       "      <td>올인원</td>\n",
       "      <td>2021-03-28 15:31:01</td>\n",
       "      <td>91000.0</td>\n",
       "      <td>[웰컴쿠폰] 올인원 패키지 2만원 할인 쿠폰</td>\n",
       "      <td>20000.0</td>\n",
       "      <td>111000.0</td>\n",
       "      <td>프론트엔드 개발</td>\n",
       "      <td>2021-02-02</td>\n",
       "      <td>PG CARD</td>\n",
       "    </tr>\n",
       "  </tbody>\n",
       "</table>\n",
       "</div>"
      ],
      "text/plain": [
       "          id  customer_id  course_id     type      state  \\\n",
       "2   970657.0      72297.0   204246.0  PAYMENT  COMPLETED   \n",
       "4   970658.0     478028.0   201797.0  PAYMENT  COMPLETED   \n",
       "8   970669.0     478033.0   203178.0  PAYMENT  COMPLETED   \n",
       "10  970671.0     469860.0   203644.0  PAYMENT  COMPLETED   \n",
       "14  970676.0     478035.0   203720.0  PAYMENT  COMPLETED   \n",
       "\n",
       "                                      course_title category_title  format  \\\n",
       "2                             시크릿코드 : 프론트엔드 실무 완성편          프로그래밍  스쿨 온라인   \n",
       "4                    올인원 패키지 : 직장인 필수 스킬 3종 세트 MAX         업무 생산성     올인원   \n",
       "8                      초격차 패키지 : 한번에 끝내는 영상 촬영과 편집          영상/3D     올인원   \n",
       "10  올인원 패키지 : 권오상의 금융 아카데미 - 권오상의 재무제표 분석 기초(평생소장)         부동산/금융     올인원   \n",
       "14                     초격차 패키지 : 한 번에 끝내는 프론트엔드 개발          프로그래밍     올인원   \n",
       "\n",
       "          completed_at  transaction_amount              coupon_title  \\\n",
       "2  2021-03-28 15:21:43            171810.0     [10% 할인] 시크릿코드 실무 완성편   \n",
       "4  2021-03-28 15:21:54             97500.0  [웰컴쿠폰] 올인원 패키지 2만원 할인 쿠폰   \n",
       "8  2021-03-28 15:26:47             96000.0  [웰컴쿠폰] 올인원 패키지 2만원 할인 쿠폰   \n",
       "10 2021-03-28 15:27:17            263000.0                       NaN   \n",
       "14 2021-03-28 15:31:01             91000.0  [웰컴쿠폰] 올인원 패키지 2만원 할인 쿠폰   \n",
       "\n",
       "    coupon_discount_amount  sale_price subcategory_title marketing_start_at  \\\n",
       "2                  19090.0    190900.0               NaN         2021-03-04   \n",
       "4                  20000.0    117500.0           PPT/보고서         2019-11-14   \n",
       "8                  20000.0    116000.0             영상 편집         2020-12-02   \n",
       "10                     NaN    263000.0               NaN         2020-11-27   \n",
       "14                 20000.0    111000.0          프론트엔드 개발         2021-02-02   \n",
       "\n",
       "   payment_data  \n",
       "2       PG CARD  \n",
       "4       PG CARD  \n",
       "8       PG CARD  \n",
       "10      PG CARD  \n",
       "14      PG CARD  "
      ]
     },
     "execution_count": 28,
     "metadata": {},
     "output_type": "execute_result"
    }
   ],
   "source": [
    "# 필요없는 pg, method 속성 삭제\n",
    "data_new.drop(['pg', 'method'], axis=1, inplace=True)\n",
    "data_new.head()"
   ]
  },
  {
   "cell_type": "code",
   "execution_count": 30,
   "id": "3efa01ee",
   "metadata": {
    "ExecuteTime": {
     "end_time": "2022-05-10T01:18:32.804325Z",
     "start_time": "2022-05-10T01:18:32.775634Z"
    }
   },
   "outputs": [],
   "source": [
    "data_new['payment_data'].unique()\n",
    "data_backup = data_new # 전처리된 dataset 보관"
   ]
  },
  {
   "cell_type": "markdown",
   "id": "31df488b",
   "metadata": {},
   "source": [
    "# 2 가장 많이 판매된 Format 형식"
   ]
  },
  {
   "cell_type": "code",
   "execution_count": 32,
   "id": "a3e33702",
   "metadata": {
    "ExecuteTime": {
     "end_time": "2022-05-10T01:21:23.575427Z",
     "start_time": "2022-05-10T01:21:23.567538Z"
    },
    "scrolled": false
   },
   "outputs": [
    {
     "data": {
      "text/plain": [
       "올인원        46554\n",
       "RED         3383\n",
       "온라인 완주반     1673\n",
       "하루10분컷      1371\n",
       "스쿨          1036\n",
       "B2B 온라인      984\n",
       "스쿨 온라인       643\n",
       "B2B          485\n",
       "B2G          434\n",
       "이벤트           89\n",
       "아카이브          35\n",
       "캠프            25\n",
       "MBA           23\n",
       "관리             1\n",
       "온라인            1\n",
       "Name: format, dtype: int64"
      ]
     },
     "execution_count": 32,
     "metadata": {},
     "output_type": "execute_result"
    }
   ],
   "source": [
    "data_new['format'].value_counts()"
   ]
  },
  {
   "cell_type": "code",
   "execution_count": 36,
   "id": "ffece4a1",
   "metadata": {
    "ExecuteTime": {
     "end_time": "2022-05-10T01:24:33.709348Z",
     "start_time": "2022-05-10T01:24:33.534036Z"
    }
   },
   "outputs": [
    {
     "data": {
      "image/png": "[encoded data removed]",
      "text/plain": [
       "<Figure size 576x432 with 1 Axes>"
      ]
     },
     "metadata": {
      "needs_background": "light"
     },
     "output_type": "display_data"
    }
   ],
   "source": [
    "plt.figure(figsize=(8, 6))\n",
    "sns.histplot(data_new, x='format')\n",
    "plt.xticks(rotation=-90, )\n",
    "plt.show()"
   ]
  },
  {
   "cell_type": "code",
   "execution_count": 38,
   "id": "4af9e869",
   "metadata": {
    "ExecuteTime": {
     "end_time": "2022-05-10T01:27:15.947385Z",
     "start_time": "2022-05-10T01:27:15.935006Z"
    }
   },
   "outputs": [
    {
     "data": {
      "text/plain": [
       "array(['PAYMENT', 'REFUND'], dtype=object)"
      ]
     },
     "execution_count": 38,
     "metadata": {},
     "output_type": "execute_result"
    }
   ],
   "source": []
  },
  {
   "cell_type": "markdown",
   "id": "23db254d",
   "metadata": {},
   "source": [
    "# 3 구매 확정율 분석"
   ]
  },
  {
   "cell_type": "code",
   "execution_count": 49,
   "id": "dc9d2635",
   "metadata": {
    "ExecuteTime": {
     "end_time": "2022-05-10T01:47:09.603303Z",
     "start_time": "2022-05-10T01:47:09.574076Z"
    }
   },
   "outputs": [
    {
     "data": {
      "text/plain": [
       "array(['올인원'], dtype=object)"
      ]
     },
     "execution_count": 49,
     "metadata": {},
     "output_type": "execute_result"
    }
   ],
   "source": [
    "# 올인원의 구매확정율\n",
    "allinone_data = data_new[data_new['format']=='올인원']\n",
    "allinone_data['format'].unique()"
   ]
  },
  {
   "cell_type": "code",
   "execution_count": 52,
   "id": "77e41376",
   "metadata": {
    "ExecuteTime": {
     "end_time": "2022-05-10T01:48:26.977847Z",
     "start_time": "2022-05-10T01:48:26.944509Z"
    },
    "scrolled": true
   },
   "outputs": [
    {
     "data": {
      "text/html": [
       "<div>\n",
       "<style scoped>\n",
       "    .dataframe tbody tr th:only-of-type {\n",
       "        vertical-align: middle;\n",
       "    }\n",
       "\n",
       "    .dataframe tbody tr th {\n",
       "        vertical-align: top;\n",
       "    }\n",
       "\n",
       "    .dataframe thead th {\n",
       "        text-align: right;\n",
       "    }\n",
       "</style>\n",
       "<table border=\"1\" class=\"dataframe\">\n",
       "  <thead>\n",
       "    <tr style=\"text-align: right;\">\n",
       "      <th></th>\n",
       "      <th>id</th>\n",
       "      <th>customer_id</th>\n",
       "      <th>course_id</th>\n",
       "      <th>type</th>\n",
       "      <th>state</th>\n",
       "      <th>course_title</th>\n",
       "      <th>category_title</th>\n",
       "      <th>format</th>\n",
       "      <th>completed_at</th>\n",
       "      <th>transaction_amount</th>\n",
       "      <th>coupon_title</th>\n",
       "      <th>coupon_discount_amount</th>\n",
       "      <th>sale_price</th>\n",
       "      <th>subcategory_title</th>\n",
       "      <th>marketing_start_at</th>\n",
       "      <th>payment_data</th>\n",
       "    </tr>\n",
       "  </thead>\n",
       "  <tbody>\n",
       "    <tr>\n",
       "      <th>4</th>\n",
       "      <td>970658.0</td>\n",
       "      <td>478028.0</td>\n",
       "      <td>201797.0</td>\n",
       "      <td>PAYMENT</td>\n",
       "      <td>COMPLETED</td>\n",
       "      <td>올인원 패키지 : 직장인 필수 스킬 3종 세트 MAX</td>\n",
       "      <td>업무 생산성</td>\n",
       "      <td>올인원</td>\n",
       "      <td>2021-03-28 15:21:54</td>\n",
       "      <td>97500.0</td>\n",
       "      <td>[웰컴쿠폰] 올인원 패키지 2만원 할인 쿠폰</td>\n",
       "      <td>20000.0</td>\n",
       "      <td>117500.0</td>\n",
       "      <td>PPT/보고서</td>\n",
       "      <td>2019-11-14</td>\n",
       "      <td>PG CARD</td>\n",
       "    </tr>\n",
       "    <tr>\n",
       "      <th>8</th>\n",
       "      <td>970669.0</td>\n",
       "      <td>478033.0</td>\n",
       "      <td>203178.0</td>\n",
       "      <td>PAYMENT</td>\n",
       "      <td>COMPLETED</td>\n",
       "      <td>초격차 패키지 : 한번에 끝내는 영상 촬영과 편집</td>\n",
       "      <td>영상/3D</td>\n",
       "      <td>올인원</td>\n",
       "      <td>2021-03-28 15:26:47</td>\n",
       "      <td>96000.0</td>\n",
       "      <td>[웰컴쿠폰] 올인원 패키지 2만원 할인 쿠폰</td>\n",
       "      <td>20000.0</td>\n",
       "      <td>116000.0</td>\n",
       "      <td>영상 편집</td>\n",
       "      <td>2020-12-02</td>\n",
       "      <td>PG CARD</td>\n",
       "    </tr>\n",
       "    <tr>\n",
       "      <th>10</th>\n",
       "      <td>970671.0</td>\n",
       "      <td>469860.0</td>\n",
       "      <td>203644.0</td>\n",
       "      <td>PAYMENT</td>\n",
       "      <td>COMPLETED</td>\n",
       "      <td>올인원 패키지 : 권오상의 금융 아카데미 - 권오상의 재무제표 분석 기초(평생소장)</td>\n",
       "      <td>부동산/금융</td>\n",
       "      <td>올인원</td>\n",
       "      <td>2021-03-28 15:27:17</td>\n",
       "      <td>263000.0</td>\n",
       "      <td>NaN</td>\n",
       "      <td>NaN</td>\n",
       "      <td>263000.0</td>\n",
       "      <td>NaN</td>\n",
       "      <td>2020-11-27</td>\n",
       "      <td>PG CARD</td>\n",
       "    </tr>\n",
       "    <tr>\n",
       "      <th>14</th>\n",
       "      <td>970676.0</td>\n",
       "      <td>478035.0</td>\n",
       "      <td>203720.0</td>\n",
       "      <td>PAYMENT</td>\n",
       "      <td>COMPLETED</td>\n",
       "      <td>초격차 패키지 : 한 번에 끝내는 프론트엔드 개발</td>\n",
       "      <td>프로그래밍</td>\n",
       "      <td>올인원</td>\n",
       "      <td>2021-03-28 15:31:01</td>\n",
       "      <td>91000.0</td>\n",
       "      <td>[웰컴쿠폰] 올인원 패키지 2만원 할인 쿠폰</td>\n",
       "      <td>20000.0</td>\n",
       "      <td>111000.0</td>\n",
       "      <td>프론트엔드 개발</td>\n",
       "      <td>2021-02-02</td>\n",
       "      <td>PG CARD</td>\n",
       "    </tr>\n",
       "    <tr>\n",
       "      <th>18</th>\n",
       "      <td>970682.0</td>\n",
       "      <td>478031.0</td>\n",
       "      <td>NaN</td>\n",
       "      <td>PAYMENT</td>\n",
       "      <td>COMPLETED</td>\n",
       "      <td>프로모션 : 기초부터 시작하는 데이터분석 한끝세트 (3월 프리패스)</td>\n",
       "      <td>데이터사이언스</td>\n",
       "      <td>올인원</td>\n",
       "      <td>2021-03-28 15:33:28</td>\n",
       "      <td>299000.0</td>\n",
       "      <td>NaN</td>\n",
       "      <td>NaN</td>\n",
       "      <td>299000.0</td>\n",
       "      <td>NaN</td>\n",
       "      <td>NaT</td>\n",
       "      <td>PG CARD</td>\n",
       "    </tr>\n",
       "  </tbody>\n",
       "</table>\n",
       "</div>"
      ],
      "text/plain": [
       "          id  customer_id  course_id     type      state  \\\n",
       "4   970658.0     478028.0   201797.0  PAYMENT  COMPLETED   \n",
       "8   970669.0     478033.0   203178.0  PAYMENT  COMPLETED   \n",
       "10  970671.0     469860.0   203644.0  PAYMENT  COMPLETED   \n",
       "14  970676.0     478035.0   203720.0  PAYMENT  COMPLETED   \n",
       "18  970682.0     478031.0        NaN  PAYMENT  COMPLETED   \n",
       "\n",
       "                                      course_title category_title format  \\\n",
       "4                    올인원 패키지 : 직장인 필수 스킬 3종 세트 MAX         업무 생산성    올인원   \n",
       "8                      초격차 패키지 : 한번에 끝내는 영상 촬영과 편집          영상/3D    올인원   \n",
       "10  올인원 패키지 : 권오상의 금융 아카데미 - 권오상의 재무제표 분석 기초(평생소장)         부동산/금융    올인원   \n",
       "14                     초격차 패키지 : 한 번에 끝내는 프론트엔드 개발          프로그래밍    올인원   \n",
       "18           프로모션 : 기초부터 시작하는 데이터분석 한끝세트 (3월 프리패스)        데이터사이언스    올인원   \n",
       "\n",
       "          completed_at  transaction_amount              coupon_title  \\\n",
       "4  2021-03-28 15:21:54             97500.0  [웰컴쿠폰] 올인원 패키지 2만원 할인 쿠폰   \n",
       "8  2021-03-28 15:26:47             96000.0  [웰컴쿠폰] 올인원 패키지 2만원 할인 쿠폰   \n",
       "10 2021-03-28 15:27:17            263000.0                       NaN   \n",
       "14 2021-03-28 15:31:01             91000.0  [웰컴쿠폰] 올인원 패키지 2만원 할인 쿠폰   \n",
       "18 2021-03-28 15:33:28            299000.0                       NaN   \n",
       "\n",
       "    coupon_discount_amount  sale_price subcategory_title marketing_start_at  \\\n",
       "4                  20000.0    117500.0           PPT/보고서         2019-11-14   \n",
       "8                  20000.0    116000.0             영상 편집         2020-12-02   \n",
       "10                     NaN    263000.0               NaN         2020-11-27   \n",
       "14                 20000.0    111000.0          프론트엔드 개발         2021-02-02   \n",
       "18                     NaN    299000.0               NaN                NaT   \n",
       "\n",
       "   payment_data  \n",
       "4       PG CARD  \n",
       "8       PG CARD  \n",
       "10      PG CARD  \n",
       "14      PG CARD  \n",
       "18      PG CARD  "
      ]
     },
     "execution_count": 52,
     "metadata": {},
     "output_type": "execute_result"
    }
   ],
   "source": [
    "allinone_data = allinone_data[allinone_data['state']=='COMPLETED']\n",
    "allinone_data.head()"
   ]
  },
  {
   "cell_type": "code",
   "execution_count": 54,
   "id": "44da9dce",
   "metadata": {
    "ExecuteTime": {
     "end_time": "2022-05-10T01:49:04.332872Z",
     "start_time": "2022-05-10T01:49:04.324719Z"
    }
   },
   "outputs": [
    {
     "data": {
      "text/plain": [
       "array(['PAYMENT', 'REFUND'], dtype=object)"
      ]
     },
     "execution_count": 54,
     "metadata": {},
     "output_type": "execute_result"
    }
   ],
   "source": [
    "allinone_data['type'].unique()"
   ]
  },
  {
   "cell_type": "code",
   "execution_count": 74,
   "id": "5985adf5",
   "metadata": {
    "ExecuteTime": {
     "end_time": "2022-05-10T02:05:42.828237Z",
     "start_time": "2022-05-10T02:05:42.218979Z"
    }
   },
   "outputs": [
    {
     "data": {
      "text/html": [
       "<div>\n",
       "<style scoped>\n",
       "    .dataframe tbody tr th:only-of-type {\n",
       "        vertical-align: middle;\n",
       "    }\n",
       "\n",
       "    .dataframe tbody tr th {\n",
       "        vertical-align: top;\n",
       "    }\n",
       "\n",
       "    .dataframe thead th {\n",
       "        text-align: right;\n",
       "    }\n",
       "</style>\n",
       "<table border=\"1\" class=\"dataframe\">\n",
       "  <thead>\n",
       "    <tr style=\"text-align: right;\">\n",
       "      <th></th>\n",
       "      <th>course_id</th>\n",
       "    </tr>\n",
       "    <tr>\n",
       "      <th>customer_id</th>\n",
       "      <th></th>\n",
       "    </tr>\n",
       "  </thead>\n",
       "  <tbody>\n",
       "    <tr>\n",
       "      <th>46.0</th>\n",
       "      <td>1</td>\n",
       "    </tr>\n",
       "    <tr>\n",
       "      <th>47.0</th>\n",
       "      <td>2</td>\n",
       "    </tr>\n",
       "    <tr>\n",
       "      <th>79.0</th>\n",
       "      <td>1</td>\n",
       "    </tr>\n",
       "    <tr>\n",
       "      <th>96.0</th>\n",
       "      <td>1</td>\n",
       "    </tr>\n",
       "    <tr>\n",
       "      <th>152.0</th>\n",
       "      <td>1</td>\n",
       "    </tr>\n",
       "    <tr>\n",
       "      <th>...</th>\n",
       "      <td>...</td>\n",
       "    </tr>\n",
       "    <tr>\n",
       "      <th>670842.0</th>\n",
       "      <td>1</td>\n",
       "    </tr>\n",
       "    <tr>\n",
       "      <th>670891.0</th>\n",
       "      <td>1</td>\n",
       "    </tr>\n",
       "    <tr>\n",
       "      <th>672301.0</th>\n",
       "      <td>1</td>\n",
       "    </tr>\n",
       "    <tr>\n",
       "      <th>672307.0</th>\n",
       "      <td>1</td>\n",
       "    </tr>\n",
       "    <tr>\n",
       "      <th>672308.0</th>\n",
       "      <td>1</td>\n",
       "    </tr>\n",
       "  </tbody>\n",
       "</table>\n",
       "<p>40571 rows × 1 columns</p>\n",
       "</div>"
      ],
      "text/plain": [
       "             course_id\n",
       "customer_id           \n",
       "46.0                 1\n",
       "47.0                 2\n",
       "79.0                 1\n",
       "96.0                 1\n",
       "152.0                1\n",
       "...                ...\n",
       "670842.0             1\n",
       "670891.0             1\n",
       "672301.0             1\n",
       "672307.0             1\n",
       "672308.0             1\n",
       "\n",
       "[40571 rows x 1 columns]"
      ]
     },
     "execution_count": 74,
     "metadata": {},
     "output_type": "execute_result"
    }
   ],
   "source": [
    "# Customer_id 중복값 분석\n",
    "customer_course = data_new[['customer_id', 'course_id']]\n",
    "\n",
    "how = {\n",
    "    'course_id' : np.count_nonzero\n",
    "}\n",
    "\n",
    "\n",
    "data_new.groupby(['customer_id']).agg(how)"
   ]
  },
  {
   "cell_type": "code",
   "execution_count": 82,
   "id": "42338fcd",
   "metadata": {
    "ExecuteTime": {
     "end_time": "2022-05-10T02:16:30.852369Z",
     "start_time": "2022-05-10T02:16:30.820316Z"
    }
   },
   "outputs": [
    {
     "data": {
      "text/plain": [
       "array(['COMPLETED'], dtype=object)"
      ]
     },
     "execution_count": 82,
     "metadata": {},
     "output_type": "execute_result"
    }
   ],
   "source": [
    "comp_data = data_new[data_new['state']=='COMPLETED'] # COMPLETED 상태인 것만을 추출\n",
    "comp_data['state'].unique()\n"
   ]
  },
  {
   "cell_type": "code",
   "execution_count": 86,
   "id": "cc7d9bab",
   "metadata": {
    "ExecuteTime": {
     "end_time": "2022-05-10T02:18:13.938207Z",
     "start_time": "2022-05-10T02:18:13.896556Z"
    }
   },
   "outputs": [
    {
     "data": {
      "text/html": [
       "<div>\n",
       "<style scoped>\n",
       "    .dataframe tbody tr th:only-of-type {\n",
       "        vertical-align: middle;\n",
       "    }\n",
       "\n",
       "    .dataframe tbody tr th {\n",
       "        vertical-align: top;\n",
       "    }\n",
       "\n",
       "    .dataframe thead th {\n",
       "        text-align: right;\n",
       "    }\n",
       "</style>\n",
       "<table border=\"1\" class=\"dataframe\">\n",
       "  <thead>\n",
       "    <tr style=\"text-align: right;\">\n",
       "      <th></th>\n",
       "      <th>id</th>\n",
       "      <th>customer_id</th>\n",
       "      <th>course_id</th>\n",
       "      <th>type</th>\n",
       "      <th>state</th>\n",
       "      <th>course_title</th>\n",
       "      <th>category_title</th>\n",
       "      <th>format</th>\n",
       "      <th>completed_at</th>\n",
       "      <th>transaction_amount</th>\n",
       "      <th>coupon_title</th>\n",
       "      <th>coupon_discount_amount</th>\n",
       "      <th>sale_price</th>\n",
       "      <th>subcategory_title</th>\n",
       "      <th>marketing_start_at</th>\n",
       "      <th>payment_data</th>\n",
       "    </tr>\n",
       "  </thead>\n",
       "  <tbody>\n",
       "    <tr>\n",
       "      <th>2</th>\n",
       "      <td>970657.0</td>\n",
       "      <td>72297.0</td>\n",
       "      <td>204246.0</td>\n",
       "      <td>PAYMENT</td>\n",
       "      <td>COMPLETED</td>\n",
       "      <td>시크릿코드 : 프론트엔드 실무 완성편</td>\n",
       "      <td>프로그래밍</td>\n",
       "      <td>스쿨 온라인</td>\n",
       "      <td>2021-03-28 15:21:43</td>\n",
       "      <td>171810.0</td>\n",
       "      <td>[10% 할인] 시크릿코드 실무 완성편</td>\n",
       "      <td>19090.0</td>\n",
       "      <td>190900.0</td>\n",
       "      <td>NaN</td>\n",
       "      <td>2021-03-04</td>\n",
       "      <td>PG CARD</td>\n",
       "    </tr>\n",
       "    <tr>\n",
       "      <th>4</th>\n",
       "      <td>970658.0</td>\n",
       "      <td>478028.0</td>\n",
       "      <td>201797.0</td>\n",
       "      <td>PAYMENT</td>\n",
       "      <td>COMPLETED</td>\n",
       "      <td>올인원 패키지 : 직장인 필수 스킬 3종 세트 MAX</td>\n",
       "      <td>업무 생산성</td>\n",
       "      <td>올인원</td>\n",
       "      <td>2021-03-28 15:21:54</td>\n",
       "      <td>97500.0</td>\n",
       "      <td>[웰컴쿠폰] 올인원 패키지 2만원 할인 쿠폰</td>\n",
       "      <td>20000.0</td>\n",
       "      <td>117500.0</td>\n",
       "      <td>PPT/보고서</td>\n",
       "      <td>2019-11-14</td>\n",
       "      <td>PG CARD</td>\n",
       "    </tr>\n",
       "    <tr>\n",
       "      <th>8</th>\n",
       "      <td>970669.0</td>\n",
       "      <td>478033.0</td>\n",
       "      <td>203178.0</td>\n",
       "      <td>PAYMENT</td>\n",
       "      <td>COMPLETED</td>\n",
       "      <td>초격차 패키지 : 한번에 끝내는 영상 촬영과 편집</td>\n",
       "      <td>영상/3D</td>\n",
       "      <td>올인원</td>\n",
       "      <td>2021-03-28 15:26:47</td>\n",
       "      <td>96000.0</td>\n",
       "      <td>[웰컴쿠폰] 올인원 패키지 2만원 할인 쿠폰</td>\n",
       "      <td>20000.0</td>\n",
       "      <td>116000.0</td>\n",
       "      <td>영상 편집</td>\n",
       "      <td>2020-12-02</td>\n",
       "      <td>PG CARD</td>\n",
       "    </tr>\n",
       "    <tr>\n",
       "      <th>10</th>\n",
       "      <td>970671.0</td>\n",
       "      <td>469860.0</td>\n",
       "      <td>203644.0</td>\n",
       "      <td>PAYMENT</td>\n",
       "      <td>COMPLETED</td>\n",
       "      <td>올인원 패키지 : 권오상의 금융 아카데미 - 권오상의 재무제표 분석 기초(평생소장)</td>\n",
       "      <td>부동산/금융</td>\n",
       "      <td>올인원</td>\n",
       "      <td>2021-03-28 15:27:17</td>\n",
       "      <td>263000.0</td>\n",
       "      <td>NaN</td>\n",
       "      <td>NaN</td>\n",
       "      <td>263000.0</td>\n",
       "      <td>NaN</td>\n",
       "      <td>2020-11-27</td>\n",
       "      <td>PG CARD</td>\n",
       "    </tr>\n",
       "    <tr>\n",
       "      <th>14</th>\n",
       "      <td>970676.0</td>\n",
       "      <td>478035.0</td>\n",
       "      <td>203720.0</td>\n",
       "      <td>PAYMENT</td>\n",
       "      <td>COMPLETED</td>\n",
       "      <td>초격차 패키지 : 한 번에 끝내는 프론트엔드 개발</td>\n",
       "      <td>프로그래밍</td>\n",
       "      <td>올인원</td>\n",
       "      <td>2021-03-28 15:31:01</td>\n",
       "      <td>91000.0</td>\n",
       "      <td>[웰컴쿠폰] 올인원 패키지 2만원 할인 쿠폰</td>\n",
       "      <td>20000.0</td>\n",
       "      <td>111000.0</td>\n",
       "      <td>프론트엔드 개발</td>\n",
       "      <td>2021-02-02</td>\n",
       "      <td>PG CARD</td>\n",
       "    </tr>\n",
       "  </tbody>\n",
       "</table>\n",
       "</div>"
      ],
      "text/plain": [
       "          id  customer_id  course_id     type      state  \\\n",
       "2   970657.0      72297.0   204246.0  PAYMENT  COMPLETED   \n",
       "4   970658.0     478028.0   201797.0  PAYMENT  COMPLETED   \n",
       "8   970669.0     478033.0   203178.0  PAYMENT  COMPLETED   \n",
       "10  970671.0     469860.0   203644.0  PAYMENT  COMPLETED   \n",
       "14  970676.0     478035.0   203720.0  PAYMENT  COMPLETED   \n",
       "\n",
       "                                      course_title category_title  format  \\\n",
       "2                             시크릿코드 : 프론트엔드 실무 완성편          프로그래밍  스쿨 온라인   \n",
       "4                    올인원 패키지 : 직장인 필수 스킬 3종 세트 MAX         업무 생산성     올인원   \n",
       "8                      초격차 패키지 : 한번에 끝내는 영상 촬영과 편집          영상/3D     올인원   \n",
       "10  올인원 패키지 : 권오상의 금융 아카데미 - 권오상의 재무제표 분석 기초(평생소장)         부동산/금융     올인원   \n",
       "14                     초격차 패키지 : 한 번에 끝내는 프론트엔드 개발          프로그래밍     올인원   \n",
       "\n",
       "          completed_at  transaction_amount              coupon_title  \\\n",
       "2  2021-03-28 15:21:43            171810.0     [10% 할인] 시크릿코드 실무 완성편   \n",
       "4  2021-03-28 15:21:54             97500.0  [웰컴쿠폰] 올인원 패키지 2만원 할인 쿠폰   \n",
       "8  2021-03-28 15:26:47             96000.0  [웰컴쿠폰] 올인원 패키지 2만원 할인 쿠폰   \n",
       "10 2021-03-28 15:27:17            263000.0                       NaN   \n",
       "14 2021-03-28 15:31:01             91000.0  [웰컴쿠폰] 올인원 패키지 2만원 할인 쿠폰   \n",
       "\n",
       "    coupon_discount_amount  sale_price subcategory_title marketing_start_at  \\\n",
       "2                  19090.0    190900.0               NaN         2021-03-04   \n",
       "4                  20000.0    117500.0           PPT/보고서         2019-11-14   \n",
       "8                  20000.0    116000.0             영상 편집         2020-12-02   \n",
       "10                     NaN    263000.0               NaN         2020-11-27   \n",
       "14                 20000.0    111000.0          프론트엔드 개발         2021-02-02   \n",
       "\n",
       "   payment_data  \n",
       "2       PG CARD  \n",
       "4       PG CARD  \n",
       "8       PG CARD  \n",
       "10      PG CARD  \n",
       "14      PG CARD  "
      ]
     },
     "execution_count": 86,
     "metadata": {},
     "output_type": "execute_result"
    }
   ],
   "source": [
    "pay_data = comp_data[comp_data['type']== 'PAYMENT']\n",
    "pay_data.head()"
   ]
  },
  {
   "cell_type": "code",
   "execution_count": 88,
   "id": "b5eaa0fd",
   "metadata": {
    "ExecuteTime": {
     "end_time": "2022-05-10T02:18:50.004871Z",
     "start_time": "2022-05-10T02:18:49.973023Z"
    },
    "scrolled": true
   },
   "outputs": [
    {
     "data": {
      "text/html": [
       "<div>\n",
       "<style scoped>\n",
       "    .dataframe tbody tr th:only-of-type {\n",
       "        vertical-align: middle;\n",
       "    }\n",
       "\n",
       "    .dataframe tbody tr th {\n",
       "        vertical-align: top;\n",
       "    }\n",
       "\n",
       "    .dataframe thead th {\n",
       "        text-align: right;\n",
       "    }\n",
       "</style>\n",
       "<table border=\"1\" class=\"dataframe\">\n",
       "  <thead>\n",
       "    <tr style=\"text-align: right;\">\n",
       "      <th></th>\n",
       "      <th>id</th>\n",
       "      <th>customer_id</th>\n",
       "      <th>course_id</th>\n",
       "      <th>type</th>\n",
       "      <th>state</th>\n",
       "      <th>course_title</th>\n",
       "      <th>category_title</th>\n",
       "      <th>format</th>\n",
       "      <th>completed_at</th>\n",
       "      <th>transaction_amount</th>\n",
       "      <th>coupon_title</th>\n",
       "      <th>coupon_discount_amount</th>\n",
       "      <th>sale_price</th>\n",
       "      <th>subcategory_title</th>\n",
       "      <th>marketing_start_at</th>\n",
       "      <th>payment_data</th>\n",
       "    </tr>\n",
       "  </thead>\n",
       "  <tbody>\n",
       "    <tr>\n",
       "      <th>651</th>\n",
       "      <td>972377.0</td>\n",
       "      <td>444760.0</td>\n",
       "      <td>204122.0</td>\n",
       "      <td>REFUND</td>\n",
       "      <td>COMPLETED</td>\n",
       "      <td>퍼포먼스 마케터 되기 온라인 완주반 2기</td>\n",
       "      <td>마케팅</td>\n",
       "      <td>온라인 완주반</td>\n",
       "      <td>2021-03-29 09:24:43</td>\n",
       "      <td>-147000.0</td>\n",
       "      <td>NaN</td>\n",
       "      <td>NaN</td>\n",
       "      <td>404000.0</td>\n",
       "      <td>NaN</td>\n",
       "      <td>NaT</td>\n",
       "      <td>PG VBANK</td>\n",
       "    </tr>\n",
       "    <tr>\n",
       "      <th>652</th>\n",
       "      <td>972381.0</td>\n",
       "      <td>472666.0</td>\n",
       "      <td>203178.0</td>\n",
       "      <td>REFUND</td>\n",
       "      <td>COMPLETED</td>\n",
       "      <td>초격차 패키지 : 한번에 끝내는 영상 촬영과 편집</td>\n",
       "      <td>영상/3D</td>\n",
       "      <td>올인원</td>\n",
       "      <td>2021-03-29 09:26:13</td>\n",
       "      <td>-96000.0</td>\n",
       "      <td>NaN</td>\n",
       "      <td>NaN</td>\n",
       "      <td>116000.0</td>\n",
       "      <td>영상 편집</td>\n",
       "      <td>2020-12-02</td>\n",
       "      <td>PG CARD</td>\n",
       "    </tr>\n",
       "    <tr>\n",
       "      <th>666</th>\n",
       "      <td>972409.0</td>\n",
       "      <td>447177.0</td>\n",
       "      <td>203989.0</td>\n",
       "      <td>REFUND</td>\n",
       "      <td>COMPLETED</td>\n",
       "      <td>올인원 패키지 : 소금툰과 함께 캐릭터 드로잉/굿즈/임티/컷툰</td>\n",
       "      <td>디자인</td>\n",
       "      <td>올인원</td>\n",
       "      <td>2021-03-29 09:40:54</td>\n",
       "      <td>-79000.0</td>\n",
       "      <td>NaN</td>\n",
       "      <td>NaN</td>\n",
       "      <td>89000.0</td>\n",
       "      <td>일러스트</td>\n",
       "      <td>2021-02-19</td>\n",
       "      <td>PG CARD</td>\n",
       "    </tr>\n",
       "    <tr>\n",
       "      <th>672</th>\n",
       "      <td>972422.0</td>\n",
       "      <td>373915.0</td>\n",
       "      <td>204264.0</td>\n",
       "      <td>REFUND</td>\n",
       "      <td>COMPLETED</td>\n",
       "      <td>데이터분석 프로젝트+자격증 온라인 완주반 3기</td>\n",
       "      <td>데이터사이언스</td>\n",
       "      <td>온라인 완주반</td>\n",
       "      <td>2021-03-29 09:44:01</td>\n",
       "      <td>-340000.0</td>\n",
       "      <td>NaN</td>\n",
       "      <td>NaN</td>\n",
       "      <td>340000.0</td>\n",
       "      <td>NaN</td>\n",
       "      <td>2021-03-08</td>\n",
       "      <td>PG VBANK</td>\n",
       "    </tr>\n",
       "    <tr>\n",
       "      <th>675</th>\n",
       "      <td>972436.0</td>\n",
       "      <td>456086.0</td>\n",
       "      <td>NaN</td>\n",
       "      <td>REFUND</td>\n",
       "      <td>COMPLETED</td>\n",
       "      <td>프로모션 :연봉 앞자리가 바뀌는 프론트엔드 한끝세트 (3월 프리패스)</td>\n",
       "      <td>프로그래밍</td>\n",
       "      <td>올인원</td>\n",
       "      <td>2021-03-29 09:47:17</td>\n",
       "      <td>-299000.0</td>\n",
       "      <td>NaN</td>\n",
       "      <td>NaN</td>\n",
       "      <td>299000.0</td>\n",
       "      <td>NaN</td>\n",
       "      <td>NaT</td>\n",
       "      <td>PG CARD</td>\n",
       "    </tr>\n",
       "  </tbody>\n",
       "</table>\n",
       "</div>"
      ],
      "text/plain": [
       "           id  customer_id  course_id    type      state  \\\n",
       "651  972377.0     444760.0   204122.0  REFUND  COMPLETED   \n",
       "652  972381.0     472666.0   203178.0  REFUND  COMPLETED   \n",
       "666  972409.0     447177.0   203989.0  REFUND  COMPLETED   \n",
       "672  972422.0     373915.0   204264.0  REFUND  COMPLETED   \n",
       "675  972436.0     456086.0        NaN  REFUND  COMPLETED   \n",
       "\n",
       "                               course_title category_title   format  \\\n",
       "651                  퍼포먼스 마케터 되기 온라인 완주반 2기            마케팅  온라인 완주반   \n",
       "652             초격차 패키지 : 한번에 끝내는 영상 촬영과 편집          영상/3D      올인원   \n",
       "666      올인원 패키지 : 소금툰과 함께 캐릭터 드로잉/굿즈/임티/컷툰            디자인      올인원   \n",
       "672               데이터분석 프로젝트+자격증 온라인 완주반 3기        데이터사이언스  온라인 완주반   \n",
       "675  프로모션 :연봉 앞자리가 바뀌는 프론트엔드 한끝세트 (3월 프리패스)          프로그래밍      올인원   \n",
       "\n",
       "           completed_at  transaction_amount coupon_title  \\\n",
       "651 2021-03-29 09:24:43           -147000.0          NaN   \n",
       "652 2021-03-29 09:26:13            -96000.0          NaN   \n",
       "666 2021-03-29 09:40:54            -79000.0          NaN   \n",
       "672 2021-03-29 09:44:01           -340000.0          NaN   \n",
       "675 2021-03-29 09:47:17           -299000.0          NaN   \n",
       "\n",
       "     coupon_discount_amount  sale_price subcategory_title marketing_start_at  \\\n",
       "651                     NaN    404000.0               NaN                NaT   \n",
       "652                     NaN    116000.0             영상 편집         2020-12-02   \n",
       "666                     NaN     89000.0              일러스트         2021-02-19   \n",
       "672                     NaN    340000.0               NaN         2021-03-08   \n",
       "675                     NaN    299000.0               NaN                NaT   \n",
       "\n",
       "    payment_data  \n",
       "651     PG VBANK  \n",
       "652      PG CARD  \n",
       "666      PG CARD  \n",
       "672     PG VBANK  \n",
       "675      PG CARD  "
      ]
     },
     "execution_count": 88,
     "metadata": {},
     "output_type": "execute_result"
    }
   ],
   "source": [
    "refund_data = comp_data[comp_data['type']== 'REFUND']\n",
    "refund_data.head()"
   ]
  },
  {
   "cell_type": "code",
   "execution_count": 104,
   "id": "75a2148b",
   "metadata": {
    "ExecuteTime": {
     "end_time": "2022-05-10T02:36:18.451762Z",
     "start_time": "2022-05-10T02:36:18.424267Z"
    }
   },
   "outputs": [
    {
     "data": {
      "text/html": [
       "<div>\n",
       "<style scoped>\n",
       "    .dataframe tbody tr th:only-of-type {\n",
       "        vertical-align: middle;\n",
       "    }\n",
       "\n",
       "    .dataframe tbody tr th {\n",
       "        vertical-align: top;\n",
       "    }\n",
       "\n",
       "    .dataframe thead th {\n",
       "        text-align: right;\n",
       "    }\n",
       "</style>\n",
       "<table border=\"1\" class=\"dataframe\">\n",
       "  <thead>\n",
       "    <tr style=\"text-align: right;\">\n",
       "      <th></th>\n",
       "      <th>customer_id_pay</th>\n",
       "    </tr>\n",
       "  </thead>\n",
       "  <tbody>\n",
       "    <tr>\n",
       "      <th>2</th>\n",
       "      <td>72297.0</td>\n",
       "    </tr>\n",
       "    <tr>\n",
       "      <th>4</th>\n",
       "      <td>478028.0</td>\n",
       "    </tr>\n",
       "    <tr>\n",
       "      <th>8</th>\n",
       "      <td>478033.0</td>\n",
       "    </tr>\n",
       "    <tr>\n",
       "      <th>10</th>\n",
       "      <td>469860.0</td>\n",
       "    </tr>\n",
       "    <tr>\n",
       "      <th>14</th>\n",
       "      <td>478035.0</td>\n",
       "    </tr>\n",
       "    <tr>\n",
       "      <th>...</th>\n",
       "      <td>...</td>\n",
       "    </tr>\n",
       "    <tr>\n",
       "      <th>105411</th>\n",
       "      <td>669238.0</td>\n",
       "    </tr>\n",
       "    <tr>\n",
       "      <th>105412</th>\n",
       "      <td>384003.0</td>\n",
       "    </tr>\n",
       "    <tr>\n",
       "      <th>105413</th>\n",
       "      <td>670891.0</td>\n",
       "    </tr>\n",
       "    <tr>\n",
       "      <th>105416</th>\n",
       "      <td>640697.0</td>\n",
       "    </tr>\n",
       "    <tr>\n",
       "      <th>105418</th>\n",
       "      <td>610626.0</td>\n",
       "    </tr>\n",
       "  </tbody>\n",
       "</table>\n",
       "<p>52902 rows × 1 columns</p>\n",
       "</div>"
      ],
      "text/plain": [
       "        customer_id_pay\n",
       "2               72297.0\n",
       "4              478028.0\n",
       "8              478033.0\n",
       "10             469860.0\n",
       "14             478035.0\n",
       "...                 ...\n",
       "105411         669238.0\n",
       "105412         384003.0\n",
       "105413         670891.0\n",
       "105416         640697.0\n",
       "105418         610626.0\n",
       "\n",
       "[52902 rows x 1 columns]"
      ]
     },
     "execution_count": 104,
     "metadata": {},
     "output_type": "execute_result"
    }
   ],
   "source": [
    "dupl_data = pd.DataFrame([]) \n",
    "dupl_data['customer_id_pay'] = pay_data['customer_id']\n",
    "dupl_data\n"
   ]
  },
  {
   "cell_type": "code",
   "execution_count": 112,
   "id": "2c11d424",
   "metadata": {
    "ExecuteTime": {
     "end_time": "2022-05-10T02:39:54.315964Z",
     "start_time": "2022-05-10T02:39:54.304647Z"
    }
   },
   "outputs": [
    {
     "data": {
      "text/plain": [
       "55928.0     11\n",
       "624778.0    10\n",
       "496508.0    10\n",
       "443538.0     7\n",
       "547302.0     7\n",
       "            ..\n",
       "400032.0     1\n",
       "533603.0     1\n",
       "527494.0     1\n",
       "546256.0     1\n",
       "552100.0     1\n",
       "Name: customer_id, Length: 3403, dtype: int64"
      ]
     },
     "execution_count": 112,
     "metadata": {},
     "output_type": "execute_result"
    }
   ],
   "source": [
    "refund_data['customer_id'].value_counts()"
   ]
  },
  {
   "cell_type": "code",
   "execution_count": 115,
   "id": "f1d14b9b",
   "metadata": {
    "ExecuteTime": {
     "end_time": "2022-05-10T02:41:21.765796Z",
     "start_time": "2022-05-10T02:41:21.731449Z"
    }
   },
   "outputs": [
    {
     "data": {
      "text/html": [
       "<div>\n",
       "<style scoped>\n",
       "    .dataframe tbody tr th:only-of-type {\n",
       "        vertical-align: middle;\n",
       "    }\n",
       "\n",
       "    .dataframe tbody tr th {\n",
       "        vertical-align: top;\n",
       "    }\n",
       "\n",
       "    .dataframe thead th {\n",
       "        text-align: right;\n",
       "    }\n",
       "</style>\n",
       "<table border=\"1\" class=\"dataframe\">\n",
       "  <thead>\n",
       "    <tr style=\"text-align: right;\">\n",
       "      <th></th>\n",
       "      <th>id</th>\n",
       "      <th>customer_id</th>\n",
       "      <th>course_id</th>\n",
       "      <th>type</th>\n",
       "      <th>state</th>\n",
       "      <th>course_title</th>\n",
       "      <th>category_title</th>\n",
       "      <th>format</th>\n",
       "      <th>completed_at</th>\n",
       "      <th>transaction_amount</th>\n",
       "      <th>coupon_title</th>\n",
       "      <th>coupon_discount_amount</th>\n",
       "      <th>sale_price</th>\n",
       "      <th>subcategory_title</th>\n",
       "      <th>marketing_start_at</th>\n",
       "      <th>payment_data</th>\n",
       "    </tr>\n",
       "  </thead>\n",
       "  <tbody>\n",
       "    <tr>\n",
       "      <th>55978</th>\n",
       "      <td>1146880.0</td>\n",
       "      <td>55928.0</td>\n",
       "      <td>205231.0</td>\n",
       "      <td>PAYMENT</td>\n",
       "      <td>COMPLETED</td>\n",
       "      <td>올인원 패키지 : C#으로 하는 인공지능 게임 제작 : 강화학습 에이전트를 사용한 ...</td>\n",
       "      <td>프로그래밍</td>\n",
       "      <td>올인원</td>\n",
       "      <td>2021-06-17 13:30:25</td>\n",
       "      <td>99000.0</td>\n",
       "      <td>NaN</td>\n",
       "      <td>NaN</td>\n",
       "      <td>99000.0</td>\n",
       "      <td>게임</td>\n",
       "      <td>2021-06-16</td>\n",
       "      <td>KAKAO POINT</td>\n",
       "    </tr>\n",
       "    <tr>\n",
       "      <th>55982</th>\n",
       "      <td>1146884.0</td>\n",
       "      <td>55928.0</td>\n",
       "      <td>203935.0</td>\n",
       "      <td>PAYMENT</td>\n",
       "      <td>COMPLETED</td>\n",
       "      <td>초격차 패키지 : 한 번에 끝내는 파이썬 웹 개발</td>\n",
       "      <td>프로그래밍</td>\n",
       "      <td>올인원</td>\n",
       "      <td>2021-06-17 13:31:25</td>\n",
       "      <td>99000.0</td>\n",
       "      <td>NaN</td>\n",
       "      <td>NaN</td>\n",
       "      <td>99000.0</td>\n",
       "      <td>백엔드 개발</td>\n",
       "      <td>2021-05-31</td>\n",
       "      <td>KAKAO POINT</td>\n",
       "    </tr>\n",
       "    <tr>\n",
       "      <th>55987</th>\n",
       "      <td>1146894.0</td>\n",
       "      <td>55928.0</td>\n",
       "      <td>202555.0</td>\n",
       "      <td>PAYMENT</td>\n",
       "      <td>COMPLETED</td>\n",
       "      <td>올인원 패키지 : 리눅스 실전 정복</td>\n",
       "      <td>프로그래밍</td>\n",
       "      <td>올인원</td>\n",
       "      <td>2021-06-17 13:34:51</td>\n",
       "      <td>122500.0</td>\n",
       "      <td>NaN</td>\n",
       "      <td>NaN</td>\n",
       "      <td>122500.0</td>\n",
       "      <td>DevOps</td>\n",
       "      <td>2020-03-23</td>\n",
       "      <td>KAKAO POINT</td>\n",
       "    </tr>\n",
       "    <tr>\n",
       "      <th>56309</th>\n",
       "      <td>1148382.0</td>\n",
       "      <td>55928.0</td>\n",
       "      <td>202613.0</td>\n",
       "      <td>PAYMENT</td>\n",
       "      <td>COMPLETED</td>\n",
       "      <td>올인원 패키지 : 네트워크와 보안 핵심 요약</td>\n",
       "      <td>프로그래밍</td>\n",
       "      <td>올인원</td>\n",
       "      <td>2021-06-18 01:21:08</td>\n",
       "      <td>96500.0</td>\n",
       "      <td>NaN</td>\n",
       "      <td>NaN</td>\n",
       "      <td>96500.0</td>\n",
       "      <td>개발자 커리어</td>\n",
       "      <td>2020-05-08</td>\n",
       "      <td>KAKAO POINT</td>\n",
       "    </tr>\n",
       "    <tr>\n",
       "      <th>56743</th>\n",
       "      <td>1150505.0</td>\n",
       "      <td>55928.0</td>\n",
       "      <td>205807.0</td>\n",
       "      <td>PAYMENT</td>\n",
       "      <td>COMPLETED</td>\n",
       "      <td>[런칭프로모션_무료클립제공] 올인원 패키지 : 박은종의 객체지향 설계를 위한 디자인...</td>\n",
       "      <td>프로그래밍</td>\n",
       "      <td>올인원</td>\n",
       "      <td>2021-06-19 00:16:36</td>\n",
       "      <td>89000.0</td>\n",
       "      <td>NaN</td>\n",
       "      <td>NaN</td>\n",
       "      <td>89000.0</td>\n",
       "      <td>NaN</td>\n",
       "      <td>2021-06-18</td>\n",
       "      <td>KAKAO POINT</td>\n",
       "    </tr>\n",
       "    <tr>\n",
       "      <th>56775</th>\n",
       "      <td>1150619.0</td>\n",
       "      <td>55928.0</td>\n",
       "      <td>204373.0</td>\n",
       "      <td>PAYMENT</td>\n",
       "      <td>COMPLETED</td>\n",
       "      <td>초격차 패키지 : 일잘러 필수 스킬 모음.zip</td>\n",
       "      <td>업무 생산성</td>\n",
       "      <td>올인원</td>\n",
       "      <td>2021-06-19 01:55:30</td>\n",
       "      <td>109000.0</td>\n",
       "      <td>NaN</td>\n",
       "      <td>NaN</td>\n",
       "      <td>109000.0</td>\n",
       "      <td>PPT/보고서</td>\n",
       "      <td>2021-06-04</td>\n",
       "      <td>KAKAO POINT</td>\n",
       "    </tr>\n",
       "    <tr>\n",
       "      <th>69871</th>\n",
       "      <td>1199122.0</td>\n",
       "      <td>55928.0</td>\n",
       "      <td>203525.0</td>\n",
       "      <td>PAYMENT</td>\n",
       "      <td>COMPLETED</td>\n",
       "      <td>초격차 패키지 : 한번에 끝내는 Java/Spring 웹 개발 마스터</td>\n",
       "      <td>프로그래밍</td>\n",
       "      <td>올인원</td>\n",
       "      <td>2021-07-07 04:10:37</td>\n",
       "      <td>72700.0</td>\n",
       "      <td>6월 반값특가 프로모션 쿠폰</td>\n",
       "      <td>61300.0</td>\n",
       "      <td>134000.0</td>\n",
       "      <td>백엔드 개발</td>\n",
       "      <td>2021-02-01</td>\n",
       "      <td>KAKAO POINT</td>\n",
       "    </tr>\n",
       "    <tr>\n",
       "      <th>69872</th>\n",
       "      <td>1199125.0</td>\n",
       "      <td>55928.0</td>\n",
       "      <td>204631.0</td>\n",
       "      <td>PAYMENT</td>\n",
       "      <td>COMPLETED</td>\n",
       "      <td>초격차 패키지 : 한 번에 끝내는 node.js 웹 프로그래밍</td>\n",
       "      <td>프로그래밍</td>\n",
       "      <td>올인원</td>\n",
       "      <td>2021-07-07 04:14:30</td>\n",
       "      <td>69000.0</td>\n",
       "      <td>6월 반값특가 프로모션 쿠폰</td>\n",
       "      <td>56000.0</td>\n",
       "      <td>125000.0</td>\n",
       "      <td>백엔드 개발</td>\n",
       "      <td>NaT</td>\n",
       "      <td>KAKAO POINT</td>\n",
       "    </tr>\n",
       "    <tr>\n",
       "      <th>69878</th>\n",
       "      <td>1199146.0</td>\n",
       "      <td>55928.0</td>\n",
       "      <td>205879.0</td>\n",
       "      <td>PAYMENT</td>\n",
       "      <td>COMPLETED</td>\n",
       "      <td>올인원 패키지 : 누적 다운로드 120만+ 1인 개발자와 함께하는 앱 개발 입문</td>\n",
       "      <td>프로그래밍</td>\n",
       "      <td>올인원</td>\n",
       "      <td>2021-07-07 05:32:04</td>\n",
       "      <td>84500.0</td>\n",
       "      <td>6월 반값특가 프로모션 쿠폰</td>\n",
       "      <td>54500.0</td>\n",
       "      <td>139000.0</td>\n",
       "      <td>모바일앱</td>\n",
       "      <td>2021-07-02</td>\n",
       "      <td>KAKAO POINT</td>\n",
       "    </tr>\n",
       "  </tbody>\n",
       "</table>\n",
       "</div>"
      ],
      "text/plain": [
       "              id  customer_id  course_id     type      state  \\\n",
       "55978  1146880.0      55928.0   205231.0  PAYMENT  COMPLETED   \n",
       "55982  1146884.0      55928.0   203935.0  PAYMENT  COMPLETED   \n",
       "55987  1146894.0      55928.0   202555.0  PAYMENT  COMPLETED   \n",
       "56309  1148382.0      55928.0   202613.0  PAYMENT  COMPLETED   \n",
       "56743  1150505.0      55928.0   205807.0  PAYMENT  COMPLETED   \n",
       "56775  1150619.0      55928.0   204373.0  PAYMENT  COMPLETED   \n",
       "69871  1199122.0      55928.0   203525.0  PAYMENT  COMPLETED   \n",
       "69872  1199125.0      55928.0   204631.0  PAYMENT  COMPLETED   \n",
       "69878  1199146.0      55928.0   205879.0  PAYMENT  COMPLETED   \n",
       "\n",
       "                                            course_title category_title  \\\n",
       "55978  올인원 패키지 : C#으로 하는 인공지능 게임 제작 : 강화학습 에이전트를 사용한 ...          프로그래밍   \n",
       "55982                        초격차 패키지 : 한 번에 끝내는 파이썬 웹 개발          프로그래밍   \n",
       "55987                                올인원 패키지 : 리눅스 실전 정복          프로그래밍   \n",
       "56309                           올인원 패키지 : 네트워크와 보안 핵심 요약          프로그래밍   \n",
       "56743  [런칭프로모션_무료클립제공] 올인원 패키지 : 박은종의 객체지향 설계를 위한 디자인...          프로그래밍   \n",
       "56775                         초격차 패키지 : 일잘러 필수 스킬 모음.zip         업무 생산성   \n",
       "69871             초격차 패키지 : 한번에 끝내는 Java/Spring 웹 개발 마스터          프로그래밍   \n",
       "69872                 초격차 패키지 : 한 번에 끝내는 node.js 웹 프로그래밍          프로그래밍   \n",
       "69878       올인원 패키지 : 누적 다운로드 120만+ 1인 개발자와 함께하는 앱 개발 입문          프로그래밍   \n",
       "\n",
       "      format        completed_at  transaction_amount     coupon_title  \\\n",
       "55978    올인원 2021-06-17 13:30:25             99000.0              NaN   \n",
       "55982    올인원 2021-06-17 13:31:25             99000.0              NaN   \n",
       "55987    올인원 2021-06-17 13:34:51            122500.0              NaN   \n",
       "56309    올인원 2021-06-18 01:21:08             96500.0              NaN   \n",
       "56743    올인원 2021-06-19 00:16:36             89000.0              NaN   \n",
       "56775    올인원 2021-06-19 01:55:30            109000.0              NaN   \n",
       "69871    올인원 2021-07-07 04:10:37             72700.0  6월 반값특가 프로모션 쿠폰   \n",
       "69872    올인원 2021-07-07 04:14:30             69000.0  6월 반값특가 프로모션 쿠폰   \n",
       "69878    올인원 2021-07-07 05:32:04             84500.0  6월 반값특가 프로모션 쿠폰   \n",
       "\n",
       "       coupon_discount_amount  sale_price subcategory_title  \\\n",
       "55978                     NaN     99000.0                게임   \n",
       "55982                     NaN     99000.0            백엔드 개발   \n",
       "55987                     NaN    122500.0            DevOps   \n",
       "56309                     NaN     96500.0           개발자 커리어   \n",
       "56743                     NaN     89000.0               NaN   \n",
       "56775                     NaN    109000.0           PPT/보고서   \n",
       "69871                 61300.0    134000.0            백엔드 개발   \n",
       "69872                 56000.0    125000.0            백엔드 개발   \n",
       "69878                 54500.0    139000.0              모바일앱   \n",
       "\n",
       "      marketing_start_at payment_data  \n",
       "55978         2021-06-16  KAKAO POINT  \n",
       "55982         2021-05-31  KAKAO POINT  \n",
       "55987         2020-03-23  KAKAO POINT  \n",
       "56309         2020-05-08  KAKAO POINT  \n",
       "56743         2021-06-18  KAKAO POINT  \n",
       "56775         2021-06-04  KAKAO POINT  \n",
       "69871         2021-02-01  KAKAO POINT  \n",
       "69872                NaT  KAKAO POINT  \n",
       "69878         2021-07-02  KAKAO POINT  "
      ]
     },
     "execution_count": 115,
     "metadata": {},
     "output_type": "execute_result"
    }
   ],
   "source": [
    "refund_data['customer_id'].value_counts()\n",
    "pay_data[pay_data['customer_id']==55928.0]"
   ]
  },
  {
   "cell_type": "code",
   "execution_count": 114,
   "id": "2291e3a2",
   "metadata": {
    "ExecuteTime": {
     "end_time": "2022-05-10T02:41:11.916294Z",
     "start_time": "2022-05-10T02:41:11.886539Z"
    }
   },
   "outputs": [
    {
     "data": {
      "text/html": [
       "<div>\n",
       "<style scoped>\n",
       "    .dataframe tbody tr th:only-of-type {\n",
       "        vertical-align: middle;\n",
       "    }\n",
       "\n",
       "    .dataframe tbody tr th {\n",
       "        vertical-align: top;\n",
       "    }\n",
       "\n",
       "    .dataframe thead th {\n",
       "        text-align: right;\n",
       "    }\n",
       "</style>\n",
       "<table border=\"1\" class=\"dataframe\">\n",
       "  <thead>\n",
       "    <tr style=\"text-align: right;\">\n",
       "      <th></th>\n",
       "      <th>id</th>\n",
       "      <th>customer_id</th>\n",
       "      <th>course_id</th>\n",
       "      <th>type</th>\n",
       "      <th>state</th>\n",
       "      <th>course_title</th>\n",
       "      <th>category_title</th>\n",
       "      <th>format</th>\n",
       "      <th>completed_at</th>\n",
       "      <th>transaction_amount</th>\n",
       "      <th>coupon_title</th>\n",
       "      <th>coupon_discount_amount</th>\n",
       "      <th>sale_price</th>\n",
       "      <th>subcategory_title</th>\n",
       "      <th>marketing_start_at</th>\n",
       "      <th>payment_data</th>\n",
       "    </tr>\n",
       "  </thead>\n",
       "  <tbody>\n",
       "    <tr>\n",
       "      <th>27606</th>\n",
       "      <td>1052631.0</td>\n",
       "      <td>55928.0</td>\n",
       "      <td>NaN</td>\n",
       "      <td>REFUND</td>\n",
       "      <td>COMPLETED</td>\n",
       "      <td>프로모션 : 학점부터 코테까지 전공생 코딩 무제한 99패스 (5월 프리패스)</td>\n",
       "      <td>프로그래밍</td>\n",
       "      <td>올인원</td>\n",
       "      <td>2021-05-04 19:06:08</td>\n",
       "      <td>-299000.0</td>\n",
       "      <td>NaN</td>\n",
       "      <td>NaN</td>\n",
       "      <td>299000.0</td>\n",
       "      <td>NaN</td>\n",
       "      <td>NaT</td>\n",
       "      <td>KAKAO POINT</td>\n",
       "    </tr>\n",
       "    <tr>\n",
       "      <th>56515</th>\n",
       "      <td>1149461.0</td>\n",
       "      <td>55928.0</td>\n",
       "      <td>202555.0</td>\n",
       "      <td>REFUND</td>\n",
       "      <td>COMPLETED</td>\n",
       "      <td>올인원 패키지 : 리눅스 실전 정복</td>\n",
       "      <td>프로그래밍</td>\n",
       "      <td>올인원</td>\n",
       "      <td>2021-06-18 15:31:49</td>\n",
       "      <td>-122500.0</td>\n",
       "      <td>NaN</td>\n",
       "      <td>NaN</td>\n",
       "      <td>122500.0</td>\n",
       "      <td>DevOps</td>\n",
       "      <td>2020-03-23</td>\n",
       "      <td>KAKAO POINT</td>\n",
       "    </tr>\n",
       "    <tr>\n",
       "      <th>56516</th>\n",
       "      <td>1149462.0</td>\n",
       "      <td>55928.0</td>\n",
       "      <td>203720.0</td>\n",
       "      <td>REFUND</td>\n",
       "      <td>COMPLETED</td>\n",
       "      <td>초격차 패키지 : 한 번에 끝내는 프론트엔드 개발</td>\n",
       "      <td>프로그래밍</td>\n",
       "      <td>올인원</td>\n",
       "      <td>2021-06-18 15:32:12</td>\n",
       "      <td>-116000.0</td>\n",
       "      <td>NaN</td>\n",
       "      <td>NaN</td>\n",
       "      <td>116000.0</td>\n",
       "      <td>프론트엔드 개발</td>\n",
       "      <td>2021-02-02</td>\n",
       "      <td>KAKAO POINT</td>\n",
       "    </tr>\n",
       "    <tr>\n",
       "      <th>56518</th>\n",
       "      <td>1149464.0</td>\n",
       "      <td>55928.0</td>\n",
       "      <td>202613.0</td>\n",
       "      <td>REFUND</td>\n",
       "      <td>COMPLETED</td>\n",
       "      <td>올인원 패키지 : 네트워크와 보안 핵심 요약</td>\n",
       "      <td>프로그래밍</td>\n",
       "      <td>올인원</td>\n",
       "      <td>2021-06-18 15:32:33</td>\n",
       "      <td>-96500.0</td>\n",
       "      <td>NaN</td>\n",
       "      <td>NaN</td>\n",
       "      <td>96500.0</td>\n",
       "      <td>개발자 커리어</td>\n",
       "      <td>2020-05-08</td>\n",
       "      <td>KAKAO POINT</td>\n",
       "    </tr>\n",
       "    <tr>\n",
       "      <th>58153</th>\n",
       "      <td>1154694.0</td>\n",
       "      <td>55928.0</td>\n",
       "      <td>204631.0</td>\n",
       "      <td>REFUND</td>\n",
       "      <td>COMPLETED</td>\n",
       "      <td>초격차 패키지 : 한 번에 끝내는 node.js 웹 프로그래밍</td>\n",
       "      <td>프로그래밍</td>\n",
       "      <td>올인원</td>\n",
       "      <td>2021-06-21 10:49:24</td>\n",
       "      <td>-95000.0</td>\n",
       "      <td>NaN</td>\n",
       "      <td>NaN</td>\n",
       "      <td>95000.0</td>\n",
       "      <td>백엔드 개발</td>\n",
       "      <td>NaT</td>\n",
       "      <td>KAKAO POINT</td>\n",
       "    </tr>\n",
       "    <tr>\n",
       "      <th>65413</th>\n",
       "      <td>1180341.0</td>\n",
       "      <td>55928.0</td>\n",
       "      <td>205548.0</td>\n",
       "      <td>REFUND</td>\n",
       "      <td>COMPLETED</td>\n",
       "      <td>초격차 패키지 : 한 번에 끝내는 데이터 분석</td>\n",
       "      <td>데이터사이언스</td>\n",
       "      <td>올인원</td>\n",
       "      <td>2021-06-30 18:13:59</td>\n",
       "      <td>-89000.0</td>\n",
       "      <td>NaN</td>\n",
       "      <td>NaN</td>\n",
       "      <td>89000.0</td>\n",
       "      <td>데이터분석</td>\n",
       "      <td>2021-06-17</td>\n",
       "      <td>KAKAO POINT</td>\n",
       "    </tr>\n",
       "    <tr>\n",
       "      <th>65414</th>\n",
       "      <td>1180347.0</td>\n",
       "      <td>55928.0</td>\n",
       "      <td>205231.0</td>\n",
       "      <td>REFUND</td>\n",
       "      <td>COMPLETED</td>\n",
       "      <td>올인원 패키지 : C#으로 하는 인공지능 게임 제작 : 강화학습 에이전트를 사용한 ...</td>\n",
       "      <td>프로그래밍</td>\n",
       "      <td>올인원</td>\n",
       "      <td>2021-06-30 18:14:41</td>\n",
       "      <td>-99000.0</td>\n",
       "      <td>NaN</td>\n",
       "      <td>NaN</td>\n",
       "      <td>99000.0</td>\n",
       "      <td>게임</td>\n",
       "      <td>2021-06-16</td>\n",
       "      <td>KAKAO POINT</td>\n",
       "    </tr>\n",
       "    <tr>\n",
       "      <th>72722</th>\n",
       "      <td>1213324.0</td>\n",
       "      <td>55928.0</td>\n",
       "      <td>205925.0</td>\n",
       "      <td>REFUND</td>\n",
       "      <td>COMPLETED</td>\n",
       "      <td>[런칭프로모션_무료클립제공]초격차 패키지 : 한 번에 끝내는 React의 모든 것</td>\n",
       "      <td>프로그래밍</td>\n",
       "      <td>올인원</td>\n",
       "      <td>2021-07-13 10:07:47</td>\n",
       "      <td>-189000.0</td>\n",
       "      <td>NaN</td>\n",
       "      <td>NaN</td>\n",
       "      <td>189000.0</td>\n",
       "      <td>NaN</td>\n",
       "      <td>2021-06-25</td>\n",
       "      <td>KAKAO POINT</td>\n",
       "    </tr>\n",
       "    <tr>\n",
       "      <th>72723</th>\n",
       "      <td>1213329.0</td>\n",
       "      <td>55928.0</td>\n",
       "      <td>204631.0</td>\n",
       "      <td>REFUND</td>\n",
       "      <td>COMPLETED</td>\n",
       "      <td>초격차 패키지 : 한 번에 끝내는 node.js 웹 프로그래밍</td>\n",
       "      <td>프로그래밍</td>\n",
       "      <td>올인원</td>\n",
       "      <td>2021-07-13 10:11:25</td>\n",
       "      <td>-69000.0</td>\n",
       "      <td>NaN</td>\n",
       "      <td>NaN</td>\n",
       "      <td>125000.0</td>\n",
       "      <td>백엔드 개발</td>\n",
       "      <td>NaT</td>\n",
       "      <td>KAKAO POINT</td>\n",
       "    </tr>\n",
       "    <tr>\n",
       "      <th>72724</th>\n",
       "      <td>1213330.0</td>\n",
       "      <td>55928.0</td>\n",
       "      <td>203942.0</td>\n",
       "      <td>REFUND</td>\n",
       "      <td>COMPLETED</td>\n",
       "      <td>초격차 패키지 : 30개 프로젝트로 배우는 Android 앱 개발 with Kotlin</td>\n",
       "      <td>프로그래밍</td>\n",
       "      <td>올인원</td>\n",
       "      <td>2021-07-13 10:11:43</td>\n",
       "      <td>-74666.0</td>\n",
       "      <td>NaN</td>\n",
       "      <td>NaN</td>\n",
       "      <td>112000.0</td>\n",
       "      <td>모바일앱</td>\n",
       "      <td>2021-02-25</td>\n",
       "      <td>KAKAO POINT</td>\n",
       "    </tr>\n",
       "    <tr>\n",
       "      <th>77263</th>\n",
       "      <td>1231613.0</td>\n",
       "      <td>55928.0</td>\n",
       "      <td>203720.0</td>\n",
       "      <td>REFUND</td>\n",
       "      <td>COMPLETED</td>\n",
       "      <td>초격차 패키지 : 한 번에 끝내는 프론트엔드 개발</td>\n",
       "      <td>프로그래밍</td>\n",
       "      <td>올인원</td>\n",
       "      <td>2021-07-21 11:01:33</td>\n",
       "      <td>-136000.0</td>\n",
       "      <td>NaN</td>\n",
       "      <td>NaN</td>\n",
       "      <td>136000.0</td>\n",
       "      <td>프론트엔드 개발</td>\n",
       "      <td>2021-02-02</td>\n",
       "      <td>KAKAO POINT</td>\n",
       "    </tr>\n",
       "  </tbody>\n",
       "</table>\n",
       "</div>"
      ],
      "text/plain": [
       "              id  customer_id  course_id    type      state  \\\n",
       "27606  1052631.0      55928.0        NaN  REFUND  COMPLETED   \n",
       "56515  1149461.0      55928.0   202555.0  REFUND  COMPLETED   \n",
       "56516  1149462.0      55928.0   203720.0  REFUND  COMPLETED   \n",
       "56518  1149464.0      55928.0   202613.0  REFUND  COMPLETED   \n",
       "58153  1154694.0      55928.0   204631.0  REFUND  COMPLETED   \n",
       "65413  1180341.0      55928.0   205548.0  REFUND  COMPLETED   \n",
       "65414  1180347.0      55928.0   205231.0  REFUND  COMPLETED   \n",
       "72722  1213324.0      55928.0   205925.0  REFUND  COMPLETED   \n",
       "72723  1213329.0      55928.0   204631.0  REFUND  COMPLETED   \n",
       "72724  1213330.0      55928.0   203942.0  REFUND  COMPLETED   \n",
       "77263  1231613.0      55928.0   203720.0  REFUND  COMPLETED   \n",
       "\n",
       "                                            course_title category_title  \\\n",
       "27606         프로모션 : 학점부터 코테까지 전공생 코딩 무제한 99패스 (5월 프리패스)          프로그래밍   \n",
       "56515                                올인원 패키지 : 리눅스 실전 정복          프로그래밍   \n",
       "56516                        초격차 패키지 : 한 번에 끝내는 프론트엔드 개발          프로그래밍   \n",
       "56518                           올인원 패키지 : 네트워크와 보안 핵심 요약          프로그래밍   \n",
       "58153                 초격차 패키지 : 한 번에 끝내는 node.js 웹 프로그래밍          프로그래밍   \n",
       "65413                          초격차 패키지 : 한 번에 끝내는 데이터 분석        데이터사이언스   \n",
       "65414  올인원 패키지 : C#으로 하는 인공지능 게임 제작 : 강화학습 에이전트를 사용한 ...          프로그래밍   \n",
       "72722      [런칭프로모션_무료클립제공]초격차 패키지 : 한 번에 끝내는 React의 모든 것          프로그래밍   \n",
       "72723                 초격차 패키지 : 한 번에 끝내는 node.js 웹 프로그래밍          프로그래밍   \n",
       "72724   초격차 패키지 : 30개 프로젝트로 배우는 Android 앱 개발 with Kotlin          프로그래밍   \n",
       "77263                        초격차 패키지 : 한 번에 끝내는 프론트엔드 개발          프로그래밍   \n",
       "\n",
       "      format        completed_at  transaction_amount coupon_title  \\\n",
       "27606    올인원 2021-05-04 19:06:08           -299000.0          NaN   \n",
       "56515    올인원 2021-06-18 15:31:49           -122500.0          NaN   \n",
       "56516    올인원 2021-06-18 15:32:12           -116000.0          NaN   \n",
       "56518    올인원 2021-06-18 15:32:33            -96500.0          NaN   \n",
       "58153    올인원 2021-06-21 10:49:24            -95000.0          NaN   \n",
       "65413    올인원 2021-06-30 18:13:59            -89000.0          NaN   \n",
       "65414    올인원 2021-06-30 18:14:41            -99000.0          NaN   \n",
       "72722    올인원 2021-07-13 10:07:47           -189000.0          NaN   \n",
       "72723    올인원 2021-07-13 10:11:25            -69000.0          NaN   \n",
       "72724    올인원 2021-07-13 10:11:43            -74666.0          NaN   \n",
       "77263    올인원 2021-07-21 11:01:33           -136000.0          NaN   \n",
       "\n",
       "       coupon_discount_amount  sale_price subcategory_title  \\\n",
       "27606                     NaN    299000.0               NaN   \n",
       "56515                     NaN    122500.0            DevOps   \n",
       "56516                     NaN    116000.0          프론트엔드 개발   \n",
       "56518                     NaN     96500.0           개발자 커리어   \n",
       "58153                     NaN     95000.0            백엔드 개발   \n",
       "65413                     NaN     89000.0             데이터분석   \n",
       "65414                     NaN     99000.0                게임   \n",
       "72722                     NaN    189000.0               NaN   \n",
       "72723                     NaN    125000.0            백엔드 개발   \n",
       "72724                     NaN    112000.0              모바일앱   \n",
       "77263                     NaN    136000.0          프론트엔드 개발   \n",
       "\n",
       "      marketing_start_at payment_data  \n",
       "27606                NaT  KAKAO POINT  \n",
       "56515         2020-03-23  KAKAO POINT  \n",
       "56516         2021-02-02  KAKAO POINT  \n",
       "56518         2020-05-08  KAKAO POINT  \n",
       "58153                NaT  KAKAO POINT  \n",
       "65413         2021-06-17  KAKAO POINT  \n",
       "65414         2021-06-16  KAKAO POINT  \n",
       "72722         2021-06-25  KAKAO POINT  \n",
       "72723                NaT  KAKAO POINT  \n",
       "72724         2021-02-25  KAKAO POINT  \n",
       "77263         2021-02-02  KAKAO POINT  "
      ]
     },
     "execution_count": 114,
     "metadata": {},
     "output_type": "execute_result"
    }
   ],
   "source": [
    "refund_data[refund_data['customer_id']==55928.0]"
   ]
  },
  {
   "cell_type": "markdown",
   "id": "25ae57ad",
   "metadata": {},
   "source": [
    "# 1. 결제수단 분석"
   ]
  },
  {
   "cell_type": "code",
   "execution_count": null,
   "id": "cd1a24c0",
   "metadata": {
    "ExecuteTime": {
     "end_time": "2022-05-09T07:54:01.610316Z",
     "start_time": "2022-05-09T07:54:01.563054Z"
    }
   },
   "outputs": [],
   "source": [
    "payment_data = data_new\n",
    "payment_data['pg'] = data['pg'].fillna('PG')\n",
    "payment_data.head()"
   ]
  },
  {
   "cell_type": "code",
   "execution_count": null,
   "id": "0744753d",
   "metadata": {
    "ExecuteTime": {
     "end_time": "2022-05-09T07:54:01.628767Z",
     "start_time": "2022-05-09T07:54:01.618172Z"
    }
   },
   "outputs": [],
   "source": [
    "payment_data['pg'].isna().sum()"
   ]
  },
  {
   "cell_type": "code",
   "execution_count": null,
   "id": "e62f7921",
   "metadata": {
    "ExecuteTime": {
     "end_time": "2022-05-09T07:54:01.662359Z",
     "start_time": "2022-05-09T07:54:01.630411Z"
    }
   },
   "outputs": [],
   "source": [
    "payment_data[payment_data['method'].isna()]['state'].unique()"
   ]
  },
  {
   "cell_type": "code",
   "execution_count": null,
   "id": "8c2f9b6b",
   "metadata": {
    "ExecuteTime": {
     "end_time": "2022-05-09T07:54:01.671700Z",
     "start_time": "2022-05-09T07:54:01.664008Z"
    }
   },
   "outputs": [],
   "source": [
    "payment_data['method'].isna().sum()"
   ]
  },
  {
   "cell_type": "code",
   "execution_count": null,
   "id": "5ec47d66",
   "metadata": {
    "ExecuteTime": {
     "end_time": "2022-05-09T07:54:01.688743Z",
     "start_time": "2022-05-09T07:54:01.674534Z"
    }
   },
   "outputs": [],
   "source": [
    "payment_data['method'].fillna('', inplace=True)\n",
    "payment_data['method'].isna().sum()"
   ]
  },
  {
   "cell_type": "code",
   "execution_count": null,
   "id": "411447e6",
   "metadata": {
    "ExecuteTime": {
     "end_time": "2022-05-09T07:54:01.710728Z",
     "start_time": "2022-05-09T07:54:01.691792Z"
    }
   },
   "outputs": [],
   "source": [
    "payment_data=payment_data['pg']+ ' '+ payment_data['method']\n"
   ]
  },
  {
   "cell_type": "code",
   "execution_count": null,
   "id": "96669215",
   "metadata": {},
   "outputs": [],
   "source": []
  },
  {
   "cell_type": "code",
   "execution_count": null,
   "id": "09040435",
   "metadata": {
    "ExecuteTime": {
     "end_time": "2022-05-09T07:54:01.722506Z",
     "start_time": "2022-05-09T07:54:01.712061Z"
    }
   },
   "outputs": [],
   "source": [
    "data2 = data.copy()\n",
    "data2['payment_data']=payment_data"
   ]
  },
  {
   "cell_type": "code",
   "execution_count": null,
   "id": "a1c3e674",
   "metadata": {
    "ExecuteTime": {
     "end_time": "2022-05-09T07:54:01.754415Z",
     "start_time": "2022-05-09T07:54:01.723571Z"
    }
   },
   "outputs": [],
   "source": [
    "data2.drop(['pg', 'method'], axis=1, inplace=True)"
   ]
  },
  {
   "cell_type": "code",
   "execution_count": null,
   "id": "e9c14b1d",
   "metadata": {
    "ExecuteTime": {
     "end_time": "2022-05-09T07:54:02.068240Z",
     "start_time": "2022-05-09T07:54:01.755434Z"
    }
   },
   "outputs": [],
   "source": [
    "plt.figure(figsize=(20, 6))\n",
    "sns.histplot(data2, x='payment_data')\n",
    "plt.xticks(rotation=-90, fontsize=10)\n",
    "plt.show()"
   ]
  },
  {
   "cell_type": "markdown",
   "id": "207b3cb8",
   "metadata": {
    "ExecuteTime": {
     "end_time": "2022-05-09T05:22:05.237673Z",
     "start_time": "2022-05-09T05:22:05.231347Z"
    }
   },
   "source": [
    "# 2. course title 분석"
   ]
  },
  {
   "cell_type": "code",
   "execution_count": null,
   "id": "8b5ac11b",
   "metadata": {
    "ExecuteTime": {
     "end_time": "2022-05-09T07:54:02.090814Z",
     "start_time": "2022-05-09T07:54:02.070866Z"
    },
    "scrolled": true
   },
   "outputs": [],
   "source": [
    "data2.head()"
   ]
  },
  {
   "cell_type": "code",
   "execution_count": null,
   "id": "c33f7764",
   "metadata": {
    "ExecuteTime": {
     "end_time": "2022-05-09T07:54:02.302679Z",
     "start_time": "2022-05-09T07:54:02.093662Z"
    }
   },
   "outputs": [],
   "source": [
    "how = {\n",
    "    'course_title' : np.count_nonzero\n",
    "}\n",
    "\n",
    "data2.groupby(['category_title', 'subcategory_title', 'course_title']).count()"
   ]
  },
  {
   "cell_type": "code",
   "execution_count": null,
   "id": "210f945b",
   "metadata": {
    "ExecuteTime": {
     "end_time": "2022-05-09T07:55:51.383578Z",
     "start_time": "2022-05-09T07:54:02.304475Z"
    }
   },
   "outputs": [],
   "source": [
    "sns.pairplot(data2)"
   ]
  },
  {
   "cell_type": "code",
   "execution_count": null,
   "id": "cf331be8",
   "metadata": {
    "ExecuteTime": {
     "end_time": "2022-05-09T07:55:51.417623Z",
     "start_time": "2022-05-09T07:55:51.385645Z"
    }
   },
   "outputs": [],
   "source": [
    "corr = data2.corr()\n",
    "corr"
   ]
  },
  {
   "cell_type": "code",
   "execution_count": null,
   "id": "260de501",
   "metadata": {
    "ExecuteTime": {
     "end_time": "2022-05-09T07:55:51.731149Z",
     "start_time": "2022-05-09T07:55:51.419318Z"
    }
   },
   "outputs": [],
   "source": [
    "plt.figure(figsize=(15,15))\n",
    "sns.heatmap(data=corr, cmap='Blues', annot=True)\n",
    "plt.show()"
   ]
  },
  {
   "cell_type": "code",
   "execution_count": null,
   "id": "0bffe41a",
   "metadata": {
    "ExecuteTime": {
     "end_time": "2022-05-09T07:55:56.777810Z",
     "start_time": "2022-05-09T07:55:51.732704Z"
    }
   },
   "outputs": [],
   "source": [
    "plt.figure(figsize=(200,8))\n",
    "data2.groupby(['category_title', 'subcategory_title','course_title'])['id'].count().plot(kind='bar')\n",
    "plt.xticks(rotation=-90)\n",
    "plt.show()"
   ]
  },
  {
   "cell_type": "markdown",
   "id": "e4691662",
   "metadata": {},
   "source": [
    "# 3. Format 분석"
   ]
  },
  {
   "cell_type": "code",
   "execution_count": null,
   "id": "2e7cb5f3",
   "metadata": {
    "ExecuteTime": {
     "end_time": "2022-05-09T07:55:56.787786Z",
     "start_time": "2022-05-09T07:55:56.779379Z"
    }
   },
   "outputs": [],
   "source": [
    "data2['format'].isna().sum()"
   ]
  },
  {
   "cell_type": "code",
   "execution_count": null,
   "id": "226cdaac",
   "metadata": {
    "ExecuteTime": {
     "end_time": "2022-05-09T07:55:56.797865Z",
     "start_time": "2022-05-09T07:55:56.788856Z"
    }
   },
   "outputs": [],
   "source": [
    "data2['format'].unique()"
   ]
  },
  {
   "cell_type": "code",
   "execution_count": null,
   "id": "037f1294",
   "metadata": {
    "ExecuteTime": {
     "end_time": "2022-05-09T07:55:56.819792Z",
     "start_time": "2022-05-09T07:55:56.800381Z"
    }
   },
   "outputs": [],
   "source": [
    "data2[data2['format'].isna()]"
   ]
  },
  {
   "cell_type": "code",
   "execution_count": null,
   "id": "5c7fe1eb",
   "metadata": {
    "ExecuteTime": {
     "end_time": "2022-05-09T07:55:56.860034Z",
     "start_time": "2022-05-09T07:55:56.821366Z"
    }
   },
   "outputs": [],
   "source": [
    "complete_transaction_amount = data2[data2['state'] == 'COMPLETED']['transaction_amount'].sum()\n",
    "canceled_transaction_amount = data2[data2['state'] == 'CANCELLED']['transaction_amount'].sum()"
   ]
  },
  {
   "cell_type": "code",
   "execution_count": null,
   "id": "6ef43237",
   "metadata": {
    "ExecuteTime": {
     "end_time": "2022-05-09T07:55:56.867030Z",
     "start_time": "2022-05-09T07:55:56.864923Z"
    }
   },
   "outputs": [],
   "source": [
    "print(complete_transaction_amount, canceled_transaction_amount)"
   ]
  },
  {
   "cell_type": "code",
   "execution_count": null,
   "id": "5846430e",
   "metadata": {
    "ExecuteTime": {
     "end_time": "2022-05-09T07:55:56.882186Z",
     "start_time": "2022-05-09T07:55:56.868053Z"
    }
   },
   "outputs": [],
   "source": [
    "how = {\n",
    "    'transaction_amount' : np.sum\n",
    "}\n",
    "data2.groupby(data2['state']).agg(how)"
   ]
  },
  {
   "cell_type": "code",
   "execution_count": null,
   "id": "fa39dd61",
   "metadata": {
    "ExecuteTime": {
     "end_time": "2022-05-09T06:55:16.626669Z",
     "start_time": "2022-05-09T06:55:16.585856Z"
    }
   },
   "outputs": [],
   "source": [
    "how = {\n",
    "    'transaction_amount' : np.sum\n",
    "}\n",
    "data2.groupby(['type','state']).agg(how)"
   ]
  },
  {
   "cell_type": "code",
   "execution_count": null,
   "id": "07c63578",
   "metadata": {
    "ExecuteTime": {
     "end_time": "2022-05-09T06:55:14.632915Z",
     "start_time": "2022-05-09T06:55:14.624804Z"
    }
   },
   "outputs": [],
   "source": [
    "pd.options.display.float_format = '{:.1f}'.format"
   ]
  },
  {
   "cell_type": "code",
   "execution_count": null,
   "id": "c9f8b8bf",
   "metadata": {
    "ExecuteTime": {
     "end_time": "2022-05-09T07:03:57.731200Z",
     "start_time": "2022-05-09T07:03:57.725257Z"
    }
   },
   "outputs": [],
   "source": [
    "# ORDER 결제는 하지 않았지만 수강신청만 되어있는 상태\n",
    "# CANCELLED "
   ]
  },
  {
   "cell_type": "markdown",
   "id": "7022ae23",
   "metadata": {
    "ExecuteTime": {
     "end_time": "2022-05-09T07:35:01.975840Z",
     "start_time": "2022-05-09T07:35:01.968545Z"
    }
   },
   "source": [
    "# 4 가장 많이 팔린 Format"
   ]
  },
  {
   "cell_type": "code",
   "execution_count": null,
   "id": "4f9c376b",
   "metadata": {
    "ExecuteTime": {
     "end_time": "2022-05-09T07:38:27.562237Z",
     "start_time": "2022-05-09T07:38:27.521218Z"
    }
   },
   "outputs": [],
   "source": [
    "data2[data2['format'].isna()]"
   ]
  },
  {
   "cell_type": "code",
   "execution_count": null,
   "id": "64c95f5c",
   "metadata": {
    "ExecuteTime": {
     "end_time": "2022-05-09T07:56:05.508053Z",
     "start_time": "2022-05-09T07:56:05.479469Z"
    }
   },
   "outputs": [],
   "source": [
    "data3 = data2.copy()\n",
    "data3['format'].dropna()"
   ]
  },
  {
   "cell_type": "code",
   "execution_count": null,
   "id": "2c8f0063",
   "metadata": {
    "ExecuteTime": {
     "end_time": "2022-05-09T07:56:08.342174Z",
     "start_time": "2022-05-09T07:56:08.294978Z"
    }
   },
   "outputs": [],
   "source": [
    "data3 = data3.drop(data3.loc[data3['format'].isna()].index)\n",
    "data3['format'].unique()"
   ]
  },
  {
   "cell_type": "code",
   "execution_count": null,
   "id": "7280b116",
   "metadata": {},
   "outputs": [],
   "source": []
  },
  {
   "cell_type": "code",
   "execution_count": null,
   "id": "5b0c15f0",
   "metadata": {
    "ExecuteTime": {
     "end_time": "2022-05-09T08:18:46.449539Z",
     "start_time": "2022-05-09T08:18:46.393123Z"
    }
   },
   "outputs": [],
   "source": [
    "how = {\n",
    "    'customer_id' : np.count_nonzero,\n",
    "    'transaction_amount' : np.sum,\n",
    "    \n",
    "}\n",
    "\n",
    "data3.groupby(['format','category_title', 'state']).agg(how)"
   ]
  },
  {
   "cell_type": "code",
   "execution_count": null,
   "id": "bc313699",
   "metadata": {
    "ExecuteTime": {
     "end_time": "2022-05-09T08:23:43.710485Z",
     "start_time": "2022-05-09T08:23:43.648150Z"
    }
   },
   "outputs": [],
   "source": [
    "data4 = data3.copy()\n",
    "data4= data4.drop(data4.loc[data4['state'] != 'COMPLETED'].index)"
   ]
  },
  {
   "cell_type": "code",
   "execution_count": null,
   "id": "5b138ed8",
   "metadata": {
    "ExecuteTime": {
     "end_time": "2022-05-09T08:29:39.374702Z",
     "start_time": "2022-05-09T08:29:39.314489Z"
    }
   },
   "outputs": [],
   "source": [
    "how = {\n",
    "    'transaction_amount' : np.sum,\n",
    "}\n",
    "data4.groupby(['category_title', 'state']).agg(how)"
   ]
  },
  {
   "cell_type": "code",
   "execution_count": null,
   "id": "c67ac622",
   "metadata": {
    "ExecuteTime": {
     "end_time": "2022-05-09T08:29:36.352289Z",
     "start_time": "2022-05-09T08:29:36.336565Z"
    }
   },
   "outputs": [],
   "source": [
    "pd.options.display.max_rows = 200\n",
    "\n",
    "pd.options.display.max_info_columns =200\n",
    "\n",
    "pd.options.display.float_format = '{:,}'.format"
   ]
  },
  {
   "cell_type": "code",
   "execution_count": null,
   "id": "5b417005",
   "metadata": {
    "ExecuteTime": {
     "end_time": "2022-05-09T08:25:53.519786Z",
     "start_time": "2022-05-09T08:25:53.490038Z"
    }
   },
   "outputs": [],
   "source": []
  },
  {
   "cell_type": "markdown",
   "id": "55e1583c",
   "metadata": {},
   "source": [
    "# 4. type 컬럼에서 ORDER, TRANSACTION 삭제"
   ]
  },
  {
   "cell_type": "code",
   "execution_count": null,
   "id": "af2729aa",
   "metadata": {
    "ExecuteTime": {
     "end_time": "2022-05-10T00:48:38.868736Z",
     "start_time": "2022-05-10T00:48:38.789696Z"
    }
   },
   "outputs": [],
   "source": [
    "# 더 이상 사용되지 않는 기능으로 안내 받음, B2B 거래로 무시 요청\n",
    "useless = data_new[data_new['type'].str.contains('ORDER')].index\n",
    "data_new.drop(useless, inplace=True)\n",
    "\n",
    "data_new.head()\n",
    "\n"
   ]
  },
  {
   "cell_type": "code",
   "execution_count": null,
   "id": "757163f0",
   "metadata": {
    "ExecuteTime": {
     "end_time": "2022-05-10T00:48:40.871324Z",
     "start_time": "2022-05-10T00:48:40.750900Z"
    }
   },
   "outputs": [],
   "source": [
    "useless = data_new[data_new['type'].str.contains('TRANSACTION')].index\n",
    "data_new.drop(useless, inplace=True)\n",
    "\n",
    "data_new.info()"
   ]
  },
  {
   "cell_type": "code",
   "execution_count": null,
   "id": "139ac259",
   "metadata": {
    "ExecuteTime": {
     "end_time": "2022-05-10T00:48:41.646691Z",
     "start_time": "2022-05-10T00:48:41.497779Z"
    }
   },
   "outputs": [],
   "source": [
    "useless = data_new[data_new['state'].str.contains('PENDING')].index\n",
    "data_new.drop(useless, inplace=True)\n",
    "\n",
    "data_new.info()"
   ]
  },
  {
   "cell_type": "code",
   "execution_count": null,
   "id": "f629461a",
   "metadata": {
    "ExecuteTime": {
     "end_time": "2022-05-10T00:48:42.294946Z",
     "start_time": "2022-05-10T00:48:42.189290Z"
    }
   },
   "outputs": [],
   "source": [
    "useless = data_new[data_new['state'].str.contains('CANCELLED')].index\n",
    "data_new.drop(useless, inplace=True)\n",
    "\n",
    "data_new.info()"
   ]
  },
  {
   "cell_type": "code",
   "execution_count": null,
   "id": "4d6ed830",
   "metadata": {
    "ExecuteTime": {
     "end_time": "2022-05-10T00:48:42.975673Z",
     "start_time": "2022-05-10T00:48:42.877227Z"
    }
   },
   "outputs": [],
   "source": [
    "useless = data_new[data_new['state'].str.contains('HIDDEN')].index\n",
    "data_new.drop(useless, inplace=True)\n",
    "\n",
    "data_new.info()"
   ]
  },
  {
   "cell_type": "code",
   "execution_count": null,
   "id": "da240dcb",
   "metadata": {
    "ExecuteTime": {
     "end_time": "2022-05-10T00:48:43.803636Z",
     "start_time": "2022-05-10T00:48:43.703390Z"
    }
   },
   "outputs": [],
   "source": [
    "useless = data_new[data_new['state'].str.contains('DELETE')].index\n",
    "data_new.drop(useless, inplace=True)\n",
    "\n",
    "data_new.info()"
   ]
  },
  {
   "cell_type": "markdown",
   "id": "f5d58e84",
   "metadata": {},
   "source": [
    "# 5. PG method 합치기"
   ]
  },
  {
   "cell_type": "code",
   "execution_count": null,
   "id": "353ae187",
   "metadata": {
    "ExecuteTime": {
     "end_time": "2022-05-10T00:48:46.968670Z",
     "start_time": "2022-05-10T00:48:46.943915Z"
    }
   },
   "outputs": [],
   "source": [
    "data_new.head()"
   ]
  },
  {
   "cell_type": "code",
   "execution_count": null,
   "id": "89be3130",
   "metadata": {
    "ExecuteTime": {
     "end_time": "2022-05-10T00:41:07.558390Z",
     "start_time": "2022-05-10T00:41:07.525300Z"
    }
   },
   "outputs": [],
   "source": [
    "data_new['pg'].fillna('PG', inplace=True)\n",
    "data_new.head()"
   ]
  },
  {
   "cell_type": "code",
   "execution_count": null,
   "id": "1e7e8927",
   "metadata": {
    "ExecuteTime": {
     "end_time": "2022-05-10T00:49:31.094063Z",
     "start_time": "2022-05-10T00:49:31.073156Z"
    }
   },
   "outputs": [],
   "source": [
    "data_new['method'] = data_new['method'].fillna('')"
   ]
  },
  {
   "cell_type": "code",
   "execution_count": null,
   "id": "5f2c6961",
   "metadata": {
    "ExecuteTime": {
     "end_time": "2022-05-10T00:50:20.966021Z",
     "start_time": "2022-05-10T00:50:19.907114Z"
    }
   },
   "outputs": [],
   "source": [
    "data_new.drop(['pg', 'method'], axis=1, inplace=True)\n",
    "data_new.head()"
   ]
  },
  {
   "cell_type": "code",
   "execution_count": null,
   "id": "77da38de",
   "metadata": {
    "ExecuteTime": {
     "end_time": "2022-05-10T00:50:00.979540Z",
     "start_time": "2022-05-10T00:50:00.924130Z"
    }
   },
   "outputs": [],
   "source": [
    "data_new['payment_data'] = data_new['pg'] +' '+ data_new['method']\n",
    "data_new.head()"
   ]
  },
  {
   "cell_type": "code",
   "execution_count": null,
   "id": "bd2f16d9",
   "metadata": {
    "ExecuteTime": {
     "end_time": "2022-05-10T00:49:37.441173Z",
     "start_time": "2022-05-10T00:49:37.375074Z"
    }
   },
   "outputs": [],
   "source": [
    "data_new['payment_data'].unique()"
   ]
  },
  {
   "cell_type": "code",
   "execution_count": null,
   "id": "bc32b5c5",
   "metadata": {
    "ExecuteTime": {
     "end_time": "2022-05-10T00:45:11.298830Z",
     "start_time": "2022-05-10T00:45:11.280685Z"
    }
   },
   "outputs": [],
   "source": [
    "data_new['payment_data'].isna().sum()"
   ]
  },
  {
   "cell_type": "code",
   "execution_count": null,
   "id": "eca76400",
   "metadata": {},
   "outputs": [],
   "source": []
  }
 ],
 "metadata": {
  "kernelspec": {
   "display_name": "Python 3 (ipykernel)",
   "language": "python",
   "name": "python3"
  },
  "language_info": {
   "codemirror_mode": {
    "name": "ipython",
    "version": 3
   },
   "file_extension": ".py",
   "mimetype": "text/x-python",
   "name": "python",
   "nbconvert_exporter": "python",
   "pygments_lexer": "ipython3",
   "version": "3.9.0"
  },
  "toc": {
   "base_numbering": 1,
   "nav_menu": {},
   "number_sections": true,
   "sideBar": true,
   "skip_h1_title": false,
   "title_cell": "Table of Contents",
   "title_sidebar": "Contents",
   "toc_cell": false,
   "toc_position": {},
   "toc_section_display": true,
   "toc_window_display": false
  }
 },
 "nbformat": 4,
 "nbformat_minor": 5
}
