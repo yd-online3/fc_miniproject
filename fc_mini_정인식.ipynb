{
 "cells": [
  {
   "cell_type": "markdown",
   "id": "6979b7ef",
   "metadata": {},
   "source": [
    "# Fastcampus Data EDA"
   ]
  },
  {
   "cell_type": "code",
   "execution_count": 1,
   "id": "9949ef9c",
   "metadata": {
    "ExecuteTime": {
     "end_time": "2022-05-10T00:51:52.245911Z",
     "start_time": "2022-05-10T00:51:50.907521Z"
    }
   },
   "outputs": [],
   "source": [
    "import numpy as np\n",
    "import pandas as pd\n",
    "import matplotlib.pyplot as plt\n",
    "import seaborn as sns"
   ]
  },
  {
   "cell_type": "code",
   "execution_count": 2,
   "id": "f86798df",
   "metadata": {
    "ExecuteTime": {
     "end_time": "2022-05-10T00:52:17.402531Z",
     "start_time": "2022-05-10T00:51:54.242405Z"
    }
   },
   "outputs": [],
   "source": [
    "url = 'FC_data1.xlsx'\n",
    "data = pd.read_excel(url)"
   ]
  },
  {
   "cell_type": "code",
   "execution_count": 3,
   "id": "2a473b92",
   "metadata": {
    "ExecuteTime": {
     "end_time": "2022-05-10T00:52:17.406344Z",
     "start_time": "2022-05-10T00:52:17.404081Z"
    }
   },
   "outputs": [],
   "source": [
    "plt.rc('font', family='AppleGothic') \n",
    "plt.rcParams['axes.unicode_minus'] = False"
   ]
  },
  {
   "cell_type": "code",
   "execution_count": 4,
   "id": "bac63b81",
   "metadata": {
    "ExecuteTime": {
     "end_time": "2022-05-10T00:52:17.445031Z",
     "start_time": "2022-05-10T00:52:17.407823Z"
    }
   },
   "outputs": [
    {
     "data": {
      "text/html": [
       "<div>\n",
       "<style scoped>\n",
       "    .dataframe tbody tr th:only-of-type {\n",
       "        vertical-align: middle;\n",
       "    }\n",
       "\n",
       "    .dataframe tbody tr th {\n",
       "        vertical-align: top;\n",
       "    }\n",
       "\n",
       "    .dataframe thead th {\n",
       "        text-align: right;\n",
       "    }\n",
       "</style>\n",
       "<table border=\"1\" class=\"dataframe\">\n",
       "  <thead>\n",
       "    <tr style=\"text-align: right;\">\n",
       "      <th></th>\n",
       "      <th>id</th>\n",
       "      <th>customer_id</th>\n",
       "      <th>course_id</th>\n",
       "      <th>type</th>\n",
       "      <th>state</th>\n",
       "      <th>course_title</th>\n",
       "      <th>category_title</th>\n",
       "      <th>format</th>\n",
       "      <th>completed_at</th>\n",
       "      <th>transaction_amount</th>\n",
       "      <th>coupon_title</th>\n",
       "      <th>coupon_discount_amount</th>\n",
       "      <th>sale_price</th>\n",
       "      <th>tax_free_amount</th>\n",
       "      <th>pg</th>\n",
       "      <th>method</th>\n",
       "      <th>subcategory_title</th>\n",
       "      <th>marketing_start_at</th>\n",
       "    </tr>\n",
       "  </thead>\n",
       "  <tbody>\n",
       "    <tr>\n",
       "      <th>0</th>\n",
       "      <td>970634.0</td>\n",
       "      <td>504760.0</td>\n",
       "      <td>201435.0</td>\n",
       "      <td>ORDER</td>\n",
       "      <td>CANCELLED</td>\n",
       "      <td>올인원 패키지 : 알고리즘 기술면접 완전 정복</td>\n",
       "      <td>프로그래밍</td>\n",
       "      <td>올인원</td>\n",
       "      <td>2021-03-28 15:00:11</td>\n",
       "      <td>90500.0</td>\n",
       "      <td>NaN</td>\n",
       "      <td>NaN</td>\n",
       "      <td>110500.0</td>\n",
       "      <td>110500.0</td>\n",
       "      <td>NaN</td>\n",
       "      <td>VBANK</td>\n",
       "      <td>개발자 커리어</td>\n",
       "      <td>NaT</td>\n",
       "    </tr>\n",
       "    <tr>\n",
       "      <th>1</th>\n",
       "      <td>970650.0</td>\n",
       "      <td>432862.0</td>\n",
       "      <td>203178.0</td>\n",
       "      <td>ORDER</td>\n",
       "      <td>CANCELLED</td>\n",
       "      <td>초격차 패키지 : 한번에 끝내는 영상 촬영과 편집</td>\n",
       "      <td>영상/3D</td>\n",
       "      <td>올인원</td>\n",
       "      <td>2021-03-28 15:16:53</td>\n",
       "      <td>96000.0</td>\n",
       "      <td>NaN</td>\n",
       "      <td>NaN</td>\n",
       "      <td>116000.0</td>\n",
       "      <td>116000.0</td>\n",
       "      <td>NaN</td>\n",
       "      <td>CARD</td>\n",
       "      <td>영상 편집</td>\n",
       "      <td>2020-12-02</td>\n",
       "    </tr>\n",
       "    <tr>\n",
       "      <th>2</th>\n",
       "      <td>970657.0</td>\n",
       "      <td>72297.0</td>\n",
       "      <td>204246.0</td>\n",
       "      <td>PAYMENT</td>\n",
       "      <td>COMPLETED</td>\n",
       "      <td>시크릿코드 : 프론트엔드 실무 완성편</td>\n",
       "      <td>프로그래밍</td>\n",
       "      <td>스쿨 온라인</td>\n",
       "      <td>2021-03-28 15:21:43</td>\n",
       "      <td>171810.0</td>\n",
       "      <td>[10% 할인] 시크릿코드 실무 완성편</td>\n",
       "      <td>19090.0</td>\n",
       "      <td>190900.0</td>\n",
       "      <td>190900.0</td>\n",
       "      <td>NaN</td>\n",
       "      <td>CARD</td>\n",
       "      <td>NaN</td>\n",
       "      <td>2021-03-04</td>\n",
       "    </tr>\n",
       "    <tr>\n",
       "      <th>3</th>\n",
       "      <td>970656.0</td>\n",
       "      <td>72297.0</td>\n",
       "      <td>204246.0</td>\n",
       "      <td>ORDER</td>\n",
       "      <td>CANCELLED</td>\n",
       "      <td>시크릿코드 : 프론트엔드 실무 완성편</td>\n",
       "      <td>프로그래밍</td>\n",
       "      <td>스쿨 온라인</td>\n",
       "      <td>2021-03-28 15:21:43</td>\n",
       "      <td>171810.0</td>\n",
       "      <td>NaN</td>\n",
       "      <td>NaN</td>\n",
       "      <td>190900.0</td>\n",
       "      <td>190900.0</td>\n",
       "      <td>NaN</td>\n",
       "      <td>CARD</td>\n",
       "      <td>NaN</td>\n",
       "      <td>2021-03-04</td>\n",
       "    </tr>\n",
       "    <tr>\n",
       "      <th>4</th>\n",
       "      <td>970658.0</td>\n",
       "      <td>478028.0</td>\n",
       "      <td>201797.0</td>\n",
       "      <td>PAYMENT</td>\n",
       "      <td>COMPLETED</td>\n",
       "      <td>올인원 패키지 : 직장인 필수 스킬 3종 세트 MAX</td>\n",
       "      <td>업무 생산성</td>\n",
       "      <td>올인원</td>\n",
       "      <td>2021-03-28 15:21:54</td>\n",
       "      <td>97500.0</td>\n",
       "      <td>[웰컴쿠폰] 올인원 패키지 2만원 할인 쿠폰</td>\n",
       "      <td>20000.0</td>\n",
       "      <td>117500.0</td>\n",
       "      <td>117500.0</td>\n",
       "      <td>NaN</td>\n",
       "      <td>CARD</td>\n",
       "      <td>PPT/보고서</td>\n",
       "      <td>2019-11-14</td>\n",
       "    </tr>\n",
       "  </tbody>\n",
       "</table>\n",
       "</div>"
      ],
      "text/plain": [
       "         id  customer_id  course_id     type      state  \\\n",
       "0  970634.0     504760.0   201435.0    ORDER  CANCELLED   \n",
       "1  970650.0     432862.0   203178.0    ORDER  CANCELLED   \n",
       "2  970657.0      72297.0   204246.0  PAYMENT  COMPLETED   \n",
       "3  970656.0      72297.0   204246.0    ORDER  CANCELLED   \n",
       "4  970658.0     478028.0   201797.0  PAYMENT  COMPLETED   \n",
       "\n",
       "                    course_title category_title  format        completed_at  \\\n",
       "0      올인원 패키지 : 알고리즘 기술면접 완전 정복          프로그래밍     올인원 2021-03-28 15:00:11   \n",
       "1    초격차 패키지 : 한번에 끝내는 영상 촬영과 편집          영상/3D     올인원 2021-03-28 15:16:53   \n",
       "2           시크릿코드 : 프론트엔드 실무 완성편          프로그래밍  스쿨 온라인 2021-03-28 15:21:43   \n",
       "3           시크릿코드 : 프론트엔드 실무 완성편          프로그래밍  스쿨 온라인 2021-03-28 15:21:43   \n",
       "4  올인원 패키지 : 직장인 필수 스킬 3종 세트 MAX         업무 생산성     올인원 2021-03-28 15:21:54   \n",
       "\n",
       "   transaction_amount              coupon_title  coupon_discount_amount  \\\n",
       "0             90500.0                       NaN                     NaN   \n",
       "1             96000.0                       NaN                     NaN   \n",
       "2            171810.0     [10% 할인] 시크릿코드 실무 완성편                 19090.0   \n",
       "3            171810.0                       NaN                     NaN   \n",
       "4             97500.0  [웰컴쿠폰] 올인원 패키지 2만원 할인 쿠폰                 20000.0   \n",
       "\n",
       "   sale_price  tax_free_amount   pg method subcategory_title  \\\n",
       "0    110500.0         110500.0  NaN  VBANK           개발자 커리어   \n",
       "1    116000.0         116000.0  NaN   CARD             영상 편집   \n",
       "2    190900.0         190900.0  NaN   CARD               NaN   \n",
       "3    190900.0         190900.0  NaN   CARD               NaN   \n",
       "4    117500.0         117500.0  NaN   CARD           PPT/보고서   \n",
       "\n",
       "  marketing_start_at  \n",
       "0                NaT  \n",
       "1         2020-12-02  \n",
       "2         2021-03-04  \n",
       "3         2021-03-04  \n",
       "4         2019-11-14  "
      ]
     },
     "execution_count": 4,
     "metadata": {},
     "output_type": "execute_result"
    }
   ],
   "source": [
    "data.head()"
   ]
  },
  {
   "cell_type": "code",
   "execution_count": 5,
   "id": "15dd18e7",
   "metadata": {
    "ExecuteTime": {
     "end_time": "2022-05-10T00:52:17.562391Z",
     "start_time": "2022-05-10T00:52:17.448877Z"
    },
    "scrolled": true
   },
   "outputs": [
    {
     "name": "stdout",
     "output_type": "stream",
     "text": [
      "<class 'pandas.core.frame.DataFrame'>\n",
      "RangeIndex: 105419 entries, 0 to 105418\n",
      "Data columns (total 18 columns):\n",
      " #   Column                  Non-Null Count   Dtype         \n",
      "---  ------                  --------------   -----         \n",
      " 0   id                      105419 non-null  float64       \n",
      " 1   customer_id             105416 non-null  float64       \n",
      " 2   course_id               100212 non-null  float64       \n",
      " 3   type                    105419 non-null  object        \n",
      " 4   state                   105419 non-null  object        \n",
      " 5   course_title            105403 non-null  object        \n",
      " 6   category_title          105395 non-null  object        \n",
      " 7   format                  105403 non-null  object        \n",
      " 8   completed_at            105419 non-null  datetime64[ns]\n",
      " 9   transaction_amount      105419 non-null  float64       \n",
      " 10  coupon_title            31817 non-null   object        \n",
      " 11  coupon_discount_amount  31817 non-null   float64       \n",
      " 12  sale_price              104291 non-null  float64       \n",
      " 13  tax_free_amount         104291 non-null  float64       \n",
      " 14  pg                      90344 non-null   object        \n",
      " 15  method                  92323 non-null   object        \n",
      " 16  subcategory_title       85590 non-null   object        \n",
      " 17  marketing_start_at      87440 non-null   datetime64[ns]\n",
      "dtypes: datetime64[ns](2), float64(7), object(9)\n",
      "memory usage: 14.5+ MB\n"
     ]
    }
   ],
   "source": [
    "data.info()"
   ]
  },
  {
   "cell_type": "markdown",
   "id": "53b22a10",
   "metadata": {},
   "source": [
    "# 1 . 불필요한 값 제거 \n",
    "tax_free_amount 컬럼 보안 이슈로 삭제, type 컬럼의 ORDER, TRANSACTION 속성, state컬럼의 PEDNING, CANCELLED, HIDDEN, DELETE 속성은 보안 이슈로 삭제"
   ]
  },
  {
   "cell_type": "code",
   "execution_count": 6,
   "id": "ae73c840",
   "metadata": {
    "ExecuteTime": {
     "end_time": "2022-05-10T00:55:23.728001Z",
     "start_time": "2022-05-10T00:55:23.684605Z"
    },
    "scrolled": true
   },
   "outputs": [
    {
     "data": {
      "text/html": [
       "<div>\n",
       "<style scoped>\n",
       "    .dataframe tbody tr th:only-of-type {\n",
       "        vertical-align: middle;\n",
       "    }\n",
       "\n",
       "    .dataframe tbody tr th {\n",
       "        vertical-align: top;\n",
       "    }\n",
       "\n",
       "    .dataframe thead th {\n",
       "        text-align: right;\n",
       "    }\n",
       "</style>\n",
       "<table border=\"1\" class=\"dataframe\">\n",
       "  <thead>\n",
       "    <tr style=\"text-align: right;\">\n",
       "      <th></th>\n",
       "      <th>id</th>\n",
       "      <th>customer_id</th>\n",
       "      <th>course_id</th>\n",
       "      <th>type</th>\n",
       "      <th>state</th>\n",
       "      <th>course_title</th>\n",
       "      <th>category_title</th>\n",
       "      <th>format</th>\n",
       "      <th>completed_at</th>\n",
       "      <th>transaction_amount</th>\n",
       "      <th>coupon_title</th>\n",
       "      <th>coupon_discount_amount</th>\n",
       "      <th>sale_price</th>\n",
       "      <th>pg</th>\n",
       "      <th>method</th>\n",
       "      <th>subcategory_title</th>\n",
       "      <th>marketing_start_at</th>\n",
       "    </tr>\n",
       "  </thead>\n",
       "  <tbody>\n",
       "    <tr>\n",
       "      <th>0</th>\n",
       "      <td>970634.0</td>\n",
       "      <td>504760.0</td>\n",
       "      <td>201435.0</td>\n",
       "      <td>ORDER</td>\n",
       "      <td>CANCELLED</td>\n",
       "      <td>올인원 패키지 : 알고리즘 기술면접 완전 정복</td>\n",
       "      <td>프로그래밍</td>\n",
       "      <td>올인원</td>\n",
       "      <td>2021-03-28 15:00:11</td>\n",
       "      <td>90500.0</td>\n",
       "      <td>NaN</td>\n",
       "      <td>NaN</td>\n",
       "      <td>110500.0</td>\n",
       "      <td>NaN</td>\n",
       "      <td>VBANK</td>\n",
       "      <td>개발자 커리어</td>\n",
       "      <td>NaT</td>\n",
       "    </tr>\n",
       "    <tr>\n",
       "      <th>1</th>\n",
       "      <td>970650.0</td>\n",
       "      <td>432862.0</td>\n",
       "      <td>203178.0</td>\n",
       "      <td>ORDER</td>\n",
       "      <td>CANCELLED</td>\n",
       "      <td>초격차 패키지 : 한번에 끝내는 영상 촬영과 편집</td>\n",
       "      <td>영상/3D</td>\n",
       "      <td>올인원</td>\n",
       "      <td>2021-03-28 15:16:53</td>\n",
       "      <td>96000.0</td>\n",
       "      <td>NaN</td>\n",
       "      <td>NaN</td>\n",
       "      <td>116000.0</td>\n",
       "      <td>NaN</td>\n",
       "      <td>CARD</td>\n",
       "      <td>영상 편집</td>\n",
       "      <td>2020-12-02</td>\n",
       "    </tr>\n",
       "    <tr>\n",
       "      <th>2</th>\n",
       "      <td>970657.0</td>\n",
       "      <td>72297.0</td>\n",
       "      <td>204246.0</td>\n",
       "      <td>PAYMENT</td>\n",
       "      <td>COMPLETED</td>\n",
       "      <td>시크릿코드 : 프론트엔드 실무 완성편</td>\n",
       "      <td>프로그래밍</td>\n",
       "      <td>스쿨 온라인</td>\n",
       "      <td>2021-03-28 15:21:43</td>\n",
       "      <td>171810.0</td>\n",
       "      <td>[10% 할인] 시크릿코드 실무 완성편</td>\n",
       "      <td>19090.0</td>\n",
       "      <td>190900.0</td>\n",
       "      <td>NaN</td>\n",
       "      <td>CARD</td>\n",
       "      <td>NaN</td>\n",
       "      <td>2021-03-04</td>\n",
       "    </tr>\n",
       "    <tr>\n",
       "      <th>3</th>\n",
       "      <td>970656.0</td>\n",
       "      <td>72297.0</td>\n",
       "      <td>204246.0</td>\n",
       "      <td>ORDER</td>\n",
       "      <td>CANCELLED</td>\n",
       "      <td>시크릿코드 : 프론트엔드 실무 완성편</td>\n",
       "      <td>프로그래밍</td>\n",
       "      <td>스쿨 온라인</td>\n",
       "      <td>2021-03-28 15:21:43</td>\n",
       "      <td>171810.0</td>\n",
       "      <td>NaN</td>\n",
       "      <td>NaN</td>\n",
       "      <td>190900.0</td>\n",
       "      <td>NaN</td>\n",
       "      <td>CARD</td>\n",
       "      <td>NaN</td>\n",
       "      <td>2021-03-04</td>\n",
       "    </tr>\n",
       "    <tr>\n",
       "      <th>4</th>\n",
       "      <td>970658.0</td>\n",
       "      <td>478028.0</td>\n",
       "      <td>201797.0</td>\n",
       "      <td>PAYMENT</td>\n",
       "      <td>COMPLETED</td>\n",
       "      <td>올인원 패키지 : 직장인 필수 스킬 3종 세트 MAX</td>\n",
       "      <td>업무 생산성</td>\n",
       "      <td>올인원</td>\n",
       "      <td>2021-03-28 15:21:54</td>\n",
       "      <td>97500.0</td>\n",
       "      <td>[웰컴쿠폰] 올인원 패키지 2만원 할인 쿠폰</td>\n",
       "      <td>20000.0</td>\n",
       "      <td>117500.0</td>\n",
       "      <td>NaN</td>\n",
       "      <td>CARD</td>\n",
       "      <td>PPT/보고서</td>\n",
       "      <td>2019-11-14</td>\n",
       "    </tr>\n",
       "  </tbody>\n",
       "</table>\n",
       "</div>"
      ],
      "text/plain": [
       "         id  customer_id  course_id     type      state  \\\n",
       "0  970634.0     504760.0   201435.0    ORDER  CANCELLED   \n",
       "1  970650.0     432862.0   203178.0    ORDER  CANCELLED   \n",
       "2  970657.0      72297.0   204246.0  PAYMENT  COMPLETED   \n",
       "3  970656.0      72297.0   204246.0    ORDER  CANCELLED   \n",
       "4  970658.0     478028.0   201797.0  PAYMENT  COMPLETED   \n",
       "\n",
       "                    course_title category_title  format        completed_at  \\\n",
       "0      올인원 패키지 : 알고리즘 기술면접 완전 정복          프로그래밍     올인원 2021-03-28 15:00:11   \n",
       "1    초격차 패키지 : 한번에 끝내는 영상 촬영과 편집          영상/3D     올인원 2021-03-28 15:16:53   \n",
       "2           시크릿코드 : 프론트엔드 실무 완성편          프로그래밍  스쿨 온라인 2021-03-28 15:21:43   \n",
       "3           시크릿코드 : 프론트엔드 실무 완성편          프로그래밍  스쿨 온라인 2021-03-28 15:21:43   \n",
       "4  올인원 패키지 : 직장인 필수 스킬 3종 세트 MAX         업무 생산성     올인원 2021-03-28 15:21:54   \n",
       "\n",
       "   transaction_amount              coupon_title  coupon_discount_amount  \\\n",
       "0             90500.0                       NaN                     NaN   \n",
       "1             96000.0                       NaN                     NaN   \n",
       "2            171810.0     [10% 할인] 시크릿코드 실무 완성편                 19090.0   \n",
       "3            171810.0                       NaN                     NaN   \n",
       "4             97500.0  [웰컴쿠폰] 올인원 패키지 2만원 할인 쿠폰                 20000.0   \n",
       "\n",
       "   sale_price   pg method subcategory_title marketing_start_at  \n",
       "0    110500.0  NaN  VBANK           개발자 커리어                NaT  \n",
       "1    116000.0  NaN   CARD             영상 편집         2020-12-02  \n",
       "2    190900.0  NaN   CARD               NaN         2021-03-04  \n",
       "3    190900.0  NaN   CARD               NaN         2021-03-04  \n",
       "4    117500.0  NaN   CARD           PPT/보고서         2019-11-14  "
      ]
     },
     "execution_count": 6,
     "metadata": {},
     "output_type": "execute_result"
    }
   ],
   "source": [
    "data_new = data.drop(['tax_free_amount'], axis=1) # Tax_free_amount 컬럼 제거\n",
    "data_new.head()"
   ]
  },
  {
   "cell_type": "code",
   "execution_count": 15,
   "id": "03c83195",
   "metadata": {
    "ExecuteTime": {
     "end_time": "2022-05-10T01:00:35.752764Z",
     "start_time": "2022-05-10T01:00:35.719546Z"
    }
   },
   "outputs": [
    {
     "data": {
      "text/plain": [
       "CARD            66380\n",
       "VBANK            8540\n",
       "POINT            8084\n",
       "PROMOTION        4733\n",
       "TRANS            2732\n",
       "TRANSFER         1247\n",
       "ONSITE            599\n",
       "VOUCHER             5\n",
       "B2B_CONTRACT        3\n",
       "Name: method, dtype: int64"
      ]
     },
     "execution_count": 15,
     "metadata": {},
     "output_type": "execute_result"
    }
   ],
   "source": [
    "\n",
    "# cond = data_new.method == 'TRANS'  \n",
    "# data_new[cond]\n",
    "\n",
    "data_new['method'].value_counts() # Method 컬럼의 속성 카운트 출력"
   ]
  },
  {
   "cell_type": "code",
   "execution_count": 23,
   "id": "4aa0562e",
   "metadata": {
    "ExecuteTime": {
     "end_time": "2022-05-10T01:04:40.090262Z",
     "start_time": "2022-05-10T01:04:39.906138Z"
    }
   },
   "outputs": [
    {
     "data": {
      "text/html": [
       "<div>\n",
       "<style scoped>\n",
       "    .dataframe tbody tr th:only-of-type {\n",
       "        vertical-align: middle;\n",
       "    }\n",
       "\n",
       "    .dataframe tbody tr th {\n",
       "        vertical-align: top;\n",
       "    }\n",
       "\n",
       "    .dataframe thead th {\n",
       "        text-align: right;\n",
       "    }\n",
       "</style>\n",
       "<table border=\"1\" class=\"dataframe\">\n",
       "  <thead>\n",
       "    <tr style=\"text-align: right;\">\n",
       "      <th></th>\n",
       "      <th>id</th>\n",
       "      <th>customer_id</th>\n",
       "      <th>course_id</th>\n",
       "      <th>type</th>\n",
       "      <th>state</th>\n",
       "      <th>course_title</th>\n",
       "      <th>category_title</th>\n",
       "      <th>format</th>\n",
       "      <th>completed_at</th>\n",
       "      <th>transaction_amount</th>\n",
       "      <th>coupon_title</th>\n",
       "      <th>coupon_discount_amount</th>\n",
       "      <th>sale_price</th>\n",
       "      <th>pg</th>\n",
       "      <th>method</th>\n",
       "      <th>subcategory_title</th>\n",
       "      <th>marketing_start_at</th>\n",
       "    </tr>\n",
       "  </thead>\n",
       "  <tbody>\n",
       "    <tr>\n",
       "      <th>2</th>\n",
       "      <td>970657.0</td>\n",
       "      <td>72297.0</td>\n",
       "      <td>204246.0</td>\n",
       "      <td>PAYMENT</td>\n",
       "      <td>COMPLETED</td>\n",
       "      <td>시크릿코드 : 프론트엔드 실무 완성편</td>\n",
       "      <td>프로그래밍</td>\n",
       "      <td>스쿨 온라인</td>\n",
       "      <td>2021-03-28 15:21:43</td>\n",
       "      <td>171810.0</td>\n",
       "      <td>[10% 할인] 시크릿코드 실무 완성편</td>\n",
       "      <td>19090.0</td>\n",
       "      <td>190900.0</td>\n",
       "      <td>NaN</td>\n",
       "      <td>CARD</td>\n",
       "      <td>NaN</td>\n",
       "      <td>2021-03-04</td>\n",
       "    </tr>\n",
       "    <tr>\n",
       "      <th>4</th>\n",
       "      <td>970658.0</td>\n",
       "      <td>478028.0</td>\n",
       "      <td>201797.0</td>\n",
       "      <td>PAYMENT</td>\n",
       "      <td>COMPLETED</td>\n",
       "      <td>올인원 패키지 : 직장인 필수 스킬 3종 세트 MAX</td>\n",
       "      <td>업무 생산성</td>\n",
       "      <td>올인원</td>\n",
       "      <td>2021-03-28 15:21:54</td>\n",
       "      <td>97500.0</td>\n",
       "      <td>[웰컴쿠폰] 올인원 패키지 2만원 할인 쿠폰</td>\n",
       "      <td>20000.0</td>\n",
       "      <td>117500.0</td>\n",
       "      <td>NaN</td>\n",
       "      <td>CARD</td>\n",
       "      <td>PPT/보고서</td>\n",
       "      <td>2019-11-14</td>\n",
       "    </tr>\n",
       "    <tr>\n",
       "      <th>8</th>\n",
       "      <td>970669.0</td>\n",
       "      <td>478033.0</td>\n",
       "      <td>203178.0</td>\n",
       "      <td>PAYMENT</td>\n",
       "      <td>COMPLETED</td>\n",
       "      <td>초격차 패키지 : 한번에 끝내는 영상 촬영과 편집</td>\n",
       "      <td>영상/3D</td>\n",
       "      <td>올인원</td>\n",
       "      <td>2021-03-28 15:26:47</td>\n",
       "      <td>96000.0</td>\n",
       "      <td>[웰컴쿠폰] 올인원 패키지 2만원 할인 쿠폰</td>\n",
       "      <td>20000.0</td>\n",
       "      <td>116000.0</td>\n",
       "      <td>NaN</td>\n",
       "      <td>CARD</td>\n",
       "      <td>영상 편집</td>\n",
       "      <td>2020-12-02</td>\n",
       "    </tr>\n",
       "    <tr>\n",
       "      <th>10</th>\n",
       "      <td>970671.0</td>\n",
       "      <td>469860.0</td>\n",
       "      <td>203644.0</td>\n",
       "      <td>PAYMENT</td>\n",
       "      <td>COMPLETED</td>\n",
       "      <td>올인원 패키지 : 권오상의 금융 아카데미 - 권오상의 재무제표 분석 기초(평생소장)</td>\n",
       "      <td>부동산/금융</td>\n",
       "      <td>올인원</td>\n",
       "      <td>2021-03-28 15:27:17</td>\n",
       "      <td>263000.0</td>\n",
       "      <td>NaN</td>\n",
       "      <td>NaN</td>\n",
       "      <td>263000.0</td>\n",
       "      <td>NaN</td>\n",
       "      <td>CARD</td>\n",
       "      <td>NaN</td>\n",
       "      <td>2020-11-27</td>\n",
       "    </tr>\n",
       "    <tr>\n",
       "      <th>14</th>\n",
       "      <td>970676.0</td>\n",
       "      <td>478035.0</td>\n",
       "      <td>203720.0</td>\n",
       "      <td>PAYMENT</td>\n",
       "      <td>COMPLETED</td>\n",
       "      <td>초격차 패키지 : 한 번에 끝내는 프론트엔드 개발</td>\n",
       "      <td>프로그래밍</td>\n",
       "      <td>올인원</td>\n",
       "      <td>2021-03-28 15:31:01</td>\n",
       "      <td>91000.0</td>\n",
       "      <td>[웰컴쿠폰] 올인원 패키지 2만원 할인 쿠폰</td>\n",
       "      <td>20000.0</td>\n",
       "      <td>111000.0</td>\n",
       "      <td>NaN</td>\n",
       "      <td>CARD</td>\n",
       "      <td>프론트엔드 개발</td>\n",
       "      <td>2021-02-02</td>\n",
       "    </tr>\n",
       "  </tbody>\n",
       "</table>\n",
       "</div>"
      ],
      "text/plain": [
       "          id  customer_id  course_id     type      state  \\\n",
       "2   970657.0      72297.0   204246.0  PAYMENT  COMPLETED   \n",
       "4   970658.0     478028.0   201797.0  PAYMENT  COMPLETED   \n",
       "8   970669.0     478033.0   203178.0  PAYMENT  COMPLETED   \n",
       "10  970671.0     469860.0   203644.0  PAYMENT  COMPLETED   \n",
       "14  970676.0     478035.0   203720.0  PAYMENT  COMPLETED   \n",
       "\n",
       "                                      course_title category_title  format  \\\n",
       "2                             시크릿코드 : 프론트엔드 실무 완성편          프로그래밍  스쿨 온라인   \n",
       "4                    올인원 패키지 : 직장인 필수 스킬 3종 세트 MAX         업무 생산성     올인원   \n",
       "8                      초격차 패키지 : 한번에 끝내는 영상 촬영과 편집          영상/3D     올인원   \n",
       "10  올인원 패키지 : 권오상의 금융 아카데미 - 권오상의 재무제표 분석 기초(평생소장)         부동산/금융     올인원   \n",
       "14                     초격차 패키지 : 한 번에 끝내는 프론트엔드 개발          프로그래밍     올인원   \n",
       "\n",
       "          completed_at  transaction_amount              coupon_title  \\\n",
       "2  2021-03-28 15:21:43            171810.0     [10% 할인] 시크릿코드 실무 완성편   \n",
       "4  2021-03-28 15:21:54             97500.0  [웰컴쿠폰] 올인원 패키지 2만원 할인 쿠폰   \n",
       "8  2021-03-28 15:26:47             96000.0  [웰컴쿠폰] 올인원 패키지 2만원 할인 쿠폰   \n",
       "10 2021-03-28 15:27:17            263000.0                       NaN   \n",
       "14 2021-03-28 15:31:01             91000.0  [웰컴쿠폰] 올인원 패키지 2만원 할인 쿠폰   \n",
       "\n",
       "    coupon_discount_amount  sale_price   pg method subcategory_title  \\\n",
       "2                  19090.0    190900.0  NaN   CARD               NaN   \n",
       "4                  20000.0    117500.0  NaN   CARD           PPT/보고서   \n",
       "8                  20000.0    116000.0  NaN   CARD             영상 편집   \n",
       "10                     NaN    263000.0  NaN   CARD               NaN   \n",
       "14                 20000.0    111000.0  NaN   CARD          프론트엔드 개발   \n",
       "\n",
       "   marketing_start_at  \n",
       "2          2021-03-04  \n",
       "4          2019-11-14  \n",
       "8          2020-12-02  \n",
       "10         2020-11-27  \n",
       "14         2021-02-02  "
      ]
     },
     "execution_count": 23,
     "metadata": {},
     "output_type": "execute_result"
    }
   ],
   "source": [
    "# 더 이상 사용되지 않는 기능으로 안내 받음, B2B 거래로 무시 요청\n",
    "useless = data_new[data_new['type'].str.contains('ORDER')].index\n",
    "data_new.drop(useless, inplace=True)\n",
    "useless = data_new[data_new['type'].str.contains('TRANSACTION')].index\n",
    "data_new.drop(useless, inplace=True\n",
    "# 보안 상의 이유로 사용할 수 없는 4개의 속성 삭제             \n",
    "useless = data_new[data_new['state'].str.contains('PENDING')].index\n",
    "data_new.drop(useless, inplace=True)\n",
    "useless = data_new[data_new['state'].str.contains('CANCELLED')].index\n",
    "data_new.drop(useless, inplace=True)\n",
    "useless = data_new[data_new['state'].str.contains('HIDDEN')].index\n",
    "data_new.drop(useless, inplace=True)\n",
    "useless = data_new[data_new['state'].str.contains('DELETED')].index\n",
    "data_new.drop(useless, inplace=True)\n",
    "data_new.head()\n",
    "\n"
   ]
  },
  {
   "cell_type": "code",
   "execution_count": 24,
   "id": "354d713d",
   "metadata": {
    "ExecuteTime": {
     "end_time": "2022-05-10T01:04:44.120786Z",
     "start_time": "2022-05-10T01:04:44.104676Z"
    },
    "scrolled": true
   },
   "outputs": [
    {
     "data": {
      "text/plain": [
       "COMPLETED    56724\n",
       "REQUESTED       14\n",
       "Name: state, dtype: int64"
      ]
     },
     "execution_count": 24,
     "metadata": {},
     "output_type": "execute_result"
    }
   ],
   "source": [
    "data_new['state'].value_counts() # state 속성 분석"
   ]
  },
  {
   "cell_type": "code",
   "execution_count": 25,
   "id": "e3abcf08",
   "metadata": {
    "ExecuteTime": {
     "end_time": "2022-05-10T01:05:05.171501Z",
     "start_time": "2022-05-10T01:05:05.165737Z"
    },
    "scrolled": true
   },
   "outputs": [
    {
     "data": {
      "text/plain": [
       "PAYMENT    52916\n",
       "REFUND      3822\n",
       "Name: type, dtype: int64"
      ]
     },
     "execution_count": 25,
     "metadata": {},
     "output_type": "execute_result"
    }
   ],
   "source": [
    "data_new['type'].value_counts() # type 속성 분석"
   ]
  },
  {
   "cell_type": "code",
   "execution_count": 26,
   "id": "7ba8a1d0",
   "metadata": {
    "ExecuteTime": {
     "end_time": "2022-05-10T01:07:04.752371Z",
     "start_time": "2022-05-10T01:07:04.712657Z"
    }
   },
   "outputs": [
    {
     "data": {
      "text/html": [
       "<div>\n",
       "<style scoped>\n",
       "    .dataframe tbody tr th:only-of-type {\n",
       "        vertical-align: middle;\n",
       "    }\n",
       "\n",
       "    .dataframe tbody tr th {\n",
       "        vertical-align: top;\n",
       "    }\n",
       "\n",
       "    .dataframe thead th {\n",
       "        text-align: right;\n",
       "    }\n",
       "</style>\n",
       "<table border=\"1\" class=\"dataframe\">\n",
       "  <thead>\n",
       "    <tr style=\"text-align: right;\">\n",
       "      <th></th>\n",
       "      <th>id</th>\n",
       "      <th>customer_id</th>\n",
       "      <th>course_id</th>\n",
       "      <th>type</th>\n",
       "      <th>state</th>\n",
       "      <th>course_title</th>\n",
       "      <th>category_title</th>\n",
       "      <th>format</th>\n",
       "      <th>completed_at</th>\n",
       "      <th>transaction_amount</th>\n",
       "      <th>coupon_title</th>\n",
       "      <th>coupon_discount_amount</th>\n",
       "      <th>sale_price</th>\n",
       "      <th>pg</th>\n",
       "      <th>method</th>\n",
       "      <th>subcategory_title</th>\n",
       "      <th>marketing_start_at</th>\n",
       "      <th>payment_data</th>\n",
       "    </tr>\n",
       "  </thead>\n",
       "  <tbody>\n",
       "    <tr>\n",
       "      <th>2</th>\n",
       "      <td>970657.0</td>\n",
       "      <td>72297.0</td>\n",
       "      <td>204246.0</td>\n",
       "      <td>PAYMENT</td>\n",
       "      <td>COMPLETED</td>\n",
       "      <td>시크릿코드 : 프론트엔드 실무 완성편</td>\n",
       "      <td>프로그래밍</td>\n",
       "      <td>스쿨 온라인</td>\n",
       "      <td>2021-03-28 15:21:43</td>\n",
       "      <td>171810.0</td>\n",
       "      <td>[10% 할인] 시크릿코드 실무 완성편</td>\n",
       "      <td>19090.0</td>\n",
       "      <td>190900.0</td>\n",
       "      <td>PG</td>\n",
       "      <td>CARD</td>\n",
       "      <td>NaN</td>\n",
       "      <td>2021-03-04</td>\n",
       "      <td>PG CARD</td>\n",
       "    </tr>\n",
       "    <tr>\n",
       "      <th>4</th>\n",
       "      <td>970658.0</td>\n",
       "      <td>478028.0</td>\n",
       "      <td>201797.0</td>\n",
       "      <td>PAYMENT</td>\n",
       "      <td>COMPLETED</td>\n",
       "      <td>올인원 패키지 : 직장인 필수 스킬 3종 세트 MAX</td>\n",
       "      <td>업무 생산성</td>\n",
       "      <td>올인원</td>\n",
       "      <td>2021-03-28 15:21:54</td>\n",
       "      <td>97500.0</td>\n",
       "      <td>[웰컴쿠폰] 올인원 패키지 2만원 할인 쿠폰</td>\n",
       "      <td>20000.0</td>\n",
       "      <td>117500.0</td>\n",
       "      <td>PG</td>\n",
       "      <td>CARD</td>\n",
       "      <td>PPT/보고서</td>\n",
       "      <td>2019-11-14</td>\n",
       "      <td>PG CARD</td>\n",
       "    </tr>\n",
       "    <tr>\n",
       "      <th>8</th>\n",
       "      <td>970669.0</td>\n",
       "      <td>478033.0</td>\n",
       "      <td>203178.0</td>\n",
       "      <td>PAYMENT</td>\n",
       "      <td>COMPLETED</td>\n",
       "      <td>초격차 패키지 : 한번에 끝내는 영상 촬영과 편집</td>\n",
       "      <td>영상/3D</td>\n",
       "      <td>올인원</td>\n",
       "      <td>2021-03-28 15:26:47</td>\n",
       "      <td>96000.0</td>\n",
       "      <td>[웰컴쿠폰] 올인원 패키지 2만원 할인 쿠폰</td>\n",
       "      <td>20000.0</td>\n",
       "      <td>116000.0</td>\n",
       "      <td>PG</td>\n",
       "      <td>CARD</td>\n",
       "      <td>영상 편집</td>\n",
       "      <td>2020-12-02</td>\n",
       "      <td>PG CARD</td>\n",
       "    </tr>\n",
       "    <tr>\n",
       "      <th>10</th>\n",
       "      <td>970671.0</td>\n",
       "      <td>469860.0</td>\n",
       "      <td>203644.0</td>\n",
       "      <td>PAYMENT</td>\n",
       "      <td>COMPLETED</td>\n",
       "      <td>올인원 패키지 : 권오상의 금융 아카데미 - 권오상의 재무제표 분석 기초(평생소장)</td>\n",
       "      <td>부동산/금융</td>\n",
       "      <td>올인원</td>\n",
       "      <td>2021-03-28 15:27:17</td>\n",
       "      <td>263000.0</td>\n",
       "      <td>NaN</td>\n",
       "      <td>NaN</td>\n",
       "      <td>263000.0</td>\n",
       "      <td>PG</td>\n",
       "      <td>CARD</td>\n",
       "      <td>NaN</td>\n",
       "      <td>2020-11-27</td>\n",
       "      <td>PG CARD</td>\n",
       "    </tr>\n",
       "    <tr>\n",
       "      <th>14</th>\n",
       "      <td>970676.0</td>\n",
       "      <td>478035.0</td>\n",
       "      <td>203720.0</td>\n",
       "      <td>PAYMENT</td>\n",
       "      <td>COMPLETED</td>\n",
       "      <td>초격차 패키지 : 한 번에 끝내는 프론트엔드 개발</td>\n",
       "      <td>프로그래밍</td>\n",
       "      <td>올인원</td>\n",
       "      <td>2021-03-28 15:31:01</td>\n",
       "      <td>91000.0</td>\n",
       "      <td>[웰컴쿠폰] 올인원 패키지 2만원 할인 쿠폰</td>\n",
       "      <td>20000.0</td>\n",
       "      <td>111000.0</td>\n",
       "      <td>PG</td>\n",
       "      <td>CARD</td>\n",
       "      <td>프론트엔드 개발</td>\n",
       "      <td>2021-02-02</td>\n",
       "      <td>PG CARD</td>\n",
       "    </tr>\n",
       "  </tbody>\n",
       "</table>\n",
       "</div>"
      ],
      "text/plain": [
       "          id  customer_id  course_id     type      state  \\\n",
       "2   970657.0      72297.0   204246.0  PAYMENT  COMPLETED   \n",
       "4   970658.0     478028.0   201797.0  PAYMENT  COMPLETED   \n",
       "8   970669.0     478033.0   203178.0  PAYMENT  COMPLETED   \n",
       "10  970671.0     469860.0   203644.0  PAYMENT  COMPLETED   \n",
       "14  970676.0     478035.0   203720.0  PAYMENT  COMPLETED   \n",
       "\n",
       "                                      course_title category_title  format  \\\n",
       "2                             시크릿코드 : 프론트엔드 실무 완성편          프로그래밍  스쿨 온라인   \n",
       "4                    올인원 패키지 : 직장인 필수 스킬 3종 세트 MAX         업무 생산성     올인원   \n",
       "8                      초격차 패키지 : 한번에 끝내는 영상 촬영과 편집          영상/3D     올인원   \n",
       "10  올인원 패키지 : 권오상의 금융 아카데미 - 권오상의 재무제표 분석 기초(평생소장)         부동산/금융     올인원   \n",
       "14                     초격차 패키지 : 한 번에 끝내는 프론트엔드 개발          프로그래밍     올인원   \n",
       "\n",
       "          completed_at  transaction_amount              coupon_title  \\\n",
       "2  2021-03-28 15:21:43            171810.0     [10% 할인] 시크릿코드 실무 완성편   \n",
       "4  2021-03-28 15:21:54             97500.0  [웰컴쿠폰] 올인원 패키지 2만원 할인 쿠폰   \n",
       "8  2021-03-28 15:26:47             96000.0  [웰컴쿠폰] 올인원 패키지 2만원 할인 쿠폰   \n",
       "10 2021-03-28 15:27:17            263000.0                       NaN   \n",
       "14 2021-03-28 15:31:01             91000.0  [웰컴쿠폰] 올인원 패키지 2만원 할인 쿠폰   \n",
       "\n",
       "    coupon_discount_amount  sale_price  pg method subcategory_title  \\\n",
       "2                  19090.0    190900.0  PG   CARD               NaN   \n",
       "4                  20000.0    117500.0  PG   CARD           PPT/보고서   \n",
       "8                  20000.0    116000.0  PG   CARD             영상 편집   \n",
       "10                     NaN    263000.0  PG   CARD               NaN   \n",
       "14                 20000.0    111000.0  PG   CARD          프론트엔드 개발   \n",
       "\n",
       "   marketing_start_at payment_data  \n",
       "2          2021-03-04      PG CARD  \n",
       "4          2019-11-14      PG CARD  \n",
       "8          2020-12-02      PG CARD  \n",
       "10         2020-11-27      PG CARD  \n",
       "14         2021-02-02      PG CARD  "
      ]
     },
     "execution_count": 26,
     "metadata": {},
     "output_type": "execute_result"
    }
   ],
   "source": [
    "# pg, method 컬럼의 NaN 값을 처리 후 payment_data라는 컬럼을 새로 만들어 둘을 합침\n",
    "data_new['pg'].fillna('PG', inplace=True)\n",
    "data_new['method'].fillna(' ', inplace=True)\n",
    "data_new['payment_data'] = data_new['pg'] + ' ' + data_new['method']\n",
    "data_new.head() "
   ]
  },
  {
   "cell_type": "code",
   "execution_count": 27,
   "id": "7c1025c7",
   "metadata": {
    "ExecuteTime": {
     "end_time": "2022-05-10T01:07:27.413831Z",
     "start_time": "2022-05-10T01:07:27.397507Z"
    }
   },
   "outputs": [
    {
     "data": {
      "text/plain": [
       "0"
      ]
     },
     "execution_count": 27,
     "metadata": {},
     "output_type": "execute_result"
    }
   ],
   "source": [
    "data_new['payment_data'].isna().sum()"
   ]
  },
  {
   "cell_type": "code",
   "execution_count": 28,
   "id": "0344906c",
   "metadata": {
    "ExecuteTime": {
     "end_time": "2022-05-10T01:10:56.782229Z",
     "start_time": "2022-05-10T01:10:56.743826Z"
    }
   },
   "outputs": [
    {
     "data": {
      "text/html": [
       "<div>\n",
       "<style scoped>\n",
       "    .dataframe tbody tr th:only-of-type {\n",
       "        vertical-align: middle;\n",
       "    }\n",
       "\n",
       "    .dataframe tbody tr th {\n",
       "        vertical-align: top;\n",
       "    }\n",
       "\n",
       "    .dataframe thead th {\n",
       "        text-align: right;\n",
       "    }\n",
       "</style>\n",
       "<table border=\"1\" class=\"dataframe\">\n",
       "  <thead>\n",
       "    <tr style=\"text-align: right;\">\n",
       "      <th></th>\n",
       "      <th>id</th>\n",
       "      <th>customer_id</th>\n",
       "      <th>course_id</th>\n",
       "      <th>type</th>\n",
       "      <th>state</th>\n",
       "      <th>course_title</th>\n",
       "      <th>category_title</th>\n",
       "      <th>format</th>\n",
       "      <th>completed_at</th>\n",
       "      <th>transaction_amount</th>\n",
       "      <th>coupon_title</th>\n",
       "      <th>coupon_discount_amount</th>\n",
       "      <th>sale_price</th>\n",
       "      <th>subcategory_title</th>\n",
       "      <th>marketing_start_at</th>\n",
       "      <th>payment_data</th>\n",
       "    </tr>\n",
       "  </thead>\n",
       "  <tbody>\n",
       "    <tr>\n",
       "      <th>2</th>\n",
       "      <td>970657.0</td>\n",
       "      <td>72297.0</td>\n",
       "      <td>204246.0</td>\n",
       "      <td>PAYMENT</td>\n",
       "      <td>COMPLETED</td>\n",
       "      <td>시크릿코드 : 프론트엔드 실무 완성편</td>\n",
       "      <td>프로그래밍</td>\n",
       "      <td>스쿨 온라인</td>\n",
       "      <td>2021-03-28 15:21:43</td>\n",
       "      <td>171810.0</td>\n",
       "      <td>[10% 할인] 시크릿코드 실무 완성편</td>\n",
       "      <td>19090.0</td>\n",
       "      <td>190900.0</td>\n",
       "      <td>NaN</td>\n",
       "      <td>2021-03-04</td>\n",
       "      <td>PG CARD</td>\n",
       "    </tr>\n",
       "    <tr>\n",
       "      <th>4</th>\n",
       "      <td>970658.0</td>\n",
       "      <td>478028.0</td>\n",
       "      <td>201797.0</td>\n",
       "      <td>PAYMENT</td>\n",
       "      <td>COMPLETED</td>\n",
       "      <td>올인원 패키지 : 직장인 필수 스킬 3종 세트 MAX</td>\n",
       "      <td>업무 생산성</td>\n",
       "      <td>올인원</td>\n",
       "      <td>2021-03-28 15:21:54</td>\n",
       "      <td>97500.0</td>\n",
       "      <td>[웰컴쿠폰] 올인원 패키지 2만원 할인 쿠폰</td>\n",
       "      <td>20000.0</td>\n",
       "      <td>117500.0</td>\n",
       "      <td>PPT/보고서</td>\n",
       "      <td>2019-11-14</td>\n",
       "      <td>PG CARD</td>\n",
       "    </tr>\n",
       "    <tr>\n",
       "      <th>8</th>\n",
       "      <td>970669.0</td>\n",
       "      <td>478033.0</td>\n",
       "      <td>203178.0</td>\n",
       "      <td>PAYMENT</td>\n",
       "      <td>COMPLETED</td>\n",
       "      <td>초격차 패키지 : 한번에 끝내는 영상 촬영과 편집</td>\n",
       "      <td>영상/3D</td>\n",
       "      <td>올인원</td>\n",
       "      <td>2021-03-28 15:26:47</td>\n",
       "      <td>96000.0</td>\n",
       "      <td>[웰컴쿠폰] 올인원 패키지 2만원 할인 쿠폰</td>\n",
       "      <td>20000.0</td>\n",
       "      <td>116000.0</td>\n",
       "      <td>영상 편집</td>\n",
       "      <td>2020-12-02</td>\n",
       "      <td>PG CARD</td>\n",
       "    </tr>\n",
       "    <tr>\n",
       "      <th>10</th>\n",
       "      <td>970671.0</td>\n",
       "      <td>469860.0</td>\n",
       "      <td>203644.0</td>\n",
       "      <td>PAYMENT</td>\n",
       "      <td>COMPLETED</td>\n",
       "      <td>올인원 패키지 : 권오상의 금융 아카데미 - 권오상의 재무제표 분석 기초(평생소장)</td>\n",
       "      <td>부동산/금융</td>\n",
       "      <td>올인원</td>\n",
       "      <td>2021-03-28 15:27:17</td>\n",
       "      <td>263000.0</td>\n",
       "      <td>NaN</td>\n",
       "      <td>NaN</td>\n",
       "      <td>263000.0</td>\n",
       "      <td>NaN</td>\n",
       "      <td>2020-11-27</td>\n",
       "      <td>PG CARD</td>\n",
       "    </tr>\n",
       "    <tr>\n",
       "      <th>14</th>\n",
       "      <td>970676.0</td>\n",
       "      <td>478035.0</td>\n",
       "      <td>203720.0</td>\n",
       "      <td>PAYMENT</td>\n",
       "      <td>COMPLETED</td>\n",
       "      <td>초격차 패키지 : 한 번에 끝내는 프론트엔드 개발</td>\n",
       "      <td>프로그래밍</td>\n",
       "      <td>올인원</td>\n",
       "      <td>2021-03-28 15:31:01</td>\n",
       "      <td>91000.0</td>\n",
       "      <td>[웰컴쿠폰] 올인원 패키지 2만원 할인 쿠폰</td>\n",
       "      <td>20000.0</td>\n",
       "      <td>111000.0</td>\n",
       "      <td>프론트엔드 개발</td>\n",
       "      <td>2021-02-02</td>\n",
       "      <td>PG CARD</td>\n",
       "    </tr>\n",
       "  </tbody>\n",
       "</table>\n",
       "</div>"
      ],
      "text/plain": [
       "          id  customer_id  course_id     type      state  \\\n",
       "2   970657.0      72297.0   204246.0  PAYMENT  COMPLETED   \n",
       "4   970658.0     478028.0   201797.0  PAYMENT  COMPLETED   \n",
       "8   970669.0     478033.0   203178.0  PAYMENT  COMPLETED   \n",
       "10  970671.0     469860.0   203644.0  PAYMENT  COMPLETED   \n",
       "14  970676.0     478035.0   203720.0  PAYMENT  COMPLETED   \n",
       "\n",
       "                                      course_title category_title  format  \\\n",
       "2                             시크릿코드 : 프론트엔드 실무 완성편          프로그래밍  스쿨 온라인   \n",
       "4                    올인원 패키지 : 직장인 필수 스킬 3종 세트 MAX         업무 생산성     올인원   \n",
       "8                      초격차 패키지 : 한번에 끝내는 영상 촬영과 편집          영상/3D     올인원   \n",
       "10  올인원 패키지 : 권오상의 금융 아카데미 - 권오상의 재무제표 분석 기초(평생소장)         부동산/금융     올인원   \n",
       "14                     초격차 패키지 : 한 번에 끝내는 프론트엔드 개발          프로그래밍     올인원   \n",
       "\n",
       "          completed_at  transaction_amount              coupon_title  \\\n",
       "2  2021-03-28 15:21:43            171810.0     [10% 할인] 시크릿코드 실무 완성편   \n",
       "4  2021-03-28 15:21:54             97500.0  [웰컴쿠폰] 올인원 패키지 2만원 할인 쿠폰   \n",
       "8  2021-03-28 15:26:47             96000.0  [웰컴쿠폰] 올인원 패키지 2만원 할인 쿠폰   \n",
       "10 2021-03-28 15:27:17            263000.0                       NaN   \n",
       "14 2021-03-28 15:31:01             91000.0  [웰컴쿠폰] 올인원 패키지 2만원 할인 쿠폰   \n",
       "\n",
       "    coupon_discount_amount  sale_price subcategory_title marketing_start_at  \\\n",
       "2                  19090.0    190900.0               NaN         2021-03-04   \n",
       "4                  20000.0    117500.0           PPT/보고서         2019-11-14   \n",
       "8                  20000.0    116000.0             영상 편집         2020-12-02   \n",
       "10                     NaN    263000.0               NaN         2020-11-27   \n",
       "14                 20000.0    111000.0          프론트엔드 개발         2021-02-02   \n",
       "\n",
       "   payment_data  \n",
       "2       PG CARD  \n",
       "4       PG CARD  \n",
       "8       PG CARD  \n",
       "10      PG CARD  \n",
       "14      PG CARD  "
      ]
     },
     "execution_count": 28,
     "metadata": {},
     "output_type": "execute_result"
    }
   ],
   "source": [
    "# 필요없는 pg, method 속성 삭제\n",
    "data_new.drop(['pg', 'method'], axis=1, inplace=True)\n",
    "data_new.head()"
   ]
  },
  {
   "cell_type": "code",
   "execution_count": 30,
   "id": "53c7b200",
   "metadata": {
    "ExecuteTime": {
     "end_time": "2022-05-10T01:18:32.804325Z",
     "start_time": "2022-05-10T01:18:32.775634Z"
    }
   },
   "outputs": [],
   "source": [
    "data_new['payment_data'].unique()\n",
    "data_backup = data_new # 전처리된 dataset 보관"
   ]
  },
  {
   "cell_type": "markdown",
   "id": "65dfe2c5",
   "metadata": {},
   "source": [
    "# 2 가장 많이 판매된 Format 형식"
   ]
  },
  {
   "cell_type": "code",
   "execution_count": 32,
   "id": "f8af7885",
   "metadata": {
    "ExecuteTime": {
     "end_time": "2022-05-10T01:21:23.575427Z",
     "start_time": "2022-05-10T01:21:23.567538Z"
    },
    "scrolled": false
   },
   "outputs": [
    {
     "data": {
      "text/plain": [
       "올인원        46554\n",
       "RED         3383\n",
       "온라인 완주반     1673\n",
       "하루10분컷      1371\n",
       "스쿨          1036\n",
       "B2B 온라인      984\n",
       "스쿨 온라인       643\n",
       "B2B          485\n",
       "B2G          434\n",
       "이벤트           89\n",
       "아카이브          35\n",
       "캠프            25\n",
       "MBA           23\n",
       "관리             1\n",
       "온라인            1\n",
       "Name: format, dtype: int64"
      ]
     },
     "execution_count": 32,
     "metadata": {},
     "output_type": "execute_result"
    }
   ],
   "source": [
    "data_new['format'].value_counts()"
   ]
  },
  {
   "cell_type": "code",
   "execution_count": 36,
   "id": "9b10a473",
   "metadata": {
    "ExecuteTime": {
     "end_time": "2022-05-10T01:24:33.709348Z",
     "start_time": "2022-05-10T01:24:33.534036Z"
    }
   },
   "outputs": [
    {
     "data": {
      "image/png": "[encoded data removed]",
      "text/plain": [
       "<Figure size 576x432 with 1 Axes>"
      ]
     },
     "metadata": {
      "needs_background": "light"
     },
     "output_type": "display_data"
    }
   ],
   "source": [
    "plt.figure(figsize=(8, 6))\n",
    "sns.histplot(data_new, x='format')\n",
    "plt.xticks(rotation=-90, )\n",
    "plt.show()"
   ]
  },
  {
   "cell_type": "code",
   "execution_count": 38,
   "id": "367c8257",
   "metadata": {
    "ExecuteTime": {
     "end_time": "2022-05-10T01:27:15.947385Z",
     "start_time": "2022-05-10T01:27:15.935006Z"
    }
   },
   "outputs": [
    {
     "data": {
      "text/plain": [
       "array(['PAYMENT', 'REFUND'], dtype=object)"
      ]
     },
     "execution_count": 38,
     "metadata": {},
     "output_type": "execute_result"
    }
   ],
   "source": []
  },
  {
   "cell_type": "markdown",
   "id": "df1a6ca0",
   "metadata": {},
   "source": [
    "# 3 구매 확정율 분석"
   ]
  },
  {
   "cell_type": "code",
   "execution_count": 39,
   "id": "ed5e3ab5",
   "metadata": {
    "ExecuteTime": {
     "end_time": "2022-05-10T01:31:10.697006Z",
     "start_time": "2022-05-10T01:31:10.665220Z"
    }
   },
   "outputs": [
    {
     "data": {
      "text/plain": [
       "array(['PAYMENT', 'REFUND'], dtype=object)"
      ]
     },
     "execution_count": 39,
     "metadata": {},
     "output_type": "execute_result"
    }
   ],
   "source": [
    "data_new['type'].unique()"
   ]
  },
  {
   "cell_type": "markdown",
   "id": "25ae57ad",
   "metadata": {},
   "source": [
    "# 1. 결제수단 분석"
   ]
  },
  {
   "cell_type": "code",
   "execution_count": null,
   "id": "cd1a24c0",
   "metadata": {
    "ExecuteTime": {
     "end_time": "2022-05-09T07:54:01.610316Z",
     "start_time": "2022-05-09T07:54:01.563054Z"
    }
   },
   "outputs": [],
   "source": [
    "payment_data = data_new\n",
    "payment_data['pg'] = data['pg'].fillna('PG')\n",
    "payment_data.head()"
   ]
  },
  {
   "cell_type": "code",
   "execution_count": null,
   "id": "0744753d",
   "metadata": {
    "ExecuteTime": {
     "end_time": "2022-05-09T07:54:01.628767Z",
     "start_time": "2022-05-09T07:54:01.618172Z"
    }
   },
   "outputs": [],
   "source": [
    "payment_data['pg'].isna().sum()"
   ]
  },
  {
   "cell_type": "code",
   "execution_count": null,
   "id": "e62f7921",
   "metadata": {
    "ExecuteTime": {
     "end_time": "2022-05-09T07:54:01.662359Z",
     "start_time": "2022-05-09T07:54:01.630411Z"
    }
   },
   "outputs": [],
   "source": [
    "payment_data[payment_data['method'].isna()]['state'].unique()"
   ]
  },
  {
   "cell_type": "code",
   "execution_count": null,
   "id": "8c2f9b6b",
   "metadata": {
    "ExecuteTime": {
     "end_time": "2022-05-09T07:54:01.671700Z",
     "start_time": "2022-05-09T07:54:01.664008Z"
    }
   },
   "outputs": [],
   "source": [
    "payment_data['method'].isna().sum()"
   ]
  },
  {
   "cell_type": "code",
   "execution_count": null,
   "id": "5ec47d66",
   "metadata": {
    "ExecuteTime": {
     "end_time": "2022-05-09T07:54:01.688743Z",
     "start_time": "2022-05-09T07:54:01.674534Z"
    }
   },
   "outputs": [],
   "source": [
    "payment_data['method'].fillna('', inplace=True)\n",
    "payment_data['method'].isna().sum()"
   ]
  },
  {
   "cell_type": "code",
   "execution_count": null,
   "id": "411447e6",
   "metadata": {
    "ExecuteTime": {
     "end_time": "2022-05-09T07:54:01.710728Z",
     "start_time": "2022-05-09T07:54:01.691792Z"
    }
   },
   "outputs": [],
   "source": [
    "payment_data=payment_data['pg']+ ' '+ payment_data['method']\n"
   ]
  },
  {
   "cell_type": "code",
   "execution_count": null,
   "id": "96669215",
   "metadata": {},
   "outputs": [],
   "source": []
  },
  {
   "cell_type": "code",
   "execution_count": null,
   "id": "09040435",
   "metadata": {
    "ExecuteTime": {
     "end_time": "2022-05-09T07:54:01.722506Z",
     "start_time": "2022-05-09T07:54:01.712061Z"
    }
   },
   "outputs": [],
   "source": [
    "data2 = data.copy()\n",
    "data2['payment_data']=payment_data"
   ]
  },
  {
   "cell_type": "code",
   "execution_count": null,
   "id": "a1c3e674",
   "metadata": {
    "ExecuteTime": {
     "end_time": "2022-05-09T07:54:01.754415Z",
     "start_time": "2022-05-09T07:54:01.723571Z"
    }
   },
   "outputs": [],
   "source": [
    "data2.drop(['pg', 'method'], axis=1, inplace=True)"
   ]
  },
  {
   "cell_type": "code",
   "execution_count": null,
   "id": "e9c14b1d",
   "metadata": {
    "ExecuteTime": {
     "end_time": "2022-05-09T07:54:02.068240Z",
     "start_time": "2022-05-09T07:54:01.755434Z"
    }
   },
   "outputs": [],
   "source": [
    "plt.figure(figsize=(20, 6))\n",
    "sns.histplot(data2, x='payment_data')\n",
    "plt.xticks(rotation=-90, fontsize=10)\n",
    "plt.show()"
   ]
  },
  {
   "cell_type": "markdown",
   "id": "207b3cb8",
   "metadata": {
    "ExecuteTime": {
     "end_time": "2022-05-09T05:22:05.237673Z",
     "start_time": "2022-05-09T05:22:05.231347Z"
    }
   },
   "source": [
    "# 2. course title 분석"
   ]
  },
  {
   "cell_type": "code",
   "execution_count": null,
   "id": "8b5ac11b",
   "metadata": {
    "ExecuteTime": {
     "end_time": "2022-05-09T07:54:02.090814Z",
     "start_time": "2022-05-09T07:54:02.070866Z"
    },
    "scrolled": true
   },
   "outputs": [],
   "source": [
    "data2.head()"
   ]
  },
  {
   "cell_type": "code",
   "execution_count": null,
   "id": "c33f7764",
   "metadata": {
    "ExecuteTime": {
     "end_time": "2022-05-09T07:54:02.302679Z",
     "start_time": "2022-05-09T07:54:02.093662Z"
    }
   },
   "outputs": [],
   "source": [
    "how = {\n",
    "    'course_title' : np.count_nonzero\n",
    "}\n",
    "\n",
    "data2.groupby(['category_title', 'subcategory_title', 'course_title']).count()"
   ]
  },
  {
   "cell_type": "code",
   "execution_count": null,
   "id": "210f945b",
   "metadata": {
    "ExecuteTime": {
     "end_time": "2022-05-09T07:55:51.383578Z",
     "start_time": "2022-05-09T07:54:02.304475Z"
    }
   },
   "outputs": [],
   "source": [
    "sns.pairplot(data2)"
   ]
  },
  {
   "cell_type": "code",
   "execution_count": null,
   "id": "cf331be8",
   "metadata": {
    "ExecuteTime": {
     "end_time": "2022-05-09T07:55:51.417623Z",
     "start_time": "2022-05-09T07:55:51.385645Z"
    }
   },
   "outputs": [],
   "source": [
    "corr = data2.corr()\n",
    "corr"
   ]
  },
  {
   "cell_type": "code",
   "execution_count": null,
   "id": "260de501",
   "metadata": {
    "ExecuteTime": {
     "end_time": "2022-05-09T07:55:51.731149Z",
     "start_time": "2022-05-09T07:55:51.419318Z"
    }
   },
   "outputs": [],
   "source": [
    "plt.figure(figsize=(15,15))\n",
    "sns.heatmap(data=corr, cmap='Blues', annot=True)\n",
    "plt.show()"
   ]
  },
  {
   "cell_type": "code",
   "execution_count": null,
   "id": "0bffe41a",
   "metadata": {
    "ExecuteTime": {
     "end_time": "2022-05-09T07:55:56.777810Z",
     "start_time": "2022-05-09T07:55:51.732704Z"
    }
   },
   "outputs": [],
   "source": [
    "plt.figure(figsize=(200,8))\n",
    "data2.groupby(['category_title', 'subcategory_title','course_title'])['id'].count().plot(kind='bar')\n",
    "plt.xticks(rotation=-90)\n",
    "plt.show()"
   ]
  },
  {
   "cell_type": "markdown",
   "id": "e4691662",
   "metadata": {},
   "source": [
    "# 3. Format 분석"
   ]
  },
  {
   "cell_type": "code",
   "execution_count": null,
   "id": "2e7cb5f3",
   "metadata": {
    "ExecuteTime": {
     "end_time": "2022-05-09T07:55:56.787786Z",
     "start_time": "2022-05-09T07:55:56.779379Z"
    }
   },
   "outputs": [],
   "source": [
    "data2['format'].isna().sum()"
   ]
  },
  {
   "cell_type": "code",
   "execution_count": null,
   "id": "226cdaac",
   "metadata": {
    "ExecuteTime": {
     "end_time": "2022-05-09T07:55:56.797865Z",
     "start_time": "2022-05-09T07:55:56.788856Z"
    }
   },
   "outputs": [],
   "source": [
    "data2['format'].unique()"
   ]
  },
  {
   "cell_type": "code",
   "execution_count": null,
   "id": "037f1294",
   "metadata": {
    "ExecuteTime": {
     "end_time": "2022-05-09T07:55:56.819792Z",
     "start_time": "2022-05-09T07:55:56.800381Z"
    }
   },
   "outputs": [],
   "source": [
    "data2[data2['format'].isna()]"
   ]
  },
  {
   "cell_type": "code",
   "execution_count": null,
   "id": "5c7fe1eb",
   "metadata": {
    "ExecuteTime": {
     "end_time": "2022-05-09T07:55:56.860034Z",
     "start_time": "2022-05-09T07:55:56.821366Z"
    }
   },
   "outputs": [],
   "source": [
    "complete_transaction_amount = data2[data2['state'] == 'COMPLETED']['transaction_amount'].sum()\n",
    "canceled_transaction_amount = data2[data2['state'] == 'CANCELLED']['transaction_amount'].sum()"
   ]
  },
  {
   "cell_type": "code",
   "execution_count": null,
   "id": "6ef43237",
   "metadata": {
    "ExecuteTime": {
     "end_time": "2022-05-09T07:55:56.867030Z",
     "start_time": "2022-05-09T07:55:56.864923Z"
    }
   },
   "outputs": [],
   "source": [
    "print(complete_transaction_amount, canceled_transaction_amount)"
   ]
  },
  {
   "cell_type": "code",
   "execution_count": null,
   "id": "5846430e",
   "metadata": {
    "ExecuteTime": {
     "end_time": "2022-05-09T07:55:56.882186Z",
     "start_time": "2022-05-09T07:55:56.868053Z"
    }
   },
   "outputs": [],
   "source": [
    "how = {\n",
    "    'transaction_amount' : np.sum\n",
    "}\n",
    "data2.groupby(data2['state']).agg(how)"
   ]
  },
  {
   "cell_type": "code",
   "execution_count": null,
   "id": "fa39dd61",
   "metadata": {
    "ExecuteTime": {
     "end_time": "2022-05-09T06:55:16.626669Z",
     "start_time": "2022-05-09T06:55:16.585856Z"
    }
   },
   "outputs": [],
   "source": [
    "how = {\n",
    "    'transaction_amount' : np.sum\n",
    "}\n",
    "data2.groupby(['type','state']).agg(how)"
   ]
  },
  {
   "cell_type": "code",
   "execution_count": null,
   "id": "07c63578",
   "metadata": {
    "ExecuteTime": {
     "end_time": "2022-05-09T06:55:14.632915Z",
     "start_time": "2022-05-09T06:55:14.624804Z"
    }
   },
   "outputs": [],
   "source": [
    "pd.options.display.float_format = '{:.1f}'.format"
   ]
  },
  {
   "cell_type": "code",
   "execution_count": null,
   "id": "c9f8b8bf",
   "metadata": {
    "ExecuteTime": {
     "end_time": "2022-05-09T07:03:57.731200Z",
     "start_time": "2022-05-09T07:03:57.725257Z"
    }
   },
   "outputs": [],
   "source": [
    "# ORDER 결제는 하지 않았지만 수강신청만 되어있는 상태\n",
    "# CANCELLED "
   ]
  },
  {
   "cell_type": "markdown",
   "id": "7022ae23",
   "metadata": {
    "ExecuteTime": {
     "end_time": "2022-05-09T07:35:01.975840Z",
     "start_time": "2022-05-09T07:35:01.968545Z"
    }
   },
   "source": [
    "# 4 가장 많이 팔린 Format"
   ]
  },
  {
   "cell_type": "code",
   "execution_count": null,
   "id": "4f9c376b",
   "metadata": {
    "ExecuteTime": {
     "end_time": "2022-05-09T07:38:27.562237Z",
     "start_time": "2022-05-09T07:38:27.521218Z"
    }
   },
   "outputs": [],
   "source": [
    "data2[data2['format'].isna()]"
   ]
  },
  {
   "cell_type": "code",
   "execution_count": null,
   "id": "64c95f5c",
   "metadata": {
    "ExecuteTime": {
     "end_time": "2022-05-09T07:56:05.508053Z",
     "start_time": "2022-05-09T07:56:05.479469Z"
    }
   },
   "outputs": [],
   "source": [
    "data3 = data2.copy()\n",
    "data3['format'].dropna()"
   ]
  },
  {
   "cell_type": "code",
   "execution_count": null,
   "id": "2c8f0063",
   "metadata": {
    "ExecuteTime": {
     "end_time": "2022-05-09T07:56:08.342174Z",
     "start_time": "2022-05-09T07:56:08.294978Z"
    }
   },
   "outputs": [],
   "source": [
    "data3 = data3.drop(data3.loc[data3['format'].isna()].index)\n",
    "data3['format'].unique()"
   ]
  },
  {
   "cell_type": "code",
   "execution_count": null,
   "id": "7280b116",
   "metadata": {},
   "outputs": [],
   "source": []
  },
  {
   "cell_type": "code",
   "execution_count": null,
   "id": "5b0c15f0",
   "metadata": {
    "ExecuteTime": {
     "end_time": "2022-05-09T08:18:46.449539Z",
     "start_time": "2022-05-09T08:18:46.393123Z"
    }
   },
   "outputs": [],
   "source": [
    "how = {\n",
    "    'customer_id' : np.count_nonzero,\n",
    "    'transaction_amount' : np.sum,\n",
    "    \n",
    "}\n",
    "\n",
    "data3.groupby(['format','category_title', 'state']).agg(how)"
   ]
  },
  {
   "cell_type": "code",
   "execution_count": null,
   "id": "bc313699",
   "metadata": {
    "ExecuteTime": {
     "end_time": "2022-05-09T08:23:43.710485Z",
     "start_time": "2022-05-09T08:23:43.648150Z"
    }
   },
   "outputs": [],
   "source": [
    "data4 = data3.copy()\n",
    "data4= data4.drop(data4.loc[data4['state'] != 'COMPLETED'].index)"
   ]
  },
  {
   "cell_type": "code",
   "execution_count": null,
   "id": "5b138ed8",
   "metadata": {
    "ExecuteTime": {
     "end_time": "2022-05-09T08:29:39.374702Z",
     "start_time": "2022-05-09T08:29:39.314489Z"
    }
   },
   "outputs": [],
   "source": [
    "how = {\n",
    "    'transaction_amount' : np.sum,\n",
    "}\n",
    "data4.groupby(['category_title', 'state']).agg(how)"
   ]
  },
  {
   "cell_type": "code",
   "execution_count": null,
   "id": "c67ac622",
   "metadata": {
    "ExecuteTime": {
     "end_time": "2022-05-09T08:29:36.352289Z",
     "start_time": "2022-05-09T08:29:36.336565Z"
    }
   },
   "outputs": [],
   "source": [
    "pd.options.display.max_rows = 200\n",
    "\n",
    "pd.options.display.max_info_columns =200\n",
    "\n",
    "pd.options.display.float_format = '{:,}'.format"
   ]
  },
  {
   "cell_type": "code",
   "execution_count": null,
   "id": "5b417005",
   "metadata": {
    "ExecuteTime": {
     "end_time": "2022-05-09T08:25:53.519786Z",
     "start_time": "2022-05-09T08:25:53.490038Z"
    }
   },
   "outputs": [],
   "source": []
  },
  {
   "cell_type": "markdown",
   "id": "c8b9aff6",
   "metadata": {},
   "source": [
    "# 4. type 컬럼에서 ORDER, TRANSACTION 삭제"
   ]
  },
  {
   "cell_type": "code",
   "execution_count": null,
   "id": "59aff7ab",
   "metadata": {
    "ExecuteTime": {
     "end_time": "2022-05-10T00:48:38.868736Z",
     "start_time": "2022-05-10T00:48:38.789696Z"
    }
   },
   "outputs": [],
   "source": [
    "# 더 이상 사용되지 않는 기능으로 안내 받음, B2B 거래로 무시 요청\n",
    "useless = data_new[data_new['type'].str.contains('ORDER')].index\n",
    "data_new.drop(useless, inplace=True)\n",
    "\n",
    "data_new.head()\n",
    "\n"
   ]
  },
  {
   "cell_type": "code",
   "execution_count": null,
   "id": "4a0acd23",
   "metadata": {
    "ExecuteTime": {
     "end_time": "2022-05-10T00:48:40.871324Z",
     "start_time": "2022-05-10T00:48:40.750900Z"
    }
   },
   "outputs": [],
   "source": [
    "useless = data_new[data_new['type'].str.contains('TRANSACTION')].index\n",
    "data_new.drop(useless, inplace=True)\n",
    "\n",
    "data_new.info()"
   ]
  },
  {
   "cell_type": "code",
   "execution_count": null,
   "id": "5e65f2dd",
   "metadata": {
    "ExecuteTime": {
     "end_time": "2022-05-10T00:48:41.646691Z",
     "start_time": "2022-05-10T00:48:41.497779Z"
    }
   },
   "outputs": [],
   "source": [
    "useless = data_new[data_new['state'].str.contains('PENDING')].index\n",
    "data_new.drop(useless, inplace=True)\n",
    "\n",
    "data_new.info()"
   ]
  },
  {
   "cell_type": "code",
   "execution_count": null,
   "id": "eb08be50",
   "metadata": {
    "ExecuteTime": {
     "end_time": "2022-05-10T00:48:42.294946Z",
     "start_time": "2022-05-10T00:48:42.189290Z"
    }
   },
   "outputs": [],
   "source": [
    "useless = data_new[data_new['state'].str.contains('CANCELLED')].index\n",
    "data_new.drop(useless, inplace=True)\n",
    "\n",
    "data_new.info()"
   ]
  },
  {
   "cell_type": "code",
   "execution_count": null,
   "id": "155bc8e3",
   "metadata": {
    "ExecuteTime": {
     "end_time": "2022-05-10T00:48:42.975673Z",
     "start_time": "2022-05-10T00:48:42.877227Z"
    }
   },
   "outputs": [],
   "source": [
    "useless = data_new[data_new['state'].str.contains('HIDDEN')].index\n",
    "data_new.drop(useless, inplace=True)\n",
    "\n",
    "data_new.info()"
   ]
  },
  {
   "cell_type": "code",
   "execution_count": null,
   "id": "20790da1",
   "metadata": {
    "ExecuteTime": {
     "end_time": "2022-05-10T00:48:43.803636Z",
     "start_time": "2022-05-10T00:48:43.703390Z"
    }
   },
   "outputs": [],
   "source": [
    "useless = data_new[data_new['state'].str.contains('DELETE')].index\n",
    "data_new.drop(useless, inplace=True)\n",
    "\n",
    "data_new.info()"
   ]
  },
  {
   "cell_type": "markdown",
   "id": "e9c9b0c4",
   "metadata": {},
   "source": [
    "# 5. PG method 합치기"
   ]
  },
  {
   "cell_type": "code",
   "execution_count": null,
   "id": "3fa277d8",
   "metadata": {
    "ExecuteTime": {
     "end_time": "2022-05-10T00:48:46.968670Z",
     "start_time": "2022-05-10T00:48:46.943915Z"
    }
   },
   "outputs": [],
   "source": [
    "data_new.head()"
   ]
  },
  {
   "cell_type": "code",
   "execution_count": null,
   "id": "f46ee8c8",
   "metadata": {
    "ExecuteTime": {
     "end_time": "2022-05-10T00:41:07.558390Z",
     "start_time": "2022-05-10T00:41:07.525300Z"
    }
   },
   "outputs": [],
   "source": [
    "data_new['pg'].fillna('PG', inplace=True)\n",
    "data_new.head()"
   ]
  },
  {
   "cell_type": "code",
   "execution_count": null,
   "id": "fc0ceac6",
   "metadata": {
    "ExecuteTime": {
     "end_time": "2022-05-10T00:49:31.094063Z",
     "start_time": "2022-05-10T00:49:31.073156Z"
    }
   },
   "outputs": [],
   "source": [
    "data_new['method'] = data_new['method'].fillna('')"
   ]
  },
  {
   "cell_type": "code",
   "execution_count": null,
   "id": "b1bfb467",
   "metadata": {
    "ExecuteTime": {
     "end_time": "2022-05-10T00:50:20.966021Z",
     "start_time": "2022-05-10T00:50:19.907114Z"
    }
   },
   "outputs": [],
   "source": [
    "data_new.drop(['pg', 'method'], axis=1, inplace=True)\n",
    "data_new.head()"
   ]
  },
  {
   "cell_type": "code",
   "execution_count": null,
   "id": "ec3e7c00",
   "metadata": {
    "ExecuteTime": {
     "end_time": "2022-05-10T00:50:00.979540Z",
     "start_time": "2022-05-10T00:50:00.924130Z"
    }
   },
   "outputs": [],
   "source": [
    "data_new['payment_data'] = data_new['pg'] +' '+ data_new['method']\n",
    "data_new.head()"
   ]
  },
  {
   "cell_type": "code",
   "execution_count": null,
   "id": "425fed73",
   "metadata": {
    "ExecuteTime": {
     "end_time": "2022-05-10T00:49:37.441173Z",
     "start_time": "2022-05-10T00:49:37.375074Z"
    }
   },
   "outputs": [],
   "source": [
    "data_new['payment_data'].unique()"
   ]
  },
  {
   "cell_type": "code",
   "execution_count": null,
   "id": "9d9ca644",
   "metadata": {
    "ExecuteTime": {
     "end_time": "2022-05-10T00:45:11.298830Z",
     "start_time": "2022-05-10T00:45:11.280685Z"
    }
   },
   "outputs": [],
   "source": [
    "data_new['payment_data'].isna().sum()"
   ]
  },
  {
   "cell_type": "code",
   "execution_count": null,
   "id": "aac5b4e4",
   "metadata": {},
   "outputs": [],
   "source": []
  }
 ],
 "metadata": {
  "kernelspec": {
   "display_name": "Python 3 (ipykernel)",
   "language": "python",
   "name": "python3"
  },
  "language_info": {
   "codemirror_mode": {
    "name": "ipython",
    "version": 3
   },
   "file_extension": ".py",
   "mimetype": "text/x-python",
   "name": "python",
   "nbconvert_exporter": "python",
   "pygments_lexer": "ipython3",
   "version": "3.9.0"
  },
  "toc": {
   "base_numbering": 1,
   "nav_menu": {},
   "number_sections": true,
   "sideBar": true,
   "skip_h1_title": false,
   "title_cell": "Table of Contents",
   "title_sidebar": "Contents",
   "toc_cell": false,
   "toc_position": {},
   "toc_section_display": true,
   "toc_window_display": false
  }
 },
 "nbformat": 4,
 "nbformat_minor": 5
}
