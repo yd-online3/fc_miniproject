{
 "cells": [
  {
   "cell_type": "code",
   "execution_count": 82,
   "id": "13d9aa0e",
   "metadata": {},
   "outputs": [
    {
     "name": "stdout",
     "output_type": "stream",
     "text": [
      "1\n"
     ]
    }
   ],
   "source": [
    "import numpy as np\n",
    "import pandas as pd\n",
    "import matplotlib.pyplot as plt\n",
    "import seaborn as sns\n",
    "\n",
    "print('1')"
   ]
  },
  {
   "cell_type": "code",
   "execution_count": 83,
   "id": "e140c9bf",
   "metadata": {},
   "outputs": [
    {
     "data": {
      "text/plain": [
       "(105419, 18)"
      ]
     },
     "execution_count": 83,
     "metadata": {},
     "output_type": "execute_result"
    }
   ],
   "source": [
    "#df = pd.read_excel('Z:\\2022 이어드림 프로젝트\\2022-05-09\\파이널프로젝트_RAW_210329_210926.xlsx')\n",
    "\n",
    "df = pd.read_excel('파이널프로젝트_RAW_210329_210926.xlsx')\n",
    "df.shape"
   ]
  },
  {
   "cell_type": "code",
   "execution_count": 26,
   "id": "4718a88d",
   "metadata": {},
   "outputs": [
    {
     "data": {
      "text/html": [
       "<div>\n",
       "<style scoped>\n",
       "    .dataframe tbody tr th:only-of-type {\n",
       "        vertical-align: middle;\n",
       "    }\n",
       "\n",
       "    .dataframe tbody tr th {\n",
       "        vertical-align: top;\n",
       "    }\n",
       "\n",
       "    .dataframe thead th {\n",
       "        text-align: right;\n",
       "    }\n",
       "</style>\n",
       "<table border=\"1\" class=\"dataframe\">\n",
       "  <thead>\n",
       "    <tr style=\"text-align: right;\">\n",
       "      <th></th>\n",
       "      <th>id</th>\n",
       "      <th>customer_id</th>\n",
       "      <th>course_id</th>\n",
       "      <th>type</th>\n",
       "      <th>state</th>\n",
       "      <th>course_title</th>\n",
       "      <th>category_title</th>\n",
       "      <th>format</th>\n",
       "      <th>completed_at</th>\n",
       "      <th>transaction_amount</th>\n",
       "      <th>coupon_title</th>\n",
       "      <th>coupon_discount_amount</th>\n",
       "      <th>sale_price</th>\n",
       "      <th>tax_free_amount</th>\n",
       "      <th>pg</th>\n",
       "      <th>method</th>\n",
       "      <th>subcategory_title</th>\n",
       "      <th>marketing_start_at</th>\n",
       "    </tr>\n",
       "  </thead>\n",
       "  <tbody>\n",
       "    <tr>\n",
       "      <th>0</th>\n",
       "      <td>970634</td>\n",
       "      <td>504760.0</td>\n",
       "      <td>201435.0</td>\n",
       "      <td>ORDER</td>\n",
       "      <td>CANCELLED</td>\n",
       "      <td>올인원 패키지 : 알고리즘 기술면접 완전 정복</td>\n",
       "      <td>프로그래밍</td>\n",
       "      <td>올인원</td>\n",
       "      <td>2021-03-28 15:00:11</td>\n",
       "      <td>90500</td>\n",
       "      <td>NaN</td>\n",
       "      <td>NaN</td>\n",
       "      <td>110500.0</td>\n",
       "      <td>110500.0</td>\n",
       "      <td>NaN</td>\n",
       "      <td>VBANK</td>\n",
       "      <td>개발자 커리어</td>\n",
       "      <td>NaT</td>\n",
       "    </tr>\n",
       "    <tr>\n",
       "      <th>1</th>\n",
       "      <td>970650</td>\n",
       "      <td>432862.0</td>\n",
       "      <td>203178.0</td>\n",
       "      <td>ORDER</td>\n",
       "      <td>CANCELLED</td>\n",
       "      <td>초격차 패키지 : 한번에 끝내는 영상 촬영과 편집</td>\n",
       "      <td>영상/3D</td>\n",
       "      <td>올인원</td>\n",
       "      <td>2021-03-28 15:16:53</td>\n",
       "      <td>96000</td>\n",
       "      <td>NaN</td>\n",
       "      <td>NaN</td>\n",
       "      <td>116000.0</td>\n",
       "      <td>116000.0</td>\n",
       "      <td>NaN</td>\n",
       "      <td>CARD</td>\n",
       "      <td>영상 편집</td>\n",
       "      <td>2020-12-02</td>\n",
       "    </tr>\n",
       "    <tr>\n",
       "      <th>2</th>\n",
       "      <td>970657</td>\n",
       "      <td>72297.0</td>\n",
       "      <td>204246.0</td>\n",
       "      <td>PAYMENT</td>\n",
       "      <td>COMPLETED</td>\n",
       "      <td>시크릿코드 : 프론트엔드 실무 완성편</td>\n",
       "      <td>프로그래밍</td>\n",
       "      <td>스쿨 온라인</td>\n",
       "      <td>2021-03-28 15:21:43</td>\n",
       "      <td>171810</td>\n",
       "      <td>[10% 할인] 시크릿코드 실무 완성편</td>\n",
       "      <td>19090.0</td>\n",
       "      <td>190900.0</td>\n",
       "      <td>190900.0</td>\n",
       "      <td>NaN</td>\n",
       "      <td>CARD</td>\n",
       "      <td>NaN</td>\n",
       "      <td>2021-03-04</td>\n",
       "    </tr>\n",
       "    <tr>\n",
       "      <th>3</th>\n",
       "      <td>970656</td>\n",
       "      <td>72297.0</td>\n",
       "      <td>204246.0</td>\n",
       "      <td>ORDER</td>\n",
       "      <td>CANCELLED</td>\n",
       "      <td>시크릿코드 : 프론트엔드 실무 완성편</td>\n",
       "      <td>프로그래밍</td>\n",
       "      <td>스쿨 온라인</td>\n",
       "      <td>2021-03-28 15:21:43</td>\n",
       "      <td>171810</td>\n",
       "      <td>NaN</td>\n",
       "      <td>NaN</td>\n",
       "      <td>190900.0</td>\n",
       "      <td>190900.0</td>\n",
       "      <td>NaN</td>\n",
       "      <td>CARD</td>\n",
       "      <td>NaN</td>\n",
       "      <td>2021-03-04</td>\n",
       "    </tr>\n",
       "    <tr>\n",
       "      <th>4</th>\n",
       "      <td>970658</td>\n",
       "      <td>478028.0</td>\n",
       "      <td>201797.0</td>\n",
       "      <td>PAYMENT</td>\n",
       "      <td>COMPLETED</td>\n",
       "      <td>올인원 패키지 : 직장인 필수 스킬 3종 세트 MAX</td>\n",
       "      <td>업무 생산성</td>\n",
       "      <td>올인원</td>\n",
       "      <td>2021-03-28 15:21:54</td>\n",
       "      <td>97500</td>\n",
       "      <td>[웰컴쿠폰] 올인원 패키지 2만원 할인 쿠폰</td>\n",
       "      <td>20000.0</td>\n",
       "      <td>117500.0</td>\n",
       "      <td>117500.0</td>\n",
       "      <td>NaN</td>\n",
       "      <td>CARD</td>\n",
       "      <td>PPT/보고서</td>\n",
       "      <td>2019-11-14</td>\n",
       "    </tr>\n",
       "  </tbody>\n",
       "</table>\n",
       "</div>"
      ],
      "text/plain": [
       "       id  customer_id  course_id     type      state  \\\n",
       "0  970634     504760.0   201435.0    ORDER  CANCELLED   \n",
       "1  970650     432862.0   203178.0    ORDER  CANCELLED   \n",
       "2  970657      72297.0   204246.0  PAYMENT  COMPLETED   \n",
       "3  970656      72297.0   204246.0    ORDER  CANCELLED   \n",
       "4  970658     478028.0   201797.0  PAYMENT  COMPLETED   \n",
       "\n",
       "                    course_title category_title  format        completed_at  \\\n",
       "0      올인원 패키지 : 알고리즘 기술면접 완전 정복          프로그래밍     올인원 2021-03-28 15:00:11   \n",
       "1    초격차 패키지 : 한번에 끝내는 영상 촬영과 편집          영상/3D     올인원 2021-03-28 15:16:53   \n",
       "2           시크릿코드 : 프론트엔드 실무 완성편          프로그래밍  스쿨 온라인 2021-03-28 15:21:43   \n",
       "3           시크릿코드 : 프론트엔드 실무 완성편          프로그래밍  스쿨 온라인 2021-03-28 15:21:43   \n",
       "4  올인원 패키지 : 직장인 필수 스킬 3종 세트 MAX         업무 생산성     올인원 2021-03-28 15:21:54   \n",
       "\n",
       "   transaction_amount              coupon_title  coupon_discount_amount  \\\n",
       "0               90500                       NaN                     NaN   \n",
       "1               96000                       NaN                     NaN   \n",
       "2              171810     [10% 할인] 시크릿코드 실무 완성편                 19090.0   \n",
       "3              171810                       NaN                     NaN   \n",
       "4               97500  [웰컴쿠폰] 올인원 패키지 2만원 할인 쿠폰                 20000.0   \n",
       "\n",
       "   sale_price  tax_free_amount   pg method subcategory_title  \\\n",
       "0    110500.0         110500.0  NaN  VBANK           개발자 커리어   \n",
       "1    116000.0         116000.0  NaN   CARD             영상 편집   \n",
       "2    190900.0         190900.0  NaN   CARD               NaN   \n",
       "3    190900.0         190900.0  NaN   CARD               NaN   \n",
       "4    117500.0         117500.0  NaN   CARD           PPT/보고서   \n",
       "\n",
       "  marketing_start_at  \n",
       "0                NaT  \n",
       "1         2020-12-02  \n",
       "2         2021-03-04  \n",
       "3         2021-03-04  \n",
       "4         2019-11-14  "
      ]
     },
     "execution_count": 26,
     "metadata": {},
     "output_type": "execute_result"
    }
   ],
   "source": [
    "df.head()\n",
    "# id : 각 거래내역에 대한 ID\n",
    "# customer_id : 고객 ID\n",
    "# course_id : 강의 고유값\n",
    "# type : 결제 유무 - order / payment / \n",
    "# state : 결제 상태\n",
    "# course_title : 강의 제목\n",
    "# category_title : 강의 분류\n",
    "# format : 올인원/스쿨온라인 _ 난이도 설정?\n",
    "# completed_at : 처리 날짜\n",
    "# transaction_amount : 결제 금액\n",
    "# coupon_title : 쿠폰 이름\n",
    "# coupon_discount_amount : 할인 비율\n",
    "# sale_price : 할인 금액\n",
    "# tax_free_amount : 면세\n",
    "\n",
    "# pg : PG(Payment Gateway)라고 해서 실제로 온라인 거래할 때 사용하는 금융거래 대행사를 의미합니다. \n",
    "#(e.g. 카카오페이, 토스페이먼트, U+ pay 등..) 비어있는 것은 default PG사를 의미합니다. \n",
    "#(LG U+ 같은 언급이 안되어있는 다른 회사중에 하나)\n",
    "\n",
    "# method : 결제 방식 VBANK : 가상계좌?\n",
    "# subcategory_title : 서브 분류\n",
    "# marketing_start_at : 마케팅 시작 날짜 (강의를 판매한 시점)"
   ]
  },
  {
   "cell_type": "code",
   "execution_count": 84,
   "id": "3969da76",
   "metadata": {},
   "outputs": [
    {
     "data": {
      "text/html": [
       "<div>\n",
       "<style scoped>\n",
       "    .dataframe tbody tr th:only-of-type {\n",
       "        vertical-align: middle;\n",
       "    }\n",
       "\n",
       "    .dataframe tbody tr th {\n",
       "        vertical-align: top;\n",
       "    }\n",
       "\n",
       "    .dataframe thead th {\n",
       "        text-align: right;\n",
       "    }\n",
       "</style>\n",
       "<table border=\"1\" class=\"dataframe\">\n",
       "  <thead>\n",
       "    <tr style=\"text-align: right;\">\n",
       "      <th></th>\n",
       "      <th>id</th>\n",
       "      <th>customer_id</th>\n",
       "      <th>course_id</th>\n",
       "      <th>transaction_amount</th>\n",
       "      <th>coupon_discount_amount</th>\n",
       "      <th>sale_price</th>\n",
       "      <th>tax_free_amount</th>\n",
       "    </tr>\n",
       "  </thead>\n",
       "  <tbody>\n",
       "    <tr>\n",
       "      <th>count</th>\n",
       "      <td>1.054190e+05</td>\n",
       "      <td>105416.000000</td>\n",
       "      <td>100212.000000</td>\n",
       "      <td>1.054190e+05</td>\n",
       "      <td>3.181700e+04</td>\n",
       "      <td>1.042910e+05</td>\n",
       "      <td>1.042910e+05</td>\n",
       "    </tr>\n",
       "    <tr>\n",
       "      <th>mean</th>\n",
       "      <td>1.147054e+06</td>\n",
       "      <td>417248.252742</td>\n",
       "      <td>203868.586327</td>\n",
       "      <td>1.464814e+05</td>\n",
       "      <td>4.972172e+04</td>\n",
       "      <td>1.610808e+05</td>\n",
       "      <td>1.575551e+05</td>\n",
       "    </tr>\n",
       "    <tr>\n",
       "      <th>std</th>\n",
       "      <td>1.125898e+05</td>\n",
       "      <td>206414.496648</td>\n",
       "      <td>1534.583331</td>\n",
       "      <td>7.195061e+05</td>\n",
       "      <td>5.624467e+04</td>\n",
       "      <td>3.955298e+05</td>\n",
       "      <td>3.898133e+05</td>\n",
       "    </tr>\n",
       "    <tr>\n",
       "      <th>min</th>\n",
       "      <td>5.679930e+05</td>\n",
       "      <td>16.000000</td>\n",
       "      <td>2516.000000</td>\n",
       "      <td>-4.144074e+06</td>\n",
       "      <td>0.000000e+00</td>\n",
       "      <td>1.000000e+00</td>\n",
       "      <td>0.000000e+00</td>\n",
       "    </tr>\n",
       "    <tr>\n",
       "      <th>25%</th>\n",
       "      <td>1.048940e+06</td>\n",
       "      <td>256401.000000</td>\n",
       "      <td>203100.000000</td>\n",
       "      <td>8.350000e+04</td>\n",
       "      <td>2.000000e+04</td>\n",
       "      <td>1.090000e+05</td>\n",
       "      <td>1.090000e+05</td>\n",
       "    </tr>\n",
       "    <tr>\n",
       "      <th>50%</th>\n",
       "      <td>1.135186e+06</td>\n",
       "      <td>501046.000000</td>\n",
       "      <td>203787.000000</td>\n",
       "      <td>1.175000e+05</td>\n",
       "      <td>2.100000e+04</td>\n",
       "      <td>1.320000e+05</td>\n",
       "      <td>1.320000e+05</td>\n",
       "    </tr>\n",
       "    <tr>\n",
       "      <th>75%</th>\n",
       "      <td>1.240472e+06</td>\n",
       "      <td>566595.000000</td>\n",
       "      <td>204775.000000</td>\n",
       "      <td>1.590000e+05</td>\n",
       "      <td>6.915000e+04</td>\n",
       "      <td>1.710000e+05</td>\n",
       "      <td>1.710000e+05</td>\n",
       "    </tr>\n",
       "    <tr>\n",
       "      <th>max</th>\n",
       "      <td>1.381657e+06</td>\n",
       "      <td>672308.000000</td>\n",
       "      <td>207742.000000</td>\n",
       "      <td>1.134000e+08</td>\n",
       "      <td>2.000000e+06</td>\n",
       "      <td>9.094000e+07</td>\n",
       "      <td>9.094000e+07</td>\n",
       "    </tr>\n",
       "  </tbody>\n",
       "</table>\n",
       "</div>"
      ],
      "text/plain": [
       "                 id    customer_id      course_id  transaction_amount  \\\n",
       "count  1.054190e+05  105416.000000  100212.000000        1.054190e+05   \n",
       "mean   1.147054e+06  417248.252742  203868.586327        1.464814e+05   \n",
       "std    1.125898e+05  206414.496648    1534.583331        7.195061e+05   \n",
       "min    5.679930e+05      16.000000    2516.000000       -4.144074e+06   \n",
       "25%    1.048940e+06  256401.000000  203100.000000        8.350000e+04   \n",
       "50%    1.135186e+06  501046.000000  203787.000000        1.175000e+05   \n",
       "75%    1.240472e+06  566595.000000  204775.000000        1.590000e+05   \n",
       "max    1.381657e+06  672308.000000  207742.000000        1.134000e+08   \n",
       "\n",
       "       coupon_discount_amount    sale_price  tax_free_amount  \n",
       "count            3.181700e+04  1.042910e+05     1.042910e+05  \n",
       "mean             4.972172e+04  1.610808e+05     1.575551e+05  \n",
       "std              5.624467e+04  3.955298e+05     3.898133e+05  \n",
       "min              0.000000e+00  1.000000e+00     0.000000e+00  \n",
       "25%              2.000000e+04  1.090000e+05     1.090000e+05  \n",
       "50%              2.100000e+04  1.320000e+05     1.320000e+05  \n",
       "75%              6.915000e+04  1.710000e+05     1.710000e+05  \n",
       "max              2.000000e+06  9.094000e+07     9.094000e+07  "
      ]
     },
     "execution_count": 84,
     "metadata": {},
     "output_type": "execute_result"
    }
   ],
   "source": [
    "df.describe()"
   ]
  },
  {
   "cell_type": "code",
   "execution_count": 85,
   "id": "5c742a3d",
   "metadata": {},
   "outputs": [
    {
     "data": {
      "text/html": [
       "<div>\n",
       "<style scoped>\n",
       "    .dataframe tbody tr th:only-of-type {\n",
       "        vertical-align: middle;\n",
       "    }\n",
       "\n",
       "    .dataframe tbody tr th {\n",
       "        vertical-align: top;\n",
       "    }\n",
       "\n",
       "    .dataframe thead th {\n",
       "        text-align: right;\n",
       "    }\n",
       "</style>\n",
       "<table border=\"1\" class=\"dataframe\">\n",
       "  <thead>\n",
       "    <tr style=\"text-align: right;\">\n",
       "      <th></th>\n",
       "      <th>id</th>\n",
       "      <th>customer_id</th>\n",
       "      <th>course_id</th>\n",
       "      <th>type</th>\n",
       "      <th>state</th>\n",
       "      <th>course_title</th>\n",
       "      <th>category_title</th>\n",
       "      <th>format</th>\n",
       "      <th>completed_at</th>\n",
       "      <th>transaction_amount</th>\n",
       "      <th>coupon_title</th>\n",
       "      <th>coupon_discount_amount</th>\n",
       "      <th>sale_price</th>\n",
       "      <th>tax_free_amount</th>\n",
       "      <th>pg</th>\n",
       "      <th>method</th>\n",
       "      <th>subcategory_title</th>\n",
       "      <th>marketing_start_at</th>\n",
       "    </tr>\n",
       "  </thead>\n",
       "  <tbody>\n",
       "    <tr>\n",
       "      <th>0</th>\n",
       "      <td>970634</td>\n",
       "      <td>504760.0</td>\n",
       "      <td>201435.0</td>\n",
       "      <td>ORDER</td>\n",
       "      <td>CANCELLED</td>\n",
       "      <td>올인원 패키지 : 알고리즘 기술면접 완전 정복</td>\n",
       "      <td>프로그래밍</td>\n",
       "      <td>올인원</td>\n",
       "      <td>2021-03-28 15:00:11</td>\n",
       "      <td>90500</td>\n",
       "      <td>NaN</td>\n",
       "      <td>NaN</td>\n",
       "      <td>110500.0</td>\n",
       "      <td>110500.0</td>\n",
       "      <td>NaN</td>\n",
       "      <td>VBANK</td>\n",
       "      <td>개발자 커리어</td>\n",
       "      <td>NaT</td>\n",
       "    </tr>\n",
       "    <tr>\n",
       "      <th>1</th>\n",
       "      <td>970650</td>\n",
       "      <td>432862.0</td>\n",
       "      <td>203178.0</td>\n",
       "      <td>ORDER</td>\n",
       "      <td>CANCELLED</td>\n",
       "      <td>초격차 패키지 : 한번에 끝내는 영상 촬영과 편집</td>\n",
       "      <td>영상/3D</td>\n",
       "      <td>올인원</td>\n",
       "      <td>2021-03-28 15:16:53</td>\n",
       "      <td>96000</td>\n",
       "      <td>NaN</td>\n",
       "      <td>NaN</td>\n",
       "      <td>116000.0</td>\n",
       "      <td>116000.0</td>\n",
       "      <td>NaN</td>\n",
       "      <td>CARD</td>\n",
       "      <td>영상 편집</td>\n",
       "      <td>2020-12-02</td>\n",
       "    </tr>\n",
       "    <tr>\n",
       "      <th>2</th>\n",
       "      <td>970657</td>\n",
       "      <td>72297.0</td>\n",
       "      <td>204246.0</td>\n",
       "      <td>PAYMENT</td>\n",
       "      <td>COMPLETED</td>\n",
       "      <td>시크릿코드 : 프론트엔드 실무 완성편</td>\n",
       "      <td>프로그래밍</td>\n",
       "      <td>스쿨 온라인</td>\n",
       "      <td>2021-03-28 15:21:43</td>\n",
       "      <td>171810</td>\n",
       "      <td>[10% 할인] 시크릿코드 실무 완성편</td>\n",
       "      <td>19090.0</td>\n",
       "      <td>190900.0</td>\n",
       "      <td>190900.0</td>\n",
       "      <td>NaN</td>\n",
       "      <td>CARD</td>\n",
       "      <td>NaN</td>\n",
       "      <td>2021-03-04</td>\n",
       "    </tr>\n",
       "  </tbody>\n",
       "</table>\n",
       "</div>"
      ],
      "text/plain": [
       "       id  customer_id  course_id     type      state  \\\n",
       "0  970634     504760.0   201435.0    ORDER  CANCELLED   \n",
       "1  970650     432862.0   203178.0    ORDER  CANCELLED   \n",
       "2  970657      72297.0   204246.0  PAYMENT  COMPLETED   \n",
       "\n",
       "                  course_title category_title  format        completed_at  \\\n",
       "0    올인원 패키지 : 알고리즘 기술면접 완전 정복          프로그래밍     올인원 2021-03-28 15:00:11   \n",
       "1  초격차 패키지 : 한번에 끝내는 영상 촬영과 편집          영상/3D     올인원 2021-03-28 15:16:53   \n",
       "2         시크릿코드 : 프론트엔드 실무 완성편          프로그래밍  스쿨 온라인 2021-03-28 15:21:43   \n",
       "\n",
       "   transaction_amount           coupon_title  coupon_discount_amount  \\\n",
       "0               90500                    NaN                     NaN   \n",
       "1               96000                    NaN                     NaN   \n",
       "2              171810  [10% 할인] 시크릿코드 실무 완성편                 19090.0   \n",
       "\n",
       "   sale_price  tax_free_amount   pg method subcategory_title  \\\n",
       "0    110500.0         110500.0  NaN  VBANK           개발자 커리어   \n",
       "1    116000.0         116000.0  NaN   CARD             영상 편집   \n",
       "2    190900.0         190900.0  NaN   CARD               NaN   \n",
       "\n",
       "  marketing_start_at  \n",
       "0                NaT  \n",
       "1         2020-12-02  \n",
       "2         2021-03-04  "
      ]
     },
     "execution_count": 85,
     "metadata": {},
     "output_type": "execute_result"
    }
   ],
   "source": [
    "df.head(3)"
   ]
  },
  {
   "cell_type": "code",
   "execution_count": 86,
   "id": "179a9975",
   "metadata": {},
   "outputs": [
    {
     "name": "stdout",
     "output_type": "stream",
     "text": [
      "<class 'pandas.core.frame.DataFrame'>\n",
      "RangeIndex: 105419 entries, 0 to 105418\n",
      "Data columns (total 18 columns):\n",
      " #   Column                  Non-Null Count   Dtype         \n",
      "---  ------                  --------------   -----         \n",
      " 0   id                      105419 non-null  int64         \n",
      " 1   customer_id             105416 non-null  float64       \n",
      " 2   course_id               100212 non-null  float64       \n",
      " 3   type                    105419 non-null  object        \n",
      " 4   state                   105419 non-null  object        \n",
      " 5   course_title            105403 non-null  object        \n",
      " 6   category_title          105395 non-null  object        \n",
      " 7   format                  105403 non-null  object        \n",
      " 8   completed_at            105419 non-null  datetime64[ns]\n",
      " 9   transaction_amount      105419 non-null  int64         \n",
      " 10  coupon_title            31817 non-null   object        \n",
      " 11  coupon_discount_amount  31817 non-null   float64       \n",
      " 12  sale_price              104291 non-null  float64       \n",
      " 13  tax_free_amount         104291 non-null  float64       \n",
      " 14  pg                      90344 non-null   object        \n",
      " 15  method                  92323 non-null   object        \n",
      " 16  subcategory_title       85590 non-null   object        \n",
      " 17  marketing_start_at      87440 non-null   datetime64[ns]\n",
      "dtypes: datetime64[ns](2), float64(5), int64(2), object(9)\n",
      "memory usage: 14.5+ MB\n"
     ]
    },
    {
     "data": {
      "text/plain": [
       "id                            0\n",
       "customer_id                   3\n",
       "course_id                  5207\n",
       "type                          0\n",
       "state                         0\n",
       "course_title                 16\n",
       "category_title               24\n",
       "format                       16\n",
       "completed_at                  0\n",
       "transaction_amount            0\n",
       "coupon_title              73602\n",
       "coupon_discount_amount    73602\n",
       "sale_price                 1128\n",
       "tax_free_amount            1128\n",
       "pg                        15075\n",
       "method                    13096\n",
       "subcategory_title         19829\n",
       "marketing_start_at        17979\n",
       "dtype: int64"
      ]
     },
     "execution_count": 86,
     "metadata": {},
     "output_type": "execute_result"
    }
   ],
   "source": [
    "df.info()\n",
    "df.isna().sum()\n"
   ]
  },
  {
   "cell_type": "code",
   "execution_count": 87,
   "id": "f83b62c9",
   "metadata": {},
   "outputs": [
    {
     "data": {
      "text/plain": [
       "id                         0.000000\n",
       "customer_id                0.002846\n",
       "course_id                  4.939337\n",
       "type                       0.000000\n",
       "state                      0.000000\n",
       "course_title               0.015178\n",
       "category_title             0.022766\n",
       "format                     0.015178\n",
       "completed_at               0.000000\n",
       "transaction_amount         0.000000\n",
       "coupon_title              69.818534\n",
       "coupon_discount_amount    69.818534\n",
       "sale_price                 1.070016\n",
       "tax_free_amount            1.070016\n",
       "pg                        14.300079\n",
       "method                    12.422808\n",
       "subcategory_title         18.809702\n",
       "marketing_start_at        17.054800\n",
       "dtype: float64"
      ]
     },
     "execution_count": 87,
     "metadata": {},
     "output_type": "execute_result"
    }
   ],
   "source": [
    "df.isna().sum()/len(df)*100"
   ]
  },
  {
   "cell_type": "code",
   "execution_count": 30,
   "id": "3addb581",
   "metadata": {},
   "outputs": [
    {
     "data": {
      "text/plain": [
       "id                            0\n",
       "customer_id                   3\n",
       "course_id                  5207\n",
       "type                          0\n",
       "state                         0\n",
       "course_title                 16\n",
       "category_title               24\n",
       "format                       16\n",
       "completed_at                  0\n",
       "transaction_amount            0\n",
       "coupon_title              73602\n",
       "coupon_discount_amount    73602\n",
       "sale_price                 1128\n",
       "tax_free_amount            1128\n",
       "pg                        15075\n",
       "method                    13096\n",
       "subcategory_title         19829\n",
       "marketing_start_at        17979\n",
       "dtype: int64"
      ]
     },
     "execution_count": 30,
     "metadata": {},
     "output_type": "execute_result"
    }
   ],
   "source": [
    "df.isnull().sum()"
   ]
  },
  {
   "cell_type": "code",
   "execution_count": 31,
   "id": "7140f939",
   "metadata": {},
   "outputs": [
    {
     "data": {
      "text/html": [
       "<div>\n",
       "<style scoped>\n",
       "    .dataframe tbody tr th:only-of-type {\n",
       "        vertical-align: middle;\n",
       "    }\n",
       "\n",
       "    .dataframe tbody tr th {\n",
       "        vertical-align: top;\n",
       "    }\n",
       "\n",
       "    .dataframe thead th {\n",
       "        text-align: right;\n",
       "    }\n",
       "</style>\n",
       "<table border=\"1\" class=\"dataframe\">\n",
       "  <thead>\n",
       "    <tr style=\"text-align: right;\">\n",
       "      <th></th>\n",
       "      <th>id</th>\n",
       "      <th>customer_id</th>\n",
       "      <th>course_id</th>\n",
       "      <th>transaction_amount</th>\n",
       "      <th>coupon_discount_amount</th>\n",
       "      <th>sale_price</th>\n",
       "      <th>tax_free_amount</th>\n",
       "    </tr>\n",
       "  </thead>\n",
       "  <tbody>\n",
       "    <tr>\n",
       "      <th>id</th>\n",
       "      <td>1.000000</td>\n",
       "      <td>0.201490</td>\n",
       "      <td>0.360501</td>\n",
       "      <td>0.026398</td>\n",
       "      <td>0.069284</td>\n",
       "      <td>0.044891</td>\n",
       "      <td>0.036309</td>\n",
       "    </tr>\n",
       "    <tr>\n",
       "      <th>customer_id</th>\n",
       "      <td>0.201490</td>\n",
       "      <td>1.000000</td>\n",
       "      <td>0.023889</td>\n",
       "      <td>0.018670</td>\n",
       "      <td>-0.344772</td>\n",
       "      <td>-0.001245</td>\n",
       "      <td>-0.002124</td>\n",
       "    </tr>\n",
       "    <tr>\n",
       "      <th>course_id</th>\n",
       "      <td>0.360501</td>\n",
       "      <td>0.023889</td>\n",
       "      <td>1.000000</td>\n",
       "      <td>0.045096</td>\n",
       "      <td>0.015162</td>\n",
       "      <td>0.042551</td>\n",
       "      <td>0.042170</td>\n",
       "    </tr>\n",
       "    <tr>\n",
       "      <th>transaction_amount</th>\n",
       "      <td>0.026398</td>\n",
       "      <td>0.018670</td>\n",
       "      <td>0.045096</td>\n",
       "      <td>1.000000</td>\n",
       "      <td>-0.342960</td>\n",
       "      <td>0.954943</td>\n",
       "      <td>0.947017</td>\n",
       "    </tr>\n",
       "    <tr>\n",
       "      <th>coupon_discount_amount</th>\n",
       "      <td>0.069284</td>\n",
       "      <td>-0.344772</td>\n",
       "      <td>0.015162</td>\n",
       "      <td>-0.342960</td>\n",
       "      <td>1.000000</td>\n",
       "      <td>0.251692</td>\n",
       "      <td>0.244997</td>\n",
       "    </tr>\n",
       "    <tr>\n",
       "      <th>sale_price</th>\n",
       "      <td>0.044891</td>\n",
       "      <td>-0.001245</td>\n",
       "      <td>0.042551</td>\n",
       "      <td>0.954943</td>\n",
       "      <td>0.251692</td>\n",
       "      <td>1.000000</td>\n",
       "      <td>0.988255</td>\n",
       "    </tr>\n",
       "    <tr>\n",
       "      <th>tax_free_amount</th>\n",
       "      <td>0.036309</td>\n",
       "      <td>-0.002124</td>\n",
       "      <td>0.042170</td>\n",
       "      <td>0.947017</td>\n",
       "      <td>0.244997</td>\n",
       "      <td>0.988255</td>\n",
       "      <td>1.000000</td>\n",
       "    </tr>\n",
       "  </tbody>\n",
       "</table>\n",
       "</div>"
      ],
      "text/plain": [
       "                              id  customer_id  course_id  transaction_amount  \\\n",
       "id                      1.000000     0.201490   0.360501            0.026398   \n",
       "customer_id             0.201490     1.000000   0.023889            0.018670   \n",
       "course_id               0.360501     0.023889   1.000000            0.045096   \n",
       "transaction_amount      0.026398     0.018670   0.045096            1.000000   \n",
       "coupon_discount_amount  0.069284    -0.344772   0.015162           -0.342960   \n",
       "sale_price              0.044891    -0.001245   0.042551            0.954943   \n",
       "tax_free_amount         0.036309    -0.002124   0.042170            0.947017   \n",
       "\n",
       "                        coupon_discount_amount  sale_price  tax_free_amount  \n",
       "id                                    0.069284    0.044891         0.036309  \n",
       "customer_id                          -0.344772   -0.001245        -0.002124  \n",
       "course_id                             0.015162    0.042551         0.042170  \n",
       "transaction_amount                   -0.342960    0.954943         0.947017  \n",
       "coupon_discount_amount                1.000000    0.251692         0.244997  \n",
       "sale_price                            0.251692    1.000000         0.988255  \n",
       "tax_free_amount                       0.244997    0.988255         1.000000  "
      ]
     },
     "execution_count": 31,
     "metadata": {},
     "output_type": "execute_result"
    }
   ],
   "source": [
    "df.corr()"
   ]
  },
  {
   "cell_type": "code",
   "execution_count": 35,
   "id": "35b29bf5",
   "metadata": {},
   "outputs": [
    {
     "data": {
      "text/plain": [
       "Index(['id', 'customer_id', 'course_id', 'type', 'state', 'course_title',\n",
       "       'category_title', 'format', 'completed_at', 'transaction_amount',\n",
       "       'coupon_title', 'coupon_discount_amount', 'sale_price',\n",
       "       'tax_free_amount', 'pg', 'method', 'subcategory_title',\n",
       "       'marketing_start_at'],\n",
       "      dtype='object')"
      ]
     },
     "execution_count": 35,
     "metadata": {},
     "output_type": "execute_result"
    }
   ],
   "source": [
    "df.columns\n",
    "\n",
    "# id : 각 거래내역에 대한 ID\n",
    "# customer_id : 고객 ID\n",
    "# course_id : 강의 고유값\n",
    "# type : 결제 유무 - order / payment / \n",
    "# state : 결제 상태\n",
    "# course_title : 강의 제목\n",
    "# category_title : 강의 분류\n",
    "# format : 올인원/스쿨온라인 _ 난이도 설정?\n",
    "# completed_at : 처리 날짜\n",
    "# transaction_amount : 결제 금액\n",
    "# coupon_title : 쿠폰 이름\n",
    "# coupon_discount_amount : 할인 비율\n",
    "# sale_price : 할인 금액\n",
    "# tax_free_amount : 면세\n",
    "\n",
    "# pg : PG(Payment Gateway)라고 해서 실제로 온라인 거래할 때 사용하는 금융거래 대행사를 의미합니다. \n",
    "#(e.g. 카카오페이, 토스페이먼트, U+ pay 등..) 비어있는 것은 default PG사를 의미합니다. - TOSS payment?\n",
    "#(LG U+ 같은 언급이 안되어있는 다른 회사중에 하나)\n",
    "\n",
    "# method : 결제 방식 VBANK : 가상계좌?\n",
    "# subcategory_title : 서브 분류\n",
    "# marketing_start_at : 마케팅 시작 날짜 (강의를 판매한 시점)"
   ]
  },
  {
   "cell_type": "code",
   "execution_count": 88,
   "id": "1b156b03",
   "metadata": {},
   "outputs": [
    {
     "data": {
      "text/plain": [
       "array(['VBANK', 'CARD', 'TRANS', 'PROMOTION', 'TRANSFER', 'ONSITE',\n",
       "       'B2B_CONTRACT', nan, 'POINT', 'VOUCHER'], dtype=object)"
      ]
     },
     "execution_count": 88,
     "metadata": {},
     "output_type": "execute_result"
    }
   ],
   "source": [
    "df['method'].unique()"
   ]
  },
  {
   "cell_type": "code",
   "execution_count": 38,
   "id": "65194b67",
   "metadata": {},
   "outputs": [
    {
     "data": {
      "text/plain": [
       "9"
      ]
     },
     "execution_count": 38,
     "metadata": {},
     "output_type": "execute_result"
    }
   ],
   "source": [
    "df['method'].nunique()"
   ]
  },
  {
   "cell_type": "code",
   "execution_count": 59,
   "id": "03bf3e17",
   "metadata": {},
   "outputs": [
    {
     "data": {
      "text/plain": [
       "array([], dtype=object)"
      ]
     },
     "execution_count": 59,
     "metadata": {},
     "output_type": "execute_result"
    }
   ],
   "source": [
    "df[df['method'].isna()]['pg'].unique()"
   ]
  },
  {
   "cell_type": "code",
   "execution_count": 58,
   "id": "a6186f56",
   "metadata": {},
   "outputs": [],
   "source": [
    "df['method']"
   ]
  },
  {
   "cell_type": "code",
   "execution_count": 67,
   "id": "55b93e13",
   "metadata": {},
   "outputs": [
    {
     "data": {
      "text/plain": [
       "array([nan, 'INICISTRANS', 'INICISCARD', 'INICISVBANK', 'KAKAOCARD',\n",
       "       'CHAITRANS', 'KAKAOPOINT', 'PAYCOCARD', 'PAYCOPOINT', 'PAYCOVBANK',\n",
       "       'NAVERCARD', 'NAVERTRANS', 'NAVERPOINT', 'PAYCOTRANSFER'],\n",
       "      dtype=object)"
      ]
     },
     "execution_count": 67,
     "metadata": {},
     "output_type": "execute_result"
    }
   ],
   "source": [
    "(df['pg'] + df['method']).unique() #결제 방식 확인 "
   ]
  },
  {
   "cell_type": "code",
   "execution_count": 68,
   "id": "803ab50f",
   "metadata": {},
   "outputs": [
    {
     "data": {
      "text/plain": [
       "0             pg\n",
       "1             pg\n",
       "2             pg\n",
       "3             pg\n",
       "4             pg\n",
       "           ...  \n",
       "105414    INICIS\n",
       "105415    INICIS\n",
       "105416    INICIS\n",
       "105417    INICIS\n",
       "105418     NAVER\n",
       "Name: pg, Length: 105419, dtype: object"
      ]
     },
     "execution_count": 68,
     "metadata": {},
     "output_type": "execute_result"
    }
   ],
   "source": [
    "df['pg'].fillna('pg') #PG의 nan을 pg로 변경, 빈값을 default PG사로 채우기"
   ]
  },
  {
   "cell_type": "code",
   "execution_count": 107,
   "id": "0559c3e5",
   "metadata": {},
   "outputs": [
    {
     "data": {
      "text/plain": [
       "array(['PG', 'INICIS', 'KAKAO', 'CHAI', 'PAYCO', 'NAVER'], dtype=object)"
      ]
     },
     "execution_count": 107,
     "metadata": {},
     "output_type": "execute_result"
    }
   ],
   "source": [
    "payment_data = df #결제 방식 확인 \n",
    "payment_data['pg'] = df['pg'].fillna('PG')\n",
    "payment_data['pg'].unique() #nan이 pg로 바꼈는지 확인"
   ]
  },
  {
   "cell_type": "code",
   "execution_count": 73,
   "id": "fa4e092d",
   "metadata": {},
   "outputs": [
    {
     "data": {
      "text/plain": [
       "array(['PG:VBANK', 'PG:CARD', 'PG:TRANS', 'PG:PROMOTION', 'PG:TRANSFER',\n",
       "       'PG:ONSITE', 'INICIS:TRANS', 'INICIS:CARD', 'INICIS:VBANK',\n",
       "       'PG:B2B_CONTRACT', nan, 'KAKAO:CARD', 'CHAI:TRANS', 'KAKAO:POINT',\n",
       "       'PAYCO:CARD', 'PAYCO:POINT', 'PAYCO:VBANK', 'NAVER:CARD',\n",
       "       'NAVER:TRANS', 'PG:VOUCHER', 'NAVER:POINT', 'PAYCO:TRANSFER'],\n",
       "      dtype=object)"
      ]
     },
     "execution_count": 73,
     "metadata": {},
     "output_type": "execute_result"
    }
   ],
   "source": [
    "(payment_data['pg'] + ':' + payment_data['method']).unique() #nan은 합쳐도 인식이 안되는 듯"
   ]
  },
  {
   "cell_type": "code",
   "execution_count": 89,
   "id": "cb370131",
   "metadata": {},
   "outputs": [
    {
     "data": {
      "text/plain": [
       "array(['KAKAO', 'CHAI', 'PAYCO', 'NAVER'], dtype=object)"
      ]
     },
     "execution_count": 89,
     "metadata": {},
     "output_type": "execute_result"
    }
   ],
   "source": [
    "df[df['method'].isna()]['pg'].unique()"
   ]
  },
  {
   "cell_type": "code",
   "execution_count": 108,
   "id": "cf4a6ca3",
   "metadata": {},
   "outputs": [
    {
     "data": {
      "text/plain": [
       "array(['VBANK', 'CARD', 'TRANS', 'PROMOTION', 'TRANSFER', 'ONSITE',\n",
       "       'B2B_CONTRACT', '', 'POINT', 'VOUCHER'], dtype=object)"
      ]
     },
     "execution_count": 108,
     "metadata": {},
     "output_type": "execute_result"
    }
   ],
   "source": [
    "payment_data['method'] = df['method'].fillna('')\n",
    "payment_data['method'].unique() #method의 nan를 ''로 변환"
   ]
  },
  {
   "cell_type": "code",
   "execution_count": 109,
   "id": "527fd0e6",
   "metadata": {},
   "outputs": [
    {
     "data": {
      "text/plain": [
       "array(['PG VBANK', 'PG CARD', 'PG TRANS', 'PG PROMOTION', 'PG TRANSFER',\n",
       "       'PG ONSITE', 'INICIS TRANS', 'INICIS CARD', 'INICIS VBANK',\n",
       "       'PG B2B_CONTRACT', 'KAKAO ', 'CHAI ', 'PAYCO ', 'NAVER ',\n",
       "       'KAKAO CARD', 'CHAI TRANS', 'KAKAO POINT', 'PAYCO CARD',\n",
       "       'PAYCO POINT', 'PAYCO VBANK', 'NAVER CARD', 'NAVER TRANS',\n",
       "       'PG VOUCHER', 'NAVER POINT', 'PAYCO TRANSFER'], dtype=object)"
      ]
     },
     "execution_count": 109,
     "metadata": {},
     "output_type": "execute_result"
    }
   ],
   "source": [
    "payment_data['payment_data'] = df['pg']+' '+payment_data['method']\n",
    "payment_data['payment_data'].unique() #새로운 column payment_data 생성"
   ]
  },
  {
   "cell_type": "code",
   "execution_count": 110,
   "id": "20358d72",
   "metadata": {},
   "outputs": [
    {
     "data": {
      "text/html": [
       "<div>\n",
       "<style scoped>\n",
       "    .dataframe tbody tr th:only-of-type {\n",
       "        vertical-align: middle;\n",
       "    }\n",
       "\n",
       "    .dataframe tbody tr th {\n",
       "        vertical-align: top;\n",
       "    }\n",
       "\n",
       "    .dataframe thead th {\n",
       "        text-align: right;\n",
       "    }\n",
       "</style>\n",
       "<table border=\"1\" class=\"dataframe\">\n",
       "  <thead>\n",
       "    <tr style=\"text-align: right;\">\n",
       "      <th></th>\n",
       "      <th>id</th>\n",
       "      <th>customer_id</th>\n",
       "      <th>course_id</th>\n",
       "      <th>type</th>\n",
       "      <th>state</th>\n",
       "      <th>course_title</th>\n",
       "      <th>category_title</th>\n",
       "      <th>format</th>\n",
       "      <th>completed_at</th>\n",
       "      <th>transaction_amount</th>\n",
       "      <th>coupon_title</th>\n",
       "      <th>coupon_discount_amount</th>\n",
       "      <th>sale_price</th>\n",
       "      <th>tax_free_amount</th>\n",
       "      <th>subcategory_title</th>\n",
       "      <th>marketing_start_at</th>\n",
       "      <th>payment_data</th>\n",
       "    </tr>\n",
       "  </thead>\n",
       "  <tbody>\n",
       "    <tr>\n",
       "      <th>0</th>\n",
       "      <td>970634</td>\n",
       "      <td>504760.0</td>\n",
       "      <td>201435.0</td>\n",
       "      <td>ORDER</td>\n",
       "      <td>CANCELLED</td>\n",
       "      <td>올인원 패키지 : 알고리즘 기술면접 완전 정복</td>\n",
       "      <td>프로그래밍</td>\n",
       "      <td>올인원</td>\n",
       "      <td>2021-03-28 15:00:11</td>\n",
       "      <td>90500</td>\n",
       "      <td>NaN</td>\n",
       "      <td>NaN</td>\n",
       "      <td>110500.0</td>\n",
       "      <td>110500.0</td>\n",
       "      <td>개발자 커리어</td>\n",
       "      <td>NaT</td>\n",
       "      <td>PG VBANK</td>\n",
       "    </tr>\n",
       "    <tr>\n",
       "      <th>1</th>\n",
       "      <td>970650</td>\n",
       "      <td>432862.0</td>\n",
       "      <td>203178.0</td>\n",
       "      <td>ORDER</td>\n",
       "      <td>CANCELLED</td>\n",
       "      <td>초격차 패키지 : 한번에 끝내는 영상 촬영과 편집</td>\n",
       "      <td>영상/3D</td>\n",
       "      <td>올인원</td>\n",
       "      <td>2021-03-28 15:16:53</td>\n",
       "      <td>96000</td>\n",
       "      <td>NaN</td>\n",
       "      <td>NaN</td>\n",
       "      <td>116000.0</td>\n",
       "      <td>116000.0</td>\n",
       "      <td>영상 편집</td>\n",
       "      <td>2020-12-02</td>\n",
       "      <td>PG CARD</td>\n",
       "    </tr>\n",
       "    <tr>\n",
       "      <th>2</th>\n",
       "      <td>970657</td>\n",
       "      <td>72297.0</td>\n",
       "      <td>204246.0</td>\n",
       "      <td>PAYMENT</td>\n",
       "      <td>COMPLETED</td>\n",
       "      <td>시크릿코드 : 프론트엔드 실무 완성편</td>\n",
       "      <td>프로그래밍</td>\n",
       "      <td>스쿨 온라인</td>\n",
       "      <td>2021-03-28 15:21:43</td>\n",
       "      <td>171810</td>\n",
       "      <td>[10% 할인] 시크릿코드 실무 완성편</td>\n",
       "      <td>19090.0</td>\n",
       "      <td>190900.0</td>\n",
       "      <td>190900.0</td>\n",
       "      <td>NaN</td>\n",
       "      <td>2021-03-04</td>\n",
       "      <td>PG CARD</td>\n",
       "    </tr>\n",
       "    <tr>\n",
       "      <th>3</th>\n",
       "      <td>970656</td>\n",
       "      <td>72297.0</td>\n",
       "      <td>204246.0</td>\n",
       "      <td>ORDER</td>\n",
       "      <td>CANCELLED</td>\n",
       "      <td>시크릿코드 : 프론트엔드 실무 완성편</td>\n",
       "      <td>프로그래밍</td>\n",
       "      <td>스쿨 온라인</td>\n",
       "      <td>2021-03-28 15:21:43</td>\n",
       "      <td>171810</td>\n",
       "      <td>NaN</td>\n",
       "      <td>NaN</td>\n",
       "      <td>190900.0</td>\n",
       "      <td>190900.0</td>\n",
       "      <td>NaN</td>\n",
       "      <td>2021-03-04</td>\n",
       "      <td>PG CARD</td>\n",
       "    </tr>\n",
       "    <tr>\n",
       "      <th>4</th>\n",
       "      <td>970658</td>\n",
       "      <td>478028.0</td>\n",
       "      <td>201797.0</td>\n",
       "      <td>PAYMENT</td>\n",
       "      <td>COMPLETED</td>\n",
       "      <td>올인원 패키지 : 직장인 필수 스킬 3종 세트 MAX</td>\n",
       "      <td>업무 생산성</td>\n",
       "      <td>올인원</td>\n",
       "      <td>2021-03-28 15:21:54</td>\n",
       "      <td>97500</td>\n",
       "      <td>[웰컴쿠폰] 올인원 패키지 2만원 할인 쿠폰</td>\n",
       "      <td>20000.0</td>\n",
       "      <td>117500.0</td>\n",
       "      <td>117500.0</td>\n",
       "      <td>PPT/보고서</td>\n",
       "      <td>2019-11-14</td>\n",
       "      <td>PG CARD</td>\n",
       "    </tr>\n",
       "  </tbody>\n",
       "</table>\n",
       "</div>"
      ],
      "text/plain": [
       "       id  customer_id  course_id     type      state  \\\n",
       "0  970634     504760.0   201435.0    ORDER  CANCELLED   \n",
       "1  970650     432862.0   203178.0    ORDER  CANCELLED   \n",
       "2  970657      72297.0   204246.0  PAYMENT  COMPLETED   \n",
       "3  970656      72297.0   204246.0    ORDER  CANCELLED   \n",
       "4  970658     478028.0   201797.0  PAYMENT  COMPLETED   \n",
       "\n",
       "                    course_title category_title  format        completed_at  \\\n",
       "0      올인원 패키지 : 알고리즘 기술면접 완전 정복          프로그래밍     올인원 2021-03-28 15:00:11   \n",
       "1    초격차 패키지 : 한번에 끝내는 영상 촬영과 편집          영상/3D     올인원 2021-03-28 15:16:53   \n",
       "2           시크릿코드 : 프론트엔드 실무 완성편          프로그래밍  스쿨 온라인 2021-03-28 15:21:43   \n",
       "3           시크릿코드 : 프론트엔드 실무 완성편          프로그래밍  스쿨 온라인 2021-03-28 15:21:43   \n",
       "4  올인원 패키지 : 직장인 필수 스킬 3종 세트 MAX         업무 생산성     올인원 2021-03-28 15:21:54   \n",
       "\n",
       "   transaction_amount              coupon_title  coupon_discount_amount  \\\n",
       "0               90500                       NaN                     NaN   \n",
       "1               96000                       NaN                     NaN   \n",
       "2              171810     [10% 할인] 시크릿코드 실무 완성편                 19090.0   \n",
       "3              171810                       NaN                     NaN   \n",
       "4               97500  [웰컴쿠폰] 올인원 패키지 2만원 할인 쿠폰                 20000.0   \n",
       "\n",
       "   sale_price  tax_free_amount subcategory_title marketing_start_at  \\\n",
       "0    110500.0         110500.0           개발자 커리어                NaT   \n",
       "1    116000.0         116000.0             영상 편집         2020-12-02   \n",
       "2    190900.0         190900.0               NaN         2021-03-04   \n",
       "3    190900.0         190900.0               NaN         2021-03-04   \n",
       "4    117500.0         117500.0           PPT/보고서         2019-11-14   \n",
       "\n",
       "  payment_data  \n",
       "0     PG VBANK  \n",
       "1      PG CARD  \n",
       "2      PG CARD  \n",
       "3      PG CARD  \n",
       "4      PG CARD  "
      ]
     },
     "execution_count": 110,
     "metadata": {},
     "output_type": "execute_result"
    }
   ],
   "source": [
    "payment_data.drop(['pg','method'],axis = 1, inplace = True)\n",
    "payment_data.head()"
   ]
  },
  {
   "cell_type": "code",
   "execution_count": 111,
   "id": "95e7ccaa",
   "metadata": {},
   "outputs": [
    {
     "data": {
      "image/png": "[encoded data removed]",
      "text/plain": [
       "<Figure size 1440x576 with 1 Axes>"
      ]
     },
     "metadata": {
      "needs_background": "light"
     },
     "output_type": "display_data"
    }
   ],
   "source": [
    "plt.figure(figsize=(20,8))\n",
    "sns.histplot(data= payment_data,  x='payment_data')\n",
    "plt.xticks(rotation=-45, fontsize=10)\n",
    "plt.show()"
   ]
  }
 ],
 "metadata": {
  "kernelspec": {
   "display_name": "Python 3 (ipykernel)",
   "language": "python",
   "name": "python3"
  },
  "language_info": {
   "codemirror_mode": {
    "name": "ipython",
    "version": 3
   },
   "file_extension": ".py",
   "mimetype": "text/x-python",
   "name": "python",
   "nbconvert_exporter": "python",
   "pygments_lexer": "ipython3",
   "version": "3.9.7"
  }
 },
 "nbformat": 4,
 "nbformat_minor": 5
}
